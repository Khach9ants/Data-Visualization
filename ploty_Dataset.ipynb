{
 "cells": [
  {
   "cell_type": "code",
   "execution_count": 24,
   "metadata": {
    "ExecuteTime": {
     "end_time": "2025-05-11T14:27:27.064111Z",
     "start_time": "2025-05-11T14:27:27.018350Z"
    },
    "colab": {
     "base_uri": "https://localhost:8080/",
     "height": 206
    },
    "id": "fQCLlYoH_ihY",
    "outputId": "ba5475d2-cfe3-4362-a7c6-ac94e407dd13"
   },
   "outputs": [
    {
     "data": {
      "text/html": [
       "<div>\n",
       "<style scoped>\n",
       "    .dataframe tbody tr th:only-of-type {\n",
       "        vertical-align: middle;\n",
       "    }\n",
       "\n",
       "    .dataframe tbody tr th {\n",
       "        vertical-align: top;\n",
       "    }\n",
       "\n",
       "    .dataframe thead th {\n",
       "        text-align: right;\n",
       "    }\n",
       "</style>\n",
       "<table border=\"1\" class=\"dataframe\">\n",
       "  <thead>\n",
       "    <tr style=\"text-align: right;\">\n",
       "      <th></th>\n",
       "      <th>Order ID</th>\n",
       "      <th>Customer Name</th>\n",
       "      <th>Category</th>\n",
       "      <th>Sub Category</th>\n",
       "      <th>City</th>\n",
       "      <th>Order Date</th>\n",
       "      <th>Region</th>\n",
       "      <th>Sales</th>\n",
       "      <th>Discount</th>\n",
       "      <th>Profit</th>\n",
       "      <th>State</th>\n",
       "    </tr>\n",
       "  </thead>\n",
       "  <tbody>\n",
       "    <tr>\n",
       "      <th>0</th>\n",
       "      <td>OD1</td>\n",
       "      <td>Harish</td>\n",
       "      <td>Oil &amp; Masala</td>\n",
       "      <td>Masalas</td>\n",
       "      <td>Vellore</td>\n",
       "      <td>2017-11-08</td>\n",
       "      <td>North</td>\n",
       "      <td>1254</td>\n",
       "      <td>0.12</td>\n",
       "      <td>401.28</td>\n",
       "      <td>Tamil Nadu</td>\n",
       "    </tr>\n",
       "    <tr>\n",
       "      <th>1</th>\n",
       "      <td>OD2</td>\n",
       "      <td>Sudha</td>\n",
       "      <td>Beverages</td>\n",
       "      <td>Health Drinks</td>\n",
       "      <td>Krishnagiri</td>\n",
       "      <td>2017-11-08</td>\n",
       "      <td>South</td>\n",
       "      <td>749</td>\n",
       "      <td>0.18</td>\n",
       "      <td>149.80</td>\n",
       "      <td>Tamil Nadu</td>\n",
       "    </tr>\n",
       "    <tr>\n",
       "      <th>2</th>\n",
       "      <td>OD3</td>\n",
       "      <td>Hussain</td>\n",
       "      <td>Food Grains</td>\n",
       "      <td>Atta &amp; Flour</td>\n",
       "      <td>Perambalur</td>\n",
       "      <td>2017-06-12</td>\n",
       "      <td>West</td>\n",
       "      <td>2360</td>\n",
       "      <td>0.21</td>\n",
       "      <td>165.20</td>\n",
       "      <td>Tamil Nadu</td>\n",
       "    </tr>\n",
       "    <tr>\n",
       "      <th>3</th>\n",
       "      <td>OD4</td>\n",
       "      <td>Jackson</td>\n",
       "      <td>Fruits &amp; Veggies</td>\n",
       "      <td>Fresh Vegetables</td>\n",
       "      <td>Dharmapuri</td>\n",
       "      <td>2016-10-11</td>\n",
       "      <td>South</td>\n",
       "      <td>896</td>\n",
       "      <td>0.25</td>\n",
       "      <td>89.60</td>\n",
       "      <td>Tamil Nadu</td>\n",
       "    </tr>\n",
       "    <tr>\n",
       "      <th>4</th>\n",
       "      <td>OD5</td>\n",
       "      <td>Ridhesh</td>\n",
       "      <td>Food Grains</td>\n",
       "      <td>Organic Staples</td>\n",
       "      <td>Ooty</td>\n",
       "      <td>2016-10-11</td>\n",
       "      <td>South</td>\n",
       "      <td>2355</td>\n",
       "      <td>0.26</td>\n",
       "      <td>918.45</td>\n",
       "      <td>Tamil Nadu</td>\n",
       "    </tr>\n",
       "  </tbody>\n",
       "</table>\n",
       "</div>"
      ],
      "text/plain": [
       "  Order ID Customer Name          Category      Sub Category         City  \\\n",
       "0      OD1        Harish      Oil & Masala           Masalas      Vellore   \n",
       "1      OD2         Sudha         Beverages     Health Drinks  Krishnagiri   \n",
       "2      OD3       Hussain       Food Grains      Atta & Flour   Perambalur   \n",
       "3      OD4       Jackson  Fruits & Veggies  Fresh Vegetables   Dharmapuri   \n",
       "4      OD5       Ridhesh       Food Grains   Organic Staples         Ooty   \n",
       "\n",
       "  Order Date Region  Sales  Discount  Profit       State  \n",
       "0 2017-11-08  North   1254      0.12  401.28  Tamil Nadu  \n",
       "1 2017-11-08  South    749      0.18  149.80  Tamil Nadu  \n",
       "2 2017-06-12   West   2360      0.21  165.20  Tamil Nadu  \n",
       "3 2016-10-11  South    896      0.25   89.60  Tamil Nadu  \n",
       "4 2016-10-11  South   2355      0.26  918.45  Tamil Nadu  "
      ]
     },
     "execution_count": 24,
     "metadata": {},
     "output_type": "execute_result"
    }
   ],
   "source": [
    "import matplotlib.pyplot as plt\n",
    "import seaborn as sns\n",
    "import pandas as pd\n",
    "import statsmodels\n",
    "import plotly.express as px\n",
    "import plotly.graph_objects as go\n",
    "from plotly.subplots import make_subplots\n",
    "\n",
    "px.defaults.template = \"plotly_dark\"\n",
    "\n",
    "\n",
    "df = pd.read_csv(\"Supermart_Grocery_Dataset.csv\")\n",
    "df['Order Date'] = pd.to_datetime(df['Order Date'], format='mixed')\n",
    "\n",
    "df.head()"
   ]
  },
  {
   "cell_type": "code",
   "execution_count": 25,
   "metadata": {
    "ExecuteTime": {
     "end_time": "2025-05-11T14:27:28.111903Z",
     "start_time": "2025-05-11T14:27:27.918369Z"
    },
    "colab": {
     "base_uri": "https://localhost:8080/",
     "height": 542
    },
    "id": "_YZTShZHc-sV",
    "outputId": "2920dbdd-6e88-4d27-ce38-65eb17127e0c"
   },
   "outputs": [
    {
     "data": {
      "application/vnd.plotly.v1+json": {
       "config": {
        "plotlyServerURL": "https://plot.ly"
       },
       "data": [
        {
         "hovertemplate": "Metric=Sales<br>Month=%{x}<br>Amount=%{y}<extra></extra>",
         "legendgroup": "Sales",
         "line": {
          "color": "#636efa",
          "dash": "solid"
         },
         "marker": {
          "symbol": "circle"
         },
         "mode": "lines",
         "name": "Sales",
         "orientation": "v",
         "showlegend": true,
         "type": "scatter",
         "x": [
          "2015-01-01T00:00:00",
          "2015-02-01T00:00:00",
          "2015-03-01T00:00:00",
          "2015-04-01T00:00:00",
          "2015-05-01T00:00:00",
          "2015-06-01T00:00:00",
          "2015-07-01T00:00:00",
          "2015-08-01T00:00:00",
          "2015-09-01T00:00:00",
          "2015-10-01T00:00:00",
          "2015-11-01T00:00:00",
          "2015-12-01T00:00:00",
          "2016-01-01T00:00:00",
          "2016-02-01T00:00:00",
          "2016-03-01T00:00:00",
          "2016-04-01T00:00:00",
          "2016-05-01T00:00:00",
          "2016-06-01T00:00:00",
          "2016-07-01T00:00:00",
          "2016-08-01T00:00:00",
          "2016-09-01T00:00:00",
          "2016-10-01T00:00:00",
          "2016-11-01T00:00:00",
          "2016-12-01T00:00:00",
          "2017-01-01T00:00:00",
          "2017-02-01T00:00:00",
          "2017-03-01T00:00:00",
          "2017-04-01T00:00:00",
          "2017-05-01T00:00:00",
          "2017-06-01T00:00:00",
          "2017-07-01T00:00:00",
          "2017-08-01T00:00:00",
          "2017-09-01T00:00:00",
          "2017-10-01T00:00:00",
          "2017-11-01T00:00:00",
          "2017-12-01T00:00:00",
          "2018-01-01T00:00:00",
          "2018-02-01T00:00:00",
          "2018-03-01T00:00:00",
          "2018-04-01T00:00:00",
          "2018-05-01T00:00:00",
          "2018-06-01T00:00:00",
          "2018-07-01T00:00:00",
          "2018-08-01T00:00:00",
          "2018-09-01T00:00:00",
          "2018-10-01T00:00:00",
          "2018-11-01T00:00:00",
          "2018-12-01T00:00:00"
         ],
         "xaxis": "x",
         "y": {
          "bdata": "AAAAABDo/UAAAAAA4B7wQAAAAACgKw5BAAAAANDPCEEAAAAAOA0EQQAAAACAJwlBAAAAAND5CkEAAAAAiBgMQQAAAADgUxdBAAAAAPCBDUEAAAAATFsdQQAAAACcChlBAAAAABC79UAAAAAAcCz2QAAAAAAg5glBAAAAAMD2DEEAAAAAEDALQQAAAABgEglBAAAAAABXCkEAAAAAOAUMQQAAAABoORpBAAAAADh5DkEAAAAAYCgdQQAAAADU0hxBAAAAAHgUAEEAAAAAsDsAQQAAAABgKw1BAAAAAOg+DkEAAAAAsEsUQQAAAAD4yRFBAAAAACxCE0EAAAAAyEIPQQAAAABQryBBAAAAAOjMEkEAAAAADtcgQQAAAACMoh9BAAAAAJinDEEAAAAA2EsEQQAAAADgtRVBAAAAABjuEkEAAAAAzGwWQQAAAABYqRVBAAAAABCTFEEAAAAAGDQUQQAAAAAgiSVBAAAAAOgXG0EAAAAAJNskQQAAAAAa+SRB",
          "dtype": "f8"
         },
         "yaxis": "y"
        },
        {
         "hovertemplate": "Metric=Profit<br>Month=%{x}<br>Amount=%{y}<extra></extra>",
         "legendgroup": "Profit",
         "line": {
          "color": "#EF553B",
          "dash": "solid"
         },
         "marker": {
          "symbol": "circle"
         },
         "mode": "lines",
         "name": "Profit",
         "orientation": "v",
         "showlegend": true,
         "type": "scatter",
         "x": [
          "2015-01-01T00:00:00",
          "2015-02-01T00:00:00",
          "2015-03-01T00:00:00",
          "2015-04-01T00:00:00",
          "2015-05-01T00:00:00",
          "2015-06-01T00:00:00",
          "2015-07-01T00:00:00",
          "2015-08-01T00:00:00",
          "2015-09-01T00:00:00",
          "2015-10-01T00:00:00",
          "2015-11-01T00:00:00",
          "2015-12-01T00:00:00",
          "2016-01-01T00:00:00",
          "2016-02-01T00:00:00",
          "2016-03-01T00:00:00",
          "2016-04-01T00:00:00",
          "2016-05-01T00:00:00",
          "2016-06-01T00:00:00",
          "2016-07-01T00:00:00",
          "2016-08-01T00:00:00",
          "2016-09-01T00:00:00",
          "2016-10-01T00:00:00",
          "2016-11-01T00:00:00",
          "2016-12-01T00:00:00",
          "2017-01-01T00:00:00",
          "2017-02-01T00:00:00",
          "2017-03-01T00:00:00",
          "2017-04-01T00:00:00",
          "2017-05-01T00:00:00",
          "2017-06-01T00:00:00",
          "2017-07-01T00:00:00",
          "2017-08-01T00:00:00",
          "2017-09-01T00:00:00",
          "2017-10-01T00:00:00",
          "2017-11-01T00:00:00",
          "2017-12-01T00:00:00",
          "2018-01-01T00:00:00",
          "2018-02-01T00:00:00",
          "2018-03-01T00:00:00",
          "2018-04-01T00:00:00",
          "2018-05-01T00:00:00",
          "2018-06-01T00:00:00",
          "2018-07-01T00:00:00",
          "2018-08-01T00:00:00",
          "2018-09-01T00:00:00",
          "2018-10-01T00:00:00",
          "2018-11-01T00:00:00",
          "2018-12-01T00:00:00"
         ],
         "xaxis": "x",
         "y": {
          "bdata": "AAAAAKDU30CPwvUofLPRQK5H4XrMQPBAZmZmZv476UB7FK5H4X7iQD4K16MQFOlAhetRuI4s6kDhehSuH5PqQK5H4XqUPfdAexSuRyH97kAfhetRDGf+QArXo3C9K/lArkfhetQB1EDhehSu54zXQPYoXI+SWexAzczMzDTP7EDrUbge3WvrQKRwPQoXk+pAmpmZmfnO60AzMzMzK5jsQGZmZmZCk/pA61G4Hr0I7kBSuB6Fy539QI/C9SgEwPxAMzMzMzNU3ECuR+F61OrfQB+F61EAQu1AXI/C9SA17UAzMzMz88XzQHE9CtfbBPFAKVyPwnXk8kD2KFyP1kTwQGZmZmaiugBBuB6F6/Xv8EDhehSuPXUAQSlcj8JvlABBzczMzHyB7UD2KFyPqhjkQMP1KFyfNvRACtejcCXL8kAAAAAAZKL1QBSuR+GSb/VAMzMzM+8n9UAK16NwhVvzQD0K16PWkQVBexSuRykV/EDNzMzM1mgFQVyPwvVSKQVB",
          "dtype": "f8"
         },
         "yaxis": "y"
        }
       ],
       "layout": {
        "legend": {
         "title": {
          "text": "Metric"
         },
         "tracegroupgap": 0
        },
        "template": {
         "data": {
          "bar": [
           {
            "error_x": {
             "color": "#f2f5fa"
            },
            "error_y": {
             "color": "#f2f5fa"
            },
            "marker": {
             "line": {
              "color": "rgb(17,17,17)",
              "width": 0.5
             },
             "pattern": {
              "fillmode": "overlay",
              "size": 10,
              "solidity": 0.2
             }
            },
            "type": "bar"
           }
          ],
          "barpolar": [
           {
            "marker": {
             "line": {
              "color": "rgb(17,17,17)",
              "width": 0.5
             },
             "pattern": {
              "fillmode": "overlay",
              "size": 10,
              "solidity": 0.2
             }
            },
            "type": "barpolar"
           }
          ],
          "carpet": [
           {
            "aaxis": {
             "endlinecolor": "#A2B1C6",
             "gridcolor": "#506784",
             "linecolor": "#506784",
             "minorgridcolor": "#506784",
             "startlinecolor": "#A2B1C6"
            },
            "baxis": {
             "endlinecolor": "#A2B1C6",
             "gridcolor": "#506784",
             "linecolor": "#506784",
             "minorgridcolor": "#506784",
             "startlinecolor": "#A2B1C6"
            },
            "type": "carpet"
           }
          ],
          "choropleth": [
           {
            "colorbar": {
             "outlinewidth": 0,
             "ticks": ""
            },
            "type": "choropleth"
           }
          ],
          "contour": [
           {
            "colorbar": {
             "outlinewidth": 0,
             "ticks": ""
            },
            "colorscale": [
             [
              0,
              "#0d0887"
             ],
             [
              0.1111111111111111,
              "#46039f"
             ],
             [
              0.2222222222222222,
              "#7201a8"
             ],
             [
              0.3333333333333333,
              "#9c179e"
             ],
             [
              0.4444444444444444,
              "#bd3786"
             ],
             [
              0.5555555555555556,
              "#d8576b"
             ],
             [
              0.6666666666666666,
              "#ed7953"
             ],
             [
              0.7777777777777778,
              "#fb9f3a"
             ],
             [
              0.8888888888888888,
              "#fdca26"
             ],
             [
              1,
              "#f0f921"
             ]
            ],
            "type": "contour"
           }
          ],
          "contourcarpet": [
           {
            "colorbar": {
             "outlinewidth": 0,
             "ticks": ""
            },
            "type": "contourcarpet"
           }
          ],
          "heatmap": [
           {
            "colorbar": {
             "outlinewidth": 0,
             "ticks": ""
            },
            "colorscale": [
             [
              0,
              "#0d0887"
             ],
             [
              0.1111111111111111,
              "#46039f"
             ],
             [
              0.2222222222222222,
              "#7201a8"
             ],
             [
              0.3333333333333333,
              "#9c179e"
             ],
             [
              0.4444444444444444,
              "#bd3786"
             ],
             [
              0.5555555555555556,
              "#d8576b"
             ],
             [
              0.6666666666666666,
              "#ed7953"
             ],
             [
              0.7777777777777778,
              "#fb9f3a"
             ],
             [
              0.8888888888888888,
              "#fdca26"
             ],
             [
              1,
              "#f0f921"
             ]
            ],
            "type": "heatmap"
           }
          ],
          "histogram": [
           {
            "marker": {
             "pattern": {
              "fillmode": "overlay",
              "size": 10,
              "solidity": 0.2
             }
            },
            "type": "histogram"
           }
          ],
          "histogram2d": [
           {
            "colorbar": {
             "outlinewidth": 0,
             "ticks": ""
            },
            "colorscale": [
             [
              0,
              "#0d0887"
             ],
             [
              0.1111111111111111,
              "#46039f"
             ],
             [
              0.2222222222222222,
              "#7201a8"
             ],
             [
              0.3333333333333333,
              "#9c179e"
             ],
             [
              0.4444444444444444,
              "#bd3786"
             ],
             [
              0.5555555555555556,
              "#d8576b"
             ],
             [
              0.6666666666666666,
              "#ed7953"
             ],
             [
              0.7777777777777778,
              "#fb9f3a"
             ],
             [
              0.8888888888888888,
              "#fdca26"
             ],
             [
              1,
              "#f0f921"
             ]
            ],
            "type": "histogram2d"
           }
          ],
          "histogram2dcontour": [
           {
            "colorbar": {
             "outlinewidth": 0,
             "ticks": ""
            },
            "colorscale": [
             [
              0,
              "#0d0887"
             ],
             [
              0.1111111111111111,
              "#46039f"
             ],
             [
              0.2222222222222222,
              "#7201a8"
             ],
             [
              0.3333333333333333,
              "#9c179e"
             ],
             [
              0.4444444444444444,
              "#bd3786"
             ],
             [
              0.5555555555555556,
              "#d8576b"
             ],
             [
              0.6666666666666666,
              "#ed7953"
             ],
             [
              0.7777777777777778,
              "#fb9f3a"
             ],
             [
              0.8888888888888888,
              "#fdca26"
             ],
             [
              1,
              "#f0f921"
             ]
            ],
            "type": "histogram2dcontour"
           }
          ],
          "mesh3d": [
           {
            "colorbar": {
             "outlinewidth": 0,
             "ticks": ""
            },
            "type": "mesh3d"
           }
          ],
          "parcoords": [
           {
            "line": {
             "colorbar": {
              "outlinewidth": 0,
              "ticks": ""
             }
            },
            "type": "parcoords"
           }
          ],
          "pie": [
           {
            "automargin": true,
            "type": "pie"
           }
          ],
          "scatter": [
           {
            "marker": {
             "line": {
              "color": "#283442"
             }
            },
            "type": "scatter"
           }
          ],
          "scatter3d": [
           {
            "line": {
             "colorbar": {
              "outlinewidth": 0,
              "ticks": ""
             }
            },
            "marker": {
             "colorbar": {
              "outlinewidth": 0,
              "ticks": ""
             }
            },
            "type": "scatter3d"
           }
          ],
          "scattercarpet": [
           {
            "marker": {
             "colorbar": {
              "outlinewidth": 0,
              "ticks": ""
             }
            },
            "type": "scattercarpet"
           }
          ],
          "scattergeo": [
           {
            "marker": {
             "colorbar": {
              "outlinewidth": 0,
              "ticks": ""
             }
            },
            "type": "scattergeo"
           }
          ],
          "scattergl": [
           {
            "marker": {
             "line": {
              "color": "#283442"
             }
            },
            "type": "scattergl"
           }
          ],
          "scattermap": [
           {
            "marker": {
             "colorbar": {
              "outlinewidth": 0,
              "ticks": ""
             }
            },
            "type": "scattermap"
           }
          ],
          "scattermapbox": [
           {
            "marker": {
             "colorbar": {
              "outlinewidth": 0,
              "ticks": ""
             }
            },
            "type": "scattermapbox"
           }
          ],
          "scatterpolar": [
           {
            "marker": {
             "colorbar": {
              "outlinewidth": 0,
              "ticks": ""
             }
            },
            "type": "scatterpolar"
           }
          ],
          "scatterpolargl": [
           {
            "marker": {
             "colorbar": {
              "outlinewidth": 0,
              "ticks": ""
             }
            },
            "type": "scatterpolargl"
           }
          ],
          "scatterternary": [
           {
            "marker": {
             "colorbar": {
              "outlinewidth": 0,
              "ticks": ""
             }
            },
            "type": "scatterternary"
           }
          ],
          "surface": [
           {
            "colorbar": {
             "outlinewidth": 0,
             "ticks": ""
            },
            "colorscale": [
             [
              0,
              "#0d0887"
             ],
             [
              0.1111111111111111,
              "#46039f"
             ],
             [
              0.2222222222222222,
              "#7201a8"
             ],
             [
              0.3333333333333333,
              "#9c179e"
             ],
             [
              0.4444444444444444,
              "#bd3786"
             ],
             [
              0.5555555555555556,
              "#d8576b"
             ],
             [
              0.6666666666666666,
              "#ed7953"
             ],
             [
              0.7777777777777778,
              "#fb9f3a"
             ],
             [
              0.8888888888888888,
              "#fdca26"
             ],
             [
              1,
              "#f0f921"
             ]
            ],
            "type": "surface"
           }
          ],
          "table": [
           {
            "cells": {
             "fill": {
              "color": "#506784"
             },
             "line": {
              "color": "rgb(17,17,17)"
             }
            },
            "header": {
             "fill": {
              "color": "#2a3f5f"
             },
             "line": {
              "color": "rgb(17,17,17)"
             }
            },
            "type": "table"
           }
          ]
         },
         "layout": {
          "annotationdefaults": {
           "arrowcolor": "#f2f5fa",
           "arrowhead": 0,
           "arrowwidth": 1
          },
          "autotypenumbers": "strict",
          "coloraxis": {
           "colorbar": {
            "outlinewidth": 0,
            "ticks": ""
           }
          },
          "colorscale": {
           "diverging": [
            [
             0,
             "#8e0152"
            ],
            [
             0.1,
             "#c51b7d"
            ],
            [
             0.2,
             "#de77ae"
            ],
            [
             0.3,
             "#f1b6da"
            ],
            [
             0.4,
             "#fde0ef"
            ],
            [
             0.5,
             "#f7f7f7"
            ],
            [
             0.6,
             "#e6f5d0"
            ],
            [
             0.7,
             "#b8e186"
            ],
            [
             0.8,
             "#7fbc41"
            ],
            [
             0.9,
             "#4d9221"
            ],
            [
             1,
             "#276419"
            ]
           ],
           "sequential": [
            [
             0,
             "#0d0887"
            ],
            [
             0.1111111111111111,
             "#46039f"
            ],
            [
             0.2222222222222222,
             "#7201a8"
            ],
            [
             0.3333333333333333,
             "#9c179e"
            ],
            [
             0.4444444444444444,
             "#bd3786"
            ],
            [
             0.5555555555555556,
             "#d8576b"
            ],
            [
             0.6666666666666666,
             "#ed7953"
            ],
            [
             0.7777777777777778,
             "#fb9f3a"
            ],
            [
             0.8888888888888888,
             "#fdca26"
            ],
            [
             1,
             "#f0f921"
            ]
           ],
           "sequentialminus": [
            [
             0,
             "#0d0887"
            ],
            [
             0.1111111111111111,
             "#46039f"
            ],
            [
             0.2222222222222222,
             "#7201a8"
            ],
            [
             0.3333333333333333,
             "#9c179e"
            ],
            [
             0.4444444444444444,
             "#bd3786"
            ],
            [
             0.5555555555555556,
             "#d8576b"
            ],
            [
             0.6666666666666666,
             "#ed7953"
            ],
            [
             0.7777777777777778,
             "#fb9f3a"
            ],
            [
             0.8888888888888888,
             "#fdca26"
            ],
            [
             1,
             "#f0f921"
            ]
           ]
          },
          "colorway": [
           "#636efa",
           "#EF553B",
           "#00cc96",
           "#ab63fa",
           "#FFA15A",
           "#19d3f3",
           "#FF6692",
           "#B6E880",
           "#FF97FF",
           "#FECB52"
          ],
          "font": {
           "color": "#f2f5fa"
          },
          "geo": {
           "bgcolor": "rgb(17,17,17)",
           "lakecolor": "rgb(17,17,17)",
           "landcolor": "rgb(17,17,17)",
           "showlakes": true,
           "showland": true,
           "subunitcolor": "#506784"
          },
          "hoverlabel": {
           "align": "left"
          },
          "hovermode": "closest",
          "mapbox": {
           "style": "dark"
          },
          "paper_bgcolor": "rgb(17,17,17)",
          "plot_bgcolor": "rgb(17,17,17)",
          "polar": {
           "angularaxis": {
            "gridcolor": "#506784",
            "linecolor": "#506784",
            "ticks": ""
           },
           "bgcolor": "rgb(17,17,17)",
           "radialaxis": {
            "gridcolor": "#506784",
            "linecolor": "#506784",
            "ticks": ""
           }
          },
          "scene": {
           "xaxis": {
            "backgroundcolor": "rgb(17,17,17)",
            "gridcolor": "#506784",
            "gridwidth": 2,
            "linecolor": "#506784",
            "showbackground": true,
            "ticks": "",
            "zerolinecolor": "#C8D4E3"
           },
           "yaxis": {
            "backgroundcolor": "rgb(17,17,17)",
            "gridcolor": "#506784",
            "gridwidth": 2,
            "linecolor": "#506784",
            "showbackground": true,
            "ticks": "",
            "zerolinecolor": "#C8D4E3"
           },
           "zaxis": {
            "backgroundcolor": "rgb(17,17,17)",
            "gridcolor": "#506784",
            "gridwidth": 2,
            "linecolor": "#506784",
            "showbackground": true,
            "ticks": "",
            "zerolinecolor": "#C8D4E3"
           }
          },
          "shapedefaults": {
           "line": {
            "color": "#f2f5fa"
           }
          },
          "sliderdefaults": {
           "bgcolor": "#C8D4E3",
           "bordercolor": "rgb(17,17,17)",
           "borderwidth": 1,
           "tickwidth": 0
          },
          "ternary": {
           "aaxis": {
            "gridcolor": "#506784",
            "linecolor": "#506784",
            "ticks": ""
           },
           "baxis": {
            "gridcolor": "#506784",
            "linecolor": "#506784",
            "ticks": ""
           },
           "bgcolor": "rgb(17,17,17)",
           "caxis": {
            "gridcolor": "#506784",
            "linecolor": "#506784",
            "ticks": ""
           }
          },
          "title": {
           "x": 0.05
          },
          "updatemenudefaults": {
           "bgcolor": "#506784",
           "borderwidth": 0
          },
          "xaxis": {
           "automargin": true,
           "gridcolor": "#283442",
           "linecolor": "#506784",
           "ticks": "",
           "title": {
            "standoff": 15
           },
           "zerolinecolor": "#283442",
           "zerolinewidth": 2
          },
          "yaxis": {
           "automargin": true,
           "gridcolor": "#283442",
           "linecolor": "#506784",
           "ticks": "",
           "title": {
            "standoff": 15
           },
           "zerolinecolor": "#283442",
           "zerolinewidth": 2
          }
         }
        },
        "title": {
         "text": "Monthly Sales and Profit Trends"
        },
        "xaxis": {
         "anchor": "y",
         "domain": [
          0,
          1
         ],
         "title": {
          "text": "Month"
         }
        },
        "yaxis": {
         "anchor": "x",
         "domain": [
          0,
          1
         ],
         "title": {
          "text": "Amount (₹)"
         }
        }
       }
      }
     },
     "metadata": {},
     "output_type": "display_data"
    }
   ],
   "source": [
    "df['Month'] = df['Order Date'].dt.to_period('M').dt.to_timestamp()\n",
    "monthly_data = df.groupby('Month')[['Sales', 'Profit']].sum().reset_index()\n",
    "\n",
    "fig = px.line(monthly_data, x='Month', y=['Sales', 'Profit'],\n",
    "              title='Monthly Sales and Profit Trends',\n",
    "              labels={'value': 'Amount', 'variable': 'Metric'})\n",
    "fig.update_layout(yaxis_title='Amount (₹)')\n",
    "fig.show()"
   ]
  },
  {
   "cell_type": "code",
   "execution_count": 26,
   "metadata": {
    "ExecuteTime": {
     "end_time": "2025-05-11T14:27:29.391603Z",
     "start_time": "2025-05-11T14:27:29.329493Z"
    },
    "colab": {
     "base_uri": "https://localhost:8080/",
     "height": 542
    },
    "id": "J0st7eoTdEYB",
    "outputId": "9032bb5c-6ab8-4050-d818-822c5143fc3d"
   },
   "outputs": [
    {
     "data": {
      "application/vnd.plotly.v1+json": {
       "config": {
        "plotlyServerURL": "https://plot.ly"
       },
       "data": [
        {
         "branchvalues": "total",
         "customdata": {
          "bdata": "ERyZUNcnm0DPPMHen4SaQFtYVfdT+5pAcYCGttyAmkDN1hBzd9iaQH6l70gJoJpAUWEpsB8Vm0Cg8nNAChabQJA58MNbgJpAuubDy2YEm0Aa4WlafH2aQJ6AIhqf75pAE/W8+hWcmkDDa2qpyJSbQNpltdr1NptAPWTDTr1Em0DeyiLFUeKaQM1/TkgCxZpAXqEjiPd9mkCA6bvXCf6aQNzH7Yu8I5tAkEV6x7LfmkC6RCuB2oGaQH9DHK2u+JpAzn0ElgrdmkCtvVdpxf2aQNJ7OhN8oJpAuijGuqXhmkC0jTWo75WaQACsP1j6JJtA",
          "dtype": "f8",
          "shape": "30, 1"
         },
         "domain": {
          "x": [
           0,
           1
          ],
          "y": [
           0,
           1
          ]
         },
         "hovertemplate": "labels=%{label}<br>Sales_sum=%{value}<br>parent=%{parent}<br>id=%{id}<br>Sales=%{color}<extra></extra>",
         "ids": [
          "Oil & Masala/Masalas",
          "Beverages/Health Drinks",
          "Food Grains/Atta & Flour",
          "Fruits & Veggies/Fresh Vegetables",
          "Food Grains/Organic Staples",
          "Fruits & Veggies/Fresh Fruits",
          "Bakery/Biscuits",
          "Bakery/Cakes",
          "Snacks/Chocolates",
          "Eggs, Meat & Fish/Eggs",
          "Snacks/Cookies",
          "Eggs, Meat & Fish/Chicken",
          "Oil & Masala/Edible Oil & Ghee",
          "Eggs, Meat & Fish/Mutton",
          "Beverages/Soft Drinks",
          "Food Grains/Dals & Pulses",
          "Fruits & Veggies/Organic Vegetables",
          "Snacks/Noodles",
          "Fruits & Veggies/Organic Fruits",
          "Eggs, Meat & Fish/Fish",
          "Oil & Masala/Spices",
          "Food Grains/Rice",
          "Bakery/Breads & Buns",
          "Oil & Masala",
          "Beverages",
          "Food Grains",
          "Fruits & Veggies",
          "Bakery",
          "Snacks",
          "Eggs, Meat & Fish"
         ],
         "labels": [
          "Masalas",
          "Health Drinks",
          "Atta & Flour",
          "Fresh Vegetables",
          "Organic Staples",
          "Fresh Fruits",
          "Biscuits",
          "Cakes",
          "Chocolates",
          "Eggs",
          "Cookies",
          "Chicken",
          "Edible Oil & Ghee",
          "Mutton",
          "Soft Drinks",
          "Dals & Pulses",
          "Organic Vegetables",
          "Noodles",
          "Organic Fruits",
          "Fish",
          "Spices",
          "Rice",
          "Breads & Buns",
          "Oil & Masala",
          "Beverages",
          "Food Grains",
          "Fruits & Veggies",
          "Bakery",
          "Snacks",
          "Eggs, Meat & Fish"
         ],
         "marker": {
          "coloraxis": "coloraxis",
          "colors": {
           "bdata": "ERyZUNcnm0DPPMHen4SaQFtYVfdT+5pAcYCGttyAmkDN1hBzd9iaQH6l70gJoJpAUWEpsB8Vm0Cg8nNAChabQJA58MNbgJpAuubDy2YEm0Aa4WlafH2aQJ6AIhqf75pAE/W8+hWcmkDDa2qpyJSbQNpltdr1NptAPWTDTr1Em0DeyiLFUeKaQM1/TkgCxZpAXqEjiPd9mkCA6bvXCf6aQNzH7Yu8I5tAkEV6x7LfmkC6RCuB2oGaQH9DHK2u+JpAzn0ElgrdmkCtvVdpxf2aQNJ7OhN8oJpAuijGuqXhmkC0jTWo75WaQACsP1j6JJtA",
           "dtype": "f8"
          }
         },
         "name": "",
         "parents": [
          "Oil & Masala",
          "Beverages",
          "Food Grains",
          "Fruits & Veggies",
          "Food Grains",
          "Fruits & Veggies",
          "Bakery",
          "Bakery",
          "Snacks",
          "Eggs, Meat & Fish",
          "Snacks",
          "Eggs, Meat & Fish",
          "Oil & Masala",
          "Eggs, Meat & Fish",
          "Beverages",
          "Food Grains",
          "Fruits & Veggies",
          "Snacks",
          "Fruits & Veggies",
          "Eggs, Meat & Fish",
          "Oil & Masala",
          "Food Grains",
          "Bakery",
          "",
          "",
          "",
          "",
          "",
          "",
          ""
         ],
         "type": "treemap",
         "values": {
          "bdata": "AAAAABBJJUEAAAAALwswQQAAAADyUCBBAAAAACQMIEEAAAAAog4hQQAAAABY0iBBAAAAAGbgJEEAAAAAWOwkQQAAAACUZSZBAAAAAGiNIUEAAAAAqnEnQQAAAADExB9BAAAAAGxjJEEAAAAAAKciQQAAAAAkjS9BAAAAAKzxH0EAAAAAPMEfQQAAAACWcSZBAAAAAKi5HkEAAAAASBshQQAAAADYiCRBAAAAAExqHkEAAAAAdKkmQQAAAACqGj9BAAAAAMHRP0EAAAAAZCNAQQAAAID7BkBBAAAAgIwdQEEAAAAANRJBQQAAAICETEFB",
          "dtype": "f8"
         }
        }
       ],
       "layout": {
        "coloraxis": {
         "colorbar": {
          "title": {
           "text": "Sales"
          }
         },
         "colorscale": [
          [
           0,
           "#440154"
          ],
          [
           0.1111111111111111,
           "#482878"
          ],
          [
           0.2222222222222222,
           "#3e4989"
          ],
          [
           0.3333333333333333,
           "#31688e"
          ],
          [
           0.4444444444444444,
           "#26828e"
          ],
          [
           0.5555555555555556,
           "#1f9e89"
          ],
          [
           0.6666666666666666,
           "#35b779"
          ],
          [
           0.7777777777777778,
           "#6ece58"
          ],
          [
           0.8888888888888888,
           "#b5de2b"
          ],
          [
           1,
           "#fde725"
          ]
         ]
        },
        "legend": {
         "tracegroupgap": 0
        },
        "template": {
         "data": {
          "bar": [
           {
            "error_x": {
             "color": "#f2f5fa"
            },
            "error_y": {
             "color": "#f2f5fa"
            },
            "marker": {
             "line": {
              "color": "rgb(17,17,17)",
              "width": 0.5
             },
             "pattern": {
              "fillmode": "overlay",
              "size": 10,
              "solidity": 0.2
             }
            },
            "type": "bar"
           }
          ],
          "barpolar": [
           {
            "marker": {
             "line": {
              "color": "rgb(17,17,17)",
              "width": 0.5
             },
             "pattern": {
              "fillmode": "overlay",
              "size": 10,
              "solidity": 0.2
             }
            },
            "type": "barpolar"
           }
          ],
          "carpet": [
           {
            "aaxis": {
             "endlinecolor": "#A2B1C6",
             "gridcolor": "#506784",
             "linecolor": "#506784",
             "minorgridcolor": "#506784",
             "startlinecolor": "#A2B1C6"
            },
            "baxis": {
             "endlinecolor": "#A2B1C6",
             "gridcolor": "#506784",
             "linecolor": "#506784",
             "minorgridcolor": "#506784",
             "startlinecolor": "#A2B1C6"
            },
            "type": "carpet"
           }
          ],
          "choropleth": [
           {
            "colorbar": {
             "outlinewidth": 0,
             "ticks": ""
            },
            "type": "choropleth"
           }
          ],
          "contour": [
           {
            "colorbar": {
             "outlinewidth": 0,
             "ticks": ""
            },
            "colorscale": [
             [
              0,
              "#0d0887"
             ],
             [
              0.1111111111111111,
              "#46039f"
             ],
             [
              0.2222222222222222,
              "#7201a8"
             ],
             [
              0.3333333333333333,
              "#9c179e"
             ],
             [
              0.4444444444444444,
              "#bd3786"
             ],
             [
              0.5555555555555556,
              "#d8576b"
             ],
             [
              0.6666666666666666,
              "#ed7953"
             ],
             [
              0.7777777777777778,
              "#fb9f3a"
             ],
             [
              0.8888888888888888,
              "#fdca26"
             ],
             [
              1,
              "#f0f921"
             ]
            ],
            "type": "contour"
           }
          ],
          "contourcarpet": [
           {
            "colorbar": {
             "outlinewidth": 0,
             "ticks": ""
            },
            "type": "contourcarpet"
           }
          ],
          "heatmap": [
           {
            "colorbar": {
             "outlinewidth": 0,
             "ticks": ""
            },
            "colorscale": [
             [
              0,
              "#0d0887"
             ],
             [
              0.1111111111111111,
              "#46039f"
             ],
             [
              0.2222222222222222,
              "#7201a8"
             ],
             [
              0.3333333333333333,
              "#9c179e"
             ],
             [
              0.4444444444444444,
              "#bd3786"
             ],
             [
              0.5555555555555556,
              "#d8576b"
             ],
             [
              0.6666666666666666,
              "#ed7953"
             ],
             [
              0.7777777777777778,
              "#fb9f3a"
             ],
             [
              0.8888888888888888,
              "#fdca26"
             ],
             [
              1,
              "#f0f921"
             ]
            ],
            "type": "heatmap"
           }
          ],
          "histogram": [
           {
            "marker": {
             "pattern": {
              "fillmode": "overlay",
              "size": 10,
              "solidity": 0.2
             }
            },
            "type": "histogram"
           }
          ],
          "histogram2d": [
           {
            "colorbar": {
             "outlinewidth": 0,
             "ticks": ""
            },
            "colorscale": [
             [
              0,
              "#0d0887"
             ],
             [
              0.1111111111111111,
              "#46039f"
             ],
             [
              0.2222222222222222,
              "#7201a8"
             ],
             [
              0.3333333333333333,
              "#9c179e"
             ],
             [
              0.4444444444444444,
              "#bd3786"
             ],
             [
              0.5555555555555556,
              "#d8576b"
             ],
             [
              0.6666666666666666,
              "#ed7953"
             ],
             [
              0.7777777777777778,
              "#fb9f3a"
             ],
             [
              0.8888888888888888,
              "#fdca26"
             ],
             [
              1,
              "#f0f921"
             ]
            ],
            "type": "histogram2d"
           }
          ],
          "histogram2dcontour": [
           {
            "colorbar": {
             "outlinewidth": 0,
             "ticks": ""
            },
            "colorscale": [
             [
              0,
              "#0d0887"
             ],
             [
              0.1111111111111111,
              "#46039f"
             ],
             [
              0.2222222222222222,
              "#7201a8"
             ],
             [
              0.3333333333333333,
              "#9c179e"
             ],
             [
              0.4444444444444444,
              "#bd3786"
             ],
             [
              0.5555555555555556,
              "#d8576b"
             ],
             [
              0.6666666666666666,
              "#ed7953"
             ],
             [
              0.7777777777777778,
              "#fb9f3a"
             ],
             [
              0.8888888888888888,
              "#fdca26"
             ],
             [
              1,
              "#f0f921"
             ]
            ],
            "type": "histogram2dcontour"
           }
          ],
          "mesh3d": [
           {
            "colorbar": {
             "outlinewidth": 0,
             "ticks": ""
            },
            "type": "mesh3d"
           }
          ],
          "parcoords": [
           {
            "line": {
             "colorbar": {
              "outlinewidth": 0,
              "ticks": ""
             }
            },
            "type": "parcoords"
           }
          ],
          "pie": [
           {
            "automargin": true,
            "type": "pie"
           }
          ],
          "scatter": [
           {
            "marker": {
             "line": {
              "color": "#283442"
             }
            },
            "type": "scatter"
           }
          ],
          "scatter3d": [
           {
            "line": {
             "colorbar": {
              "outlinewidth": 0,
              "ticks": ""
             }
            },
            "marker": {
             "colorbar": {
              "outlinewidth": 0,
              "ticks": ""
             }
            },
            "type": "scatter3d"
           }
          ],
          "scattercarpet": [
           {
            "marker": {
             "colorbar": {
              "outlinewidth": 0,
              "ticks": ""
             }
            },
            "type": "scattercarpet"
           }
          ],
          "scattergeo": [
           {
            "marker": {
             "colorbar": {
              "outlinewidth": 0,
              "ticks": ""
             }
            },
            "type": "scattergeo"
           }
          ],
          "scattergl": [
           {
            "marker": {
             "line": {
              "color": "#283442"
             }
            },
            "type": "scattergl"
           }
          ],
          "scattermap": [
           {
            "marker": {
             "colorbar": {
              "outlinewidth": 0,
              "ticks": ""
             }
            },
            "type": "scattermap"
           }
          ],
          "scattermapbox": [
           {
            "marker": {
             "colorbar": {
              "outlinewidth": 0,
              "ticks": ""
             }
            },
            "type": "scattermapbox"
           }
          ],
          "scatterpolar": [
           {
            "marker": {
             "colorbar": {
              "outlinewidth": 0,
              "ticks": ""
             }
            },
            "type": "scatterpolar"
           }
          ],
          "scatterpolargl": [
           {
            "marker": {
             "colorbar": {
              "outlinewidth": 0,
              "ticks": ""
             }
            },
            "type": "scatterpolargl"
           }
          ],
          "scatterternary": [
           {
            "marker": {
             "colorbar": {
              "outlinewidth": 0,
              "ticks": ""
             }
            },
            "type": "scatterternary"
           }
          ],
          "surface": [
           {
            "colorbar": {
             "outlinewidth": 0,
             "ticks": ""
            },
            "colorscale": [
             [
              0,
              "#0d0887"
             ],
             [
              0.1111111111111111,
              "#46039f"
             ],
             [
              0.2222222222222222,
              "#7201a8"
             ],
             [
              0.3333333333333333,
              "#9c179e"
             ],
             [
              0.4444444444444444,
              "#bd3786"
             ],
             [
              0.5555555555555556,
              "#d8576b"
             ],
             [
              0.6666666666666666,
              "#ed7953"
             ],
             [
              0.7777777777777778,
              "#fb9f3a"
             ],
             [
              0.8888888888888888,
              "#fdca26"
             ],
             [
              1,
              "#f0f921"
             ]
            ],
            "type": "surface"
           }
          ],
          "table": [
           {
            "cells": {
             "fill": {
              "color": "#506784"
             },
             "line": {
              "color": "rgb(17,17,17)"
             }
            },
            "header": {
             "fill": {
              "color": "#2a3f5f"
             },
             "line": {
              "color": "rgb(17,17,17)"
             }
            },
            "type": "table"
           }
          ]
         },
         "layout": {
          "annotationdefaults": {
           "arrowcolor": "#f2f5fa",
           "arrowhead": 0,
           "arrowwidth": 1
          },
          "autotypenumbers": "strict",
          "coloraxis": {
           "colorbar": {
            "outlinewidth": 0,
            "ticks": ""
           }
          },
          "colorscale": {
           "diverging": [
            [
             0,
             "#8e0152"
            ],
            [
             0.1,
             "#c51b7d"
            ],
            [
             0.2,
             "#de77ae"
            ],
            [
             0.3,
             "#f1b6da"
            ],
            [
             0.4,
             "#fde0ef"
            ],
            [
             0.5,
             "#f7f7f7"
            ],
            [
             0.6,
             "#e6f5d0"
            ],
            [
             0.7,
             "#b8e186"
            ],
            [
             0.8,
             "#7fbc41"
            ],
            [
             0.9,
             "#4d9221"
            ],
            [
             1,
             "#276419"
            ]
           ],
           "sequential": [
            [
             0,
             "#0d0887"
            ],
            [
             0.1111111111111111,
             "#46039f"
            ],
            [
             0.2222222222222222,
             "#7201a8"
            ],
            [
             0.3333333333333333,
             "#9c179e"
            ],
            [
             0.4444444444444444,
             "#bd3786"
            ],
            [
             0.5555555555555556,
             "#d8576b"
            ],
            [
             0.6666666666666666,
             "#ed7953"
            ],
            [
             0.7777777777777778,
             "#fb9f3a"
            ],
            [
             0.8888888888888888,
             "#fdca26"
            ],
            [
             1,
             "#f0f921"
            ]
           ],
           "sequentialminus": [
            [
             0,
             "#0d0887"
            ],
            [
             0.1111111111111111,
             "#46039f"
            ],
            [
             0.2222222222222222,
             "#7201a8"
            ],
            [
             0.3333333333333333,
             "#9c179e"
            ],
            [
             0.4444444444444444,
             "#bd3786"
            ],
            [
             0.5555555555555556,
             "#d8576b"
            ],
            [
             0.6666666666666666,
             "#ed7953"
            ],
            [
             0.7777777777777778,
             "#fb9f3a"
            ],
            [
             0.8888888888888888,
             "#fdca26"
            ],
            [
             1,
             "#f0f921"
            ]
           ]
          },
          "colorway": [
           "#636efa",
           "#EF553B",
           "#00cc96",
           "#ab63fa",
           "#FFA15A",
           "#19d3f3",
           "#FF6692",
           "#B6E880",
           "#FF97FF",
           "#FECB52"
          ],
          "font": {
           "color": "#f2f5fa"
          },
          "geo": {
           "bgcolor": "rgb(17,17,17)",
           "lakecolor": "rgb(17,17,17)",
           "landcolor": "rgb(17,17,17)",
           "showlakes": true,
           "showland": true,
           "subunitcolor": "#506784"
          },
          "hoverlabel": {
           "align": "left"
          },
          "hovermode": "closest",
          "mapbox": {
           "style": "dark"
          },
          "paper_bgcolor": "rgb(17,17,17)",
          "plot_bgcolor": "rgb(17,17,17)",
          "polar": {
           "angularaxis": {
            "gridcolor": "#506784",
            "linecolor": "#506784",
            "ticks": ""
           },
           "bgcolor": "rgb(17,17,17)",
           "radialaxis": {
            "gridcolor": "#506784",
            "linecolor": "#506784",
            "ticks": ""
           }
          },
          "scene": {
           "xaxis": {
            "backgroundcolor": "rgb(17,17,17)",
            "gridcolor": "#506784",
            "gridwidth": 2,
            "linecolor": "#506784",
            "showbackground": true,
            "ticks": "",
            "zerolinecolor": "#C8D4E3"
           },
           "yaxis": {
            "backgroundcolor": "rgb(17,17,17)",
            "gridcolor": "#506784",
            "gridwidth": 2,
            "linecolor": "#506784",
            "showbackground": true,
            "ticks": "",
            "zerolinecolor": "#C8D4E3"
           },
           "zaxis": {
            "backgroundcolor": "rgb(17,17,17)",
            "gridcolor": "#506784",
            "gridwidth": 2,
            "linecolor": "#506784",
            "showbackground": true,
            "ticks": "",
            "zerolinecolor": "#C8D4E3"
           }
          },
          "shapedefaults": {
           "line": {
            "color": "#f2f5fa"
           }
          },
          "sliderdefaults": {
           "bgcolor": "#C8D4E3",
           "bordercolor": "rgb(17,17,17)",
           "borderwidth": 1,
           "tickwidth": 0
          },
          "ternary": {
           "aaxis": {
            "gridcolor": "#506784",
            "linecolor": "#506784",
            "ticks": ""
           },
           "baxis": {
            "gridcolor": "#506784",
            "linecolor": "#506784",
            "ticks": ""
           },
           "bgcolor": "rgb(17,17,17)",
           "caxis": {
            "gridcolor": "#506784",
            "linecolor": "#506784",
            "ticks": ""
           }
          },
          "title": {
           "x": 0.05
          },
          "updatemenudefaults": {
           "bgcolor": "#506784",
           "borderwidth": 0
          },
          "xaxis": {
           "automargin": true,
           "gridcolor": "#283442",
           "linecolor": "#506784",
           "ticks": "",
           "title": {
            "standoff": 15
           },
           "zerolinecolor": "#283442",
           "zerolinewidth": 2
          },
          "yaxis": {
           "automargin": true,
           "gridcolor": "#283442",
           "linecolor": "#506784",
           "ticks": "",
           "title": {
            "standoff": 15
           },
           "zerolinecolor": "#283442",
           "zerolinewidth": 2
          }
         }
        },
        "title": {
         "text": "Sales Breakdown by Category and Subcategory"
        }
       }
      }
     },
     "metadata": {},
     "output_type": "display_data"
    }
   ],
   "source": [
    "fig = px.treemap(df, path=['Category', 'Sub Category'], values='Sales',\n",
    "                 title='Sales Breakdown by Category and Subcategory',\n",
    "                 color='Sales', color_continuous_scale='Viridis')\n",
    "fig.show()"
   ]
  },
  {
   "cell_type": "code",
   "execution_count": 27,
   "metadata": {
    "ExecuteTime": {
     "end_time": "2025-05-11T14:27:30.365514Z",
     "start_time": "2025-05-11T14:27:30.317664Z"
    },
    "colab": {
     "base_uri": "https://localhost:8080/",
     "height": 542
    },
    "id": "Zu_U01wQdPUx",
    "outputId": "4401262b-bcc7-4b40-ab78-7c29152b2315"
   },
   "outputs": [
    {
     "data": {
      "application/vnd.plotly.v1+json": {
       "config": {
        "plotlyServerURL": "https://plot.ly"
       },
       "data": [
        {
         "hovertemplate": "Region=%{x}<br>Total Sales (₹)=%{marker.color}<extra></extra>",
         "legendgroup": "",
         "marker": {
          "color": {
           "bdata": "fOs0ADDTQADmBAAADT0lABc5SQA=",
           "dtype": "i4"
          },
          "coloraxis": "coloraxis",
          "pattern": {
           "shape": ""
          }
         },
         "name": "",
         "orientation": "v",
         "showlegend": false,
         "textposition": "auto",
         "type": "bar",
         "x": [
          "Central",
          "East",
          "North",
          "South",
          "West"
         ],
         "xaxis": "x",
         "y": {
          "bdata": "fOs0ADDTQADmBAAADT0lABc5SQA=",
          "dtype": "i4"
         },
         "yaxis": "y"
        }
       ],
       "layout": {
        "barmode": "relative",
        "coloraxis": {
         "colorbar": {
          "title": {
           "text": "Total Sales (₹)"
          }
         },
         "colorscale": [
          [
           0,
           "rgb(247,251,255)"
          ],
          [
           0.125,
           "rgb(222,235,247)"
          ],
          [
           0.25,
           "rgb(198,219,239)"
          ],
          [
           0.375,
           "rgb(158,202,225)"
          ],
          [
           0.5,
           "rgb(107,174,214)"
          ],
          [
           0.625,
           "rgb(66,146,198)"
          ],
          [
           0.75,
           "rgb(33,113,181)"
          ],
          [
           0.875,
           "rgb(8,81,156)"
          ],
          [
           1,
           "rgb(8,48,107)"
          ]
         ]
        },
        "legend": {
         "tracegroupgap": 0
        },
        "template": {
         "data": {
          "bar": [
           {
            "error_x": {
             "color": "#f2f5fa"
            },
            "error_y": {
             "color": "#f2f5fa"
            },
            "marker": {
             "line": {
              "color": "rgb(17,17,17)",
              "width": 0.5
             },
             "pattern": {
              "fillmode": "overlay",
              "size": 10,
              "solidity": 0.2
             }
            },
            "type": "bar"
           }
          ],
          "barpolar": [
           {
            "marker": {
             "line": {
              "color": "rgb(17,17,17)",
              "width": 0.5
             },
             "pattern": {
              "fillmode": "overlay",
              "size": 10,
              "solidity": 0.2
             }
            },
            "type": "barpolar"
           }
          ],
          "carpet": [
           {
            "aaxis": {
             "endlinecolor": "#A2B1C6",
             "gridcolor": "#506784",
             "linecolor": "#506784",
             "minorgridcolor": "#506784",
             "startlinecolor": "#A2B1C6"
            },
            "baxis": {
             "endlinecolor": "#A2B1C6",
             "gridcolor": "#506784",
             "linecolor": "#506784",
             "minorgridcolor": "#506784",
             "startlinecolor": "#A2B1C6"
            },
            "type": "carpet"
           }
          ],
          "choropleth": [
           {
            "colorbar": {
             "outlinewidth": 0,
             "ticks": ""
            },
            "type": "choropleth"
           }
          ],
          "contour": [
           {
            "colorbar": {
             "outlinewidth": 0,
             "ticks": ""
            },
            "colorscale": [
             [
              0,
              "#0d0887"
             ],
             [
              0.1111111111111111,
              "#46039f"
             ],
             [
              0.2222222222222222,
              "#7201a8"
             ],
             [
              0.3333333333333333,
              "#9c179e"
             ],
             [
              0.4444444444444444,
              "#bd3786"
             ],
             [
              0.5555555555555556,
              "#d8576b"
             ],
             [
              0.6666666666666666,
              "#ed7953"
             ],
             [
              0.7777777777777778,
              "#fb9f3a"
             ],
             [
              0.8888888888888888,
              "#fdca26"
             ],
             [
              1,
              "#f0f921"
             ]
            ],
            "type": "contour"
           }
          ],
          "contourcarpet": [
           {
            "colorbar": {
             "outlinewidth": 0,
             "ticks": ""
            },
            "type": "contourcarpet"
           }
          ],
          "heatmap": [
           {
            "colorbar": {
             "outlinewidth": 0,
             "ticks": ""
            },
            "colorscale": [
             [
              0,
              "#0d0887"
             ],
             [
              0.1111111111111111,
              "#46039f"
             ],
             [
              0.2222222222222222,
              "#7201a8"
             ],
             [
              0.3333333333333333,
              "#9c179e"
             ],
             [
              0.4444444444444444,
              "#bd3786"
             ],
             [
              0.5555555555555556,
              "#d8576b"
             ],
             [
              0.6666666666666666,
              "#ed7953"
             ],
             [
              0.7777777777777778,
              "#fb9f3a"
             ],
             [
              0.8888888888888888,
              "#fdca26"
             ],
             [
              1,
              "#f0f921"
             ]
            ],
            "type": "heatmap"
           }
          ],
          "histogram": [
           {
            "marker": {
             "pattern": {
              "fillmode": "overlay",
              "size": 10,
              "solidity": 0.2
             }
            },
            "type": "histogram"
           }
          ],
          "histogram2d": [
           {
            "colorbar": {
             "outlinewidth": 0,
             "ticks": ""
            },
            "colorscale": [
             [
              0,
              "#0d0887"
             ],
             [
              0.1111111111111111,
              "#46039f"
             ],
             [
              0.2222222222222222,
              "#7201a8"
             ],
             [
              0.3333333333333333,
              "#9c179e"
             ],
             [
              0.4444444444444444,
              "#bd3786"
             ],
             [
              0.5555555555555556,
              "#d8576b"
             ],
             [
              0.6666666666666666,
              "#ed7953"
             ],
             [
              0.7777777777777778,
              "#fb9f3a"
             ],
             [
              0.8888888888888888,
              "#fdca26"
             ],
             [
              1,
              "#f0f921"
             ]
            ],
            "type": "histogram2d"
           }
          ],
          "histogram2dcontour": [
           {
            "colorbar": {
             "outlinewidth": 0,
             "ticks": ""
            },
            "colorscale": [
             [
              0,
              "#0d0887"
             ],
             [
              0.1111111111111111,
              "#46039f"
             ],
             [
              0.2222222222222222,
              "#7201a8"
             ],
             [
              0.3333333333333333,
              "#9c179e"
             ],
             [
              0.4444444444444444,
              "#bd3786"
             ],
             [
              0.5555555555555556,
              "#d8576b"
             ],
             [
              0.6666666666666666,
              "#ed7953"
             ],
             [
              0.7777777777777778,
              "#fb9f3a"
             ],
             [
              0.8888888888888888,
              "#fdca26"
             ],
             [
              1,
              "#f0f921"
             ]
            ],
            "type": "histogram2dcontour"
           }
          ],
          "mesh3d": [
           {
            "colorbar": {
             "outlinewidth": 0,
             "ticks": ""
            },
            "type": "mesh3d"
           }
          ],
          "parcoords": [
           {
            "line": {
             "colorbar": {
              "outlinewidth": 0,
              "ticks": ""
             }
            },
            "type": "parcoords"
           }
          ],
          "pie": [
           {
            "automargin": true,
            "type": "pie"
           }
          ],
          "scatter": [
           {
            "marker": {
             "line": {
              "color": "#283442"
             }
            },
            "type": "scatter"
           }
          ],
          "scatter3d": [
           {
            "line": {
             "colorbar": {
              "outlinewidth": 0,
              "ticks": ""
             }
            },
            "marker": {
             "colorbar": {
              "outlinewidth": 0,
              "ticks": ""
             }
            },
            "type": "scatter3d"
           }
          ],
          "scattercarpet": [
           {
            "marker": {
             "colorbar": {
              "outlinewidth": 0,
              "ticks": ""
             }
            },
            "type": "scattercarpet"
           }
          ],
          "scattergeo": [
           {
            "marker": {
             "colorbar": {
              "outlinewidth": 0,
              "ticks": ""
             }
            },
            "type": "scattergeo"
           }
          ],
          "scattergl": [
           {
            "marker": {
             "line": {
              "color": "#283442"
             }
            },
            "type": "scattergl"
           }
          ],
          "scattermap": [
           {
            "marker": {
             "colorbar": {
              "outlinewidth": 0,
              "ticks": ""
             }
            },
            "type": "scattermap"
           }
          ],
          "scattermapbox": [
           {
            "marker": {
             "colorbar": {
              "outlinewidth": 0,
              "ticks": ""
             }
            },
            "type": "scattermapbox"
           }
          ],
          "scatterpolar": [
           {
            "marker": {
             "colorbar": {
              "outlinewidth": 0,
              "ticks": ""
             }
            },
            "type": "scatterpolar"
           }
          ],
          "scatterpolargl": [
           {
            "marker": {
             "colorbar": {
              "outlinewidth": 0,
              "ticks": ""
             }
            },
            "type": "scatterpolargl"
           }
          ],
          "scatterternary": [
           {
            "marker": {
             "colorbar": {
              "outlinewidth": 0,
              "ticks": ""
             }
            },
            "type": "scatterternary"
           }
          ],
          "surface": [
           {
            "colorbar": {
             "outlinewidth": 0,
             "ticks": ""
            },
            "colorscale": [
             [
              0,
              "#0d0887"
             ],
             [
              0.1111111111111111,
              "#46039f"
             ],
             [
              0.2222222222222222,
              "#7201a8"
             ],
             [
              0.3333333333333333,
              "#9c179e"
             ],
             [
              0.4444444444444444,
              "#bd3786"
             ],
             [
              0.5555555555555556,
              "#d8576b"
             ],
             [
              0.6666666666666666,
              "#ed7953"
             ],
             [
              0.7777777777777778,
              "#fb9f3a"
             ],
             [
              0.8888888888888888,
              "#fdca26"
             ],
             [
              1,
              "#f0f921"
             ]
            ],
            "type": "surface"
           }
          ],
          "table": [
           {
            "cells": {
             "fill": {
              "color": "#506784"
             },
             "line": {
              "color": "rgb(17,17,17)"
             }
            },
            "header": {
             "fill": {
              "color": "#2a3f5f"
             },
             "line": {
              "color": "rgb(17,17,17)"
             }
            },
            "type": "table"
           }
          ]
         },
         "layout": {
          "annotationdefaults": {
           "arrowcolor": "#f2f5fa",
           "arrowhead": 0,
           "arrowwidth": 1
          },
          "autotypenumbers": "strict",
          "coloraxis": {
           "colorbar": {
            "outlinewidth": 0,
            "ticks": ""
           }
          },
          "colorscale": {
           "diverging": [
            [
             0,
             "#8e0152"
            ],
            [
             0.1,
             "#c51b7d"
            ],
            [
             0.2,
             "#de77ae"
            ],
            [
             0.3,
             "#f1b6da"
            ],
            [
             0.4,
             "#fde0ef"
            ],
            [
             0.5,
             "#f7f7f7"
            ],
            [
             0.6,
             "#e6f5d0"
            ],
            [
             0.7,
             "#b8e186"
            ],
            [
             0.8,
             "#7fbc41"
            ],
            [
             0.9,
             "#4d9221"
            ],
            [
             1,
             "#276419"
            ]
           ],
           "sequential": [
            [
             0,
             "#0d0887"
            ],
            [
             0.1111111111111111,
             "#46039f"
            ],
            [
             0.2222222222222222,
             "#7201a8"
            ],
            [
             0.3333333333333333,
             "#9c179e"
            ],
            [
             0.4444444444444444,
             "#bd3786"
            ],
            [
             0.5555555555555556,
             "#d8576b"
            ],
            [
             0.6666666666666666,
             "#ed7953"
            ],
            [
             0.7777777777777778,
             "#fb9f3a"
            ],
            [
             0.8888888888888888,
             "#fdca26"
            ],
            [
             1,
             "#f0f921"
            ]
           ],
           "sequentialminus": [
            [
             0,
             "#0d0887"
            ],
            [
             0.1111111111111111,
             "#46039f"
            ],
            [
             0.2222222222222222,
             "#7201a8"
            ],
            [
             0.3333333333333333,
             "#9c179e"
            ],
            [
             0.4444444444444444,
             "#bd3786"
            ],
            [
             0.5555555555555556,
             "#d8576b"
            ],
            [
             0.6666666666666666,
             "#ed7953"
            ],
            [
             0.7777777777777778,
             "#fb9f3a"
            ],
            [
             0.8888888888888888,
             "#fdca26"
            ],
            [
             1,
             "#f0f921"
            ]
           ]
          },
          "colorway": [
           "#636efa",
           "#EF553B",
           "#00cc96",
           "#ab63fa",
           "#FFA15A",
           "#19d3f3",
           "#FF6692",
           "#B6E880",
           "#FF97FF",
           "#FECB52"
          ],
          "font": {
           "color": "#f2f5fa"
          },
          "geo": {
           "bgcolor": "rgb(17,17,17)",
           "lakecolor": "rgb(17,17,17)",
           "landcolor": "rgb(17,17,17)",
           "showlakes": true,
           "showland": true,
           "subunitcolor": "#506784"
          },
          "hoverlabel": {
           "align": "left"
          },
          "hovermode": "closest",
          "mapbox": {
           "style": "dark"
          },
          "paper_bgcolor": "rgb(17,17,17)",
          "plot_bgcolor": "rgb(17,17,17)",
          "polar": {
           "angularaxis": {
            "gridcolor": "#506784",
            "linecolor": "#506784",
            "ticks": ""
           },
           "bgcolor": "rgb(17,17,17)",
           "radialaxis": {
            "gridcolor": "#506784",
            "linecolor": "#506784",
            "ticks": ""
           }
          },
          "scene": {
           "xaxis": {
            "backgroundcolor": "rgb(17,17,17)",
            "gridcolor": "#506784",
            "gridwidth": 2,
            "linecolor": "#506784",
            "showbackground": true,
            "ticks": "",
            "zerolinecolor": "#C8D4E3"
           },
           "yaxis": {
            "backgroundcolor": "rgb(17,17,17)",
            "gridcolor": "#506784",
            "gridwidth": 2,
            "linecolor": "#506784",
            "showbackground": true,
            "ticks": "",
            "zerolinecolor": "#C8D4E3"
           },
           "zaxis": {
            "backgroundcolor": "rgb(17,17,17)",
            "gridcolor": "#506784",
            "gridwidth": 2,
            "linecolor": "#506784",
            "showbackground": true,
            "ticks": "",
            "zerolinecolor": "#C8D4E3"
           }
          },
          "shapedefaults": {
           "line": {
            "color": "#f2f5fa"
           }
          },
          "sliderdefaults": {
           "bgcolor": "#C8D4E3",
           "bordercolor": "rgb(17,17,17)",
           "borderwidth": 1,
           "tickwidth": 0
          },
          "ternary": {
           "aaxis": {
            "gridcolor": "#506784",
            "linecolor": "#506784",
            "ticks": ""
           },
           "baxis": {
            "gridcolor": "#506784",
            "linecolor": "#506784",
            "ticks": ""
           },
           "bgcolor": "rgb(17,17,17)",
           "caxis": {
            "gridcolor": "#506784",
            "linecolor": "#506784",
            "ticks": ""
           }
          },
          "title": {
           "x": 0.05
          },
          "updatemenudefaults": {
           "bgcolor": "#506784",
           "borderwidth": 0
          },
          "xaxis": {
           "automargin": true,
           "gridcolor": "#283442",
           "linecolor": "#506784",
           "ticks": "",
           "title": {
            "standoff": 15
           },
           "zerolinecolor": "#283442",
           "zerolinewidth": 2
          },
          "yaxis": {
           "automargin": true,
           "gridcolor": "#283442",
           "linecolor": "#506784",
           "ticks": "",
           "title": {
            "standoff": 15
           },
           "zerolinecolor": "#283442",
           "zerolinewidth": 2
          }
         }
        },
        "title": {
         "text": "Total Sales by Region"
        },
        "xaxis": {
         "anchor": "y",
         "domain": [
          0,
          1
         ],
         "title": {
          "text": "Region"
         }
        },
        "yaxis": {
         "anchor": "x",
         "domain": [
          0,
          1
         ],
         "title": {
          "text": "Total Sales (₹)"
         }
        }
       }
      }
     },
     "metadata": {},
     "output_type": "display_data"
    }
   ],
   "source": [
    "region_sales = df.groupby('Region')['Sales'].sum().reset_index()\n",
    "fig = px.bar(region_sales, x='Region', y='Sales',\n",
    "             title='Total Sales by Region',\n",
    "             labels={'Sales': 'Total Sales (₹)'},\n",
    "             color='Sales', color_continuous_scale='Blues')\n",
    "fig.show()"
   ]
  },
  {
   "cell_type": "code",
   "execution_count": 28,
   "metadata": {
    "ExecuteTime": {
     "end_time": "2025-05-11T14:27:31.428688Z",
     "start_time": "2025-05-11T14:27:31.388260Z"
    },
    "colab": {
     "base_uri": "https://localhost:8080/",
     "height": 542
    },
    "id": "-7PDBwdqe7qf",
    "outputId": "654fd328-bc49-4ff0-ec35-bcc7f1a56d5f"
   },
   "outputs": [
    {
     "data": {
      "application/vnd.plotly.v1+json": {
       "config": {
        "plotlyServerURL": "https://plot.ly"
       },
       "data": [
        {
         "hovertemplate": "<b>%{hovertext}</b><br><br>Region=Central<br>Total Sales (₹)=%{marker.size}<br>Total Profit (₹)=%{y}<extra></extra>",
         "hovertext": [
          "Central"
         ],
         "legendgroup": "Central",
         "marker": {
          "color": "#636efa",
          "size": {
           "bdata": "fOs0AA==",
           "dtype": "i4"
          },
          "sizemode": "area",
          "sizeref": 11996.8575,
          "symbol": "circle"
         },
         "mode": "markers",
         "name": "Central",
         "orientation": "v",
         "showlegend": true,
         "type": "scatter",
         "x": {
          "bdata": "fOs0AA==",
          "dtype": "i4"
         },
         "xaxis": "x",
         "y": {
          "bdata": "4XoUrs0lKkE=",
          "dtype": "f8"
         },
         "yaxis": "y"
        },
        {
         "hovertemplate": "<b>%{hovertext}</b><br><br>Region=East<br>Total Sales (₹)=%{marker.size}<br>Total Profit (₹)=%{y}<extra></extra>",
         "hovertext": [
          "East"
         ],
         "legendgroup": "East",
         "marker": {
          "color": "#EF553B",
          "size": {
           "bdata": "MNNAAA==",
           "dtype": "i4"
          },
          "sizemode": "area",
          "sizeref": 11996.8575,
          "symbol": "circle"
         },
         "mode": "markers",
         "name": "East",
         "orientation": "v",
         "showlegend": true,
         "type": "scatter",
         "x": {
          "bdata": "MNNAAA==",
          "dtype": "i4"
         },
         "xaxis": "x",
         "y": {
          "bdata": "SOF6lKlkMEE=",
          "dtype": "f8"
         },
         "yaxis": "y"
        },
        {
         "hovertemplate": "<b>%{hovertext}</b><br><br>Region=North<br>Total Sales (₹)=%{marker.size}<br>Total Profit (₹)=%{y}<extra></extra>",
         "hovertext": [
          "North"
         ],
         "legendgroup": "North",
         "marker": {
          "color": "#00cc96",
          "size": {
           "bdata": "5gQ=",
           "dtype": "i2"
          },
          "sizemode": "area",
          "sizeref": 11996.8575,
          "symbol": "circle"
         },
         "mode": "markers",
         "name": "North",
         "orientation": "v",
         "showlegend": true,
         "type": "scatter",
         "x": {
          "bdata": "5gQ=",
          "dtype": "i2"
         },
         "xaxis": "x",
         "y": {
          "bdata": "FK5H4XoUeUA=",
          "dtype": "f8"
         },
         "yaxis": "y"
        },
        {
         "hovertemplate": "<b>%{hovertext}</b><br><br>Region=South<br>Total Sales (₹)=%{marker.size}<br>Total Profit (₹)=%{y}<extra></extra>",
         "hovertext": [
          "South"
         ],
         "legendgroup": "South",
         "marker": {
          "color": "#ab63fa",
          "size": {
           "bdata": "DT0lAA==",
           "dtype": "i4"
          },
          "sizemode": "area",
          "sizeref": 11996.8575,
          "symbol": "circle"
         },
         "mode": "markers",
         "name": "South",
         "orientation": "v",
         "showlegend": true,
         "type": "scatter",
         "x": {
          "bdata": "DT0lAA==",
          "dtype": "i4"
         },
         "xaxis": "x",
         "y": {
          "bdata": "exSux5UHI0E=",
          "dtype": "f8"
         },
         "yaxis": "y"
        },
        {
         "hovertemplate": "<b>%{hovertext}</b><br><br>Region=West<br>Total Sales (₹)=%{marker.size}<br>Total Profit (₹)=%{y}<extra></extra>",
         "hovertext": [
          "West"
         ],
         "legendgroup": "West",
         "marker": {
          "color": "#FFA15A",
          "size": {
           "bdata": "FzlJAA==",
           "dtype": "i4"
          },
          "sizemode": "area",
          "sizeref": 11996.8575,
          "symbol": "circle"
         },
         "mode": "markers",
         "name": "West",
         "orientation": "v",
         "showlegend": true,
         "type": "scatter",
         "x": {
          "bdata": "FzlJAA==",
          "dtype": "i4"
         },
         "xaxis": "x",
         "y": {
          "bdata": "w/UonEQwMkE=",
          "dtype": "f8"
         },
         "yaxis": "y"
        }
       ],
       "layout": {
        "legend": {
         "itemsizing": "constant",
         "title": {
          "text": "Region"
         },
         "tracegroupgap": 0
        },
        "shapes": [
         {
          "line": {
           "dash": "dot"
          },
          "type": "line",
          "x0": 0,
          "x1": 1,
          "xref": "x domain",
          "y0": 749424.24,
          "y1": 749424.24,
          "yref": "y"
         }
        ],
        "template": {
         "data": {
          "bar": [
           {
            "error_x": {
             "color": "#f2f5fa"
            },
            "error_y": {
             "color": "#f2f5fa"
            },
            "marker": {
             "line": {
              "color": "rgb(17,17,17)",
              "width": 0.5
             },
             "pattern": {
              "fillmode": "overlay",
              "size": 10,
              "solidity": 0.2
             }
            },
            "type": "bar"
           }
          ],
          "barpolar": [
           {
            "marker": {
             "line": {
              "color": "rgb(17,17,17)",
              "width": 0.5
             },
             "pattern": {
              "fillmode": "overlay",
              "size": 10,
              "solidity": 0.2
             }
            },
            "type": "barpolar"
           }
          ],
          "carpet": [
           {
            "aaxis": {
             "endlinecolor": "#A2B1C6",
             "gridcolor": "#506784",
             "linecolor": "#506784",
             "minorgridcolor": "#506784",
             "startlinecolor": "#A2B1C6"
            },
            "baxis": {
             "endlinecolor": "#A2B1C6",
             "gridcolor": "#506784",
             "linecolor": "#506784",
             "minorgridcolor": "#506784",
             "startlinecolor": "#A2B1C6"
            },
            "type": "carpet"
           }
          ],
          "choropleth": [
           {
            "colorbar": {
             "outlinewidth": 0,
             "ticks": ""
            },
            "type": "choropleth"
           }
          ],
          "contour": [
           {
            "colorbar": {
             "outlinewidth": 0,
             "ticks": ""
            },
            "colorscale": [
             [
              0,
              "#0d0887"
             ],
             [
              0.1111111111111111,
              "#46039f"
             ],
             [
              0.2222222222222222,
              "#7201a8"
             ],
             [
              0.3333333333333333,
              "#9c179e"
             ],
             [
              0.4444444444444444,
              "#bd3786"
             ],
             [
              0.5555555555555556,
              "#d8576b"
             ],
             [
              0.6666666666666666,
              "#ed7953"
             ],
             [
              0.7777777777777778,
              "#fb9f3a"
             ],
             [
              0.8888888888888888,
              "#fdca26"
             ],
             [
              1,
              "#f0f921"
             ]
            ],
            "type": "contour"
           }
          ],
          "contourcarpet": [
           {
            "colorbar": {
             "outlinewidth": 0,
             "ticks": ""
            },
            "type": "contourcarpet"
           }
          ],
          "heatmap": [
           {
            "colorbar": {
             "outlinewidth": 0,
             "ticks": ""
            },
            "colorscale": [
             [
              0,
              "#0d0887"
             ],
             [
              0.1111111111111111,
              "#46039f"
             ],
             [
              0.2222222222222222,
              "#7201a8"
             ],
             [
              0.3333333333333333,
              "#9c179e"
             ],
             [
              0.4444444444444444,
              "#bd3786"
             ],
             [
              0.5555555555555556,
              "#d8576b"
             ],
             [
              0.6666666666666666,
              "#ed7953"
             ],
             [
              0.7777777777777778,
              "#fb9f3a"
             ],
             [
              0.8888888888888888,
              "#fdca26"
             ],
             [
              1,
              "#f0f921"
             ]
            ],
            "type": "heatmap"
           }
          ],
          "histogram": [
           {
            "marker": {
             "pattern": {
              "fillmode": "overlay",
              "size": 10,
              "solidity": 0.2
             }
            },
            "type": "histogram"
           }
          ],
          "histogram2d": [
           {
            "colorbar": {
             "outlinewidth": 0,
             "ticks": ""
            },
            "colorscale": [
             [
              0,
              "#0d0887"
             ],
             [
              0.1111111111111111,
              "#46039f"
             ],
             [
              0.2222222222222222,
              "#7201a8"
             ],
             [
              0.3333333333333333,
              "#9c179e"
             ],
             [
              0.4444444444444444,
              "#bd3786"
             ],
             [
              0.5555555555555556,
              "#d8576b"
             ],
             [
              0.6666666666666666,
              "#ed7953"
             ],
             [
              0.7777777777777778,
              "#fb9f3a"
             ],
             [
              0.8888888888888888,
              "#fdca26"
             ],
             [
              1,
              "#f0f921"
             ]
            ],
            "type": "histogram2d"
           }
          ],
          "histogram2dcontour": [
           {
            "colorbar": {
             "outlinewidth": 0,
             "ticks": ""
            },
            "colorscale": [
             [
              0,
              "#0d0887"
             ],
             [
              0.1111111111111111,
              "#46039f"
             ],
             [
              0.2222222222222222,
              "#7201a8"
             ],
             [
              0.3333333333333333,
              "#9c179e"
             ],
             [
              0.4444444444444444,
              "#bd3786"
             ],
             [
              0.5555555555555556,
              "#d8576b"
             ],
             [
              0.6666666666666666,
              "#ed7953"
             ],
             [
              0.7777777777777778,
              "#fb9f3a"
             ],
             [
              0.8888888888888888,
              "#fdca26"
             ],
             [
              1,
              "#f0f921"
             ]
            ],
            "type": "histogram2dcontour"
           }
          ],
          "mesh3d": [
           {
            "colorbar": {
             "outlinewidth": 0,
             "ticks": ""
            },
            "type": "mesh3d"
           }
          ],
          "parcoords": [
           {
            "line": {
             "colorbar": {
              "outlinewidth": 0,
              "ticks": ""
             }
            },
            "type": "parcoords"
           }
          ],
          "pie": [
           {
            "automargin": true,
            "type": "pie"
           }
          ],
          "scatter": [
           {
            "marker": {
             "line": {
              "color": "#283442"
             }
            },
            "type": "scatter"
           }
          ],
          "scatter3d": [
           {
            "line": {
             "colorbar": {
              "outlinewidth": 0,
              "ticks": ""
             }
            },
            "marker": {
             "colorbar": {
              "outlinewidth": 0,
              "ticks": ""
             }
            },
            "type": "scatter3d"
           }
          ],
          "scattercarpet": [
           {
            "marker": {
             "colorbar": {
              "outlinewidth": 0,
              "ticks": ""
             }
            },
            "type": "scattercarpet"
           }
          ],
          "scattergeo": [
           {
            "marker": {
             "colorbar": {
              "outlinewidth": 0,
              "ticks": ""
             }
            },
            "type": "scattergeo"
           }
          ],
          "scattergl": [
           {
            "marker": {
             "line": {
              "color": "#283442"
             }
            },
            "type": "scattergl"
           }
          ],
          "scattermap": [
           {
            "marker": {
             "colorbar": {
              "outlinewidth": 0,
              "ticks": ""
             }
            },
            "type": "scattermap"
           }
          ],
          "scattermapbox": [
           {
            "marker": {
             "colorbar": {
              "outlinewidth": 0,
              "ticks": ""
             }
            },
            "type": "scattermapbox"
           }
          ],
          "scatterpolar": [
           {
            "marker": {
             "colorbar": {
              "outlinewidth": 0,
              "ticks": ""
             }
            },
            "type": "scatterpolar"
           }
          ],
          "scatterpolargl": [
           {
            "marker": {
             "colorbar": {
              "outlinewidth": 0,
              "ticks": ""
             }
            },
            "type": "scatterpolargl"
           }
          ],
          "scatterternary": [
           {
            "marker": {
             "colorbar": {
              "outlinewidth": 0,
              "ticks": ""
             }
            },
            "type": "scatterternary"
           }
          ],
          "surface": [
           {
            "colorbar": {
             "outlinewidth": 0,
             "ticks": ""
            },
            "colorscale": [
             [
              0,
              "#0d0887"
             ],
             [
              0.1111111111111111,
              "#46039f"
             ],
             [
              0.2222222222222222,
              "#7201a8"
             ],
             [
              0.3333333333333333,
              "#9c179e"
             ],
             [
              0.4444444444444444,
              "#bd3786"
             ],
             [
              0.5555555555555556,
              "#d8576b"
             ],
             [
              0.6666666666666666,
              "#ed7953"
             ],
             [
              0.7777777777777778,
              "#fb9f3a"
             ],
             [
              0.8888888888888888,
              "#fdca26"
             ],
             [
              1,
              "#f0f921"
             ]
            ],
            "type": "surface"
           }
          ],
          "table": [
           {
            "cells": {
             "fill": {
              "color": "#506784"
             },
             "line": {
              "color": "rgb(17,17,17)"
             }
            },
            "header": {
             "fill": {
              "color": "#2a3f5f"
             },
             "line": {
              "color": "rgb(17,17,17)"
             }
            },
            "type": "table"
           }
          ]
         },
         "layout": {
          "annotationdefaults": {
           "arrowcolor": "#f2f5fa",
           "arrowhead": 0,
           "arrowwidth": 1
          },
          "autotypenumbers": "strict",
          "coloraxis": {
           "colorbar": {
            "outlinewidth": 0,
            "ticks": ""
           }
          },
          "colorscale": {
           "diverging": [
            [
             0,
             "#8e0152"
            ],
            [
             0.1,
             "#c51b7d"
            ],
            [
             0.2,
             "#de77ae"
            ],
            [
             0.3,
             "#f1b6da"
            ],
            [
             0.4,
             "#fde0ef"
            ],
            [
             0.5,
             "#f7f7f7"
            ],
            [
             0.6,
             "#e6f5d0"
            ],
            [
             0.7,
             "#b8e186"
            ],
            [
             0.8,
             "#7fbc41"
            ],
            [
             0.9,
             "#4d9221"
            ],
            [
             1,
             "#276419"
            ]
           ],
           "sequential": [
            [
             0,
             "#0d0887"
            ],
            [
             0.1111111111111111,
             "#46039f"
            ],
            [
             0.2222222222222222,
             "#7201a8"
            ],
            [
             0.3333333333333333,
             "#9c179e"
            ],
            [
             0.4444444444444444,
             "#bd3786"
            ],
            [
             0.5555555555555556,
             "#d8576b"
            ],
            [
             0.6666666666666666,
             "#ed7953"
            ],
            [
             0.7777777777777778,
             "#fb9f3a"
            ],
            [
             0.8888888888888888,
             "#fdca26"
            ],
            [
             1,
             "#f0f921"
            ]
           ],
           "sequentialminus": [
            [
             0,
             "#0d0887"
            ],
            [
             0.1111111111111111,
             "#46039f"
            ],
            [
             0.2222222222222222,
             "#7201a8"
            ],
            [
             0.3333333333333333,
             "#9c179e"
            ],
            [
             0.4444444444444444,
             "#bd3786"
            ],
            [
             0.5555555555555556,
             "#d8576b"
            ],
            [
             0.6666666666666666,
             "#ed7953"
            ],
            [
             0.7777777777777778,
             "#fb9f3a"
            ],
            [
             0.8888888888888888,
             "#fdca26"
            ],
            [
             1,
             "#f0f921"
            ]
           ]
          },
          "colorway": [
           "#636efa",
           "#EF553B",
           "#00cc96",
           "#ab63fa",
           "#FFA15A",
           "#19d3f3",
           "#FF6692",
           "#B6E880",
           "#FF97FF",
           "#FECB52"
          ],
          "font": {
           "color": "#f2f5fa"
          },
          "geo": {
           "bgcolor": "rgb(17,17,17)",
           "lakecolor": "rgb(17,17,17)",
           "landcolor": "rgb(17,17,17)",
           "showlakes": true,
           "showland": true,
           "subunitcolor": "#506784"
          },
          "hoverlabel": {
           "align": "left"
          },
          "hovermode": "closest",
          "mapbox": {
           "style": "dark"
          },
          "paper_bgcolor": "rgb(17,17,17)",
          "plot_bgcolor": "rgb(17,17,17)",
          "polar": {
           "angularaxis": {
            "gridcolor": "#506784",
            "linecolor": "#506784",
            "ticks": ""
           },
           "bgcolor": "rgb(17,17,17)",
           "radialaxis": {
            "gridcolor": "#506784",
            "linecolor": "#506784",
            "ticks": ""
           }
          },
          "scene": {
           "xaxis": {
            "backgroundcolor": "rgb(17,17,17)",
            "gridcolor": "#506784",
            "gridwidth": 2,
            "linecolor": "#506784",
            "showbackground": true,
            "ticks": "",
            "zerolinecolor": "#C8D4E3"
           },
           "yaxis": {
            "backgroundcolor": "rgb(17,17,17)",
            "gridcolor": "#506784",
            "gridwidth": 2,
            "linecolor": "#506784",
            "showbackground": true,
            "ticks": "",
            "zerolinecolor": "#C8D4E3"
           },
           "zaxis": {
            "backgroundcolor": "rgb(17,17,17)",
            "gridcolor": "#506784",
            "gridwidth": 2,
            "linecolor": "#506784",
            "showbackground": true,
            "ticks": "",
            "zerolinecolor": "#C8D4E3"
           }
          },
          "shapedefaults": {
           "line": {
            "color": "#f2f5fa"
           }
          },
          "sliderdefaults": {
           "bgcolor": "#C8D4E3",
           "bordercolor": "rgb(17,17,17)",
           "borderwidth": 1,
           "tickwidth": 0
          },
          "ternary": {
           "aaxis": {
            "gridcolor": "#506784",
            "linecolor": "#506784",
            "ticks": ""
           },
           "baxis": {
            "gridcolor": "#506784",
            "linecolor": "#506784",
            "ticks": ""
           },
           "bgcolor": "rgb(17,17,17)",
           "caxis": {
            "gridcolor": "#506784",
            "linecolor": "#506784",
            "ticks": ""
           }
          },
          "title": {
           "x": 0.05
          },
          "updatemenudefaults": {
           "bgcolor": "#506784",
           "borderwidth": 0
          },
          "xaxis": {
           "automargin": true,
           "gridcolor": "#283442",
           "linecolor": "#506784",
           "ticks": "",
           "title": {
            "standoff": 15
           },
           "zerolinecolor": "#283442",
           "zerolinewidth": 2
          },
          "yaxis": {
           "automargin": true,
           "gridcolor": "#283442",
           "linecolor": "#506784",
           "ticks": "",
           "title": {
            "standoff": 15
           },
           "zerolinecolor": "#283442",
           "zerolinewidth": 2
          }
         }
        },
        "title": {
         "text": "Regional Profitability vs Sales"
        },
        "xaxis": {
         "anchor": "y",
         "domain": [
          0,
          1
         ],
         "title": {
          "text": "Total Sales (₹)"
         }
        },
        "yaxis": {
         "anchor": "x",
         "domain": [
          0,
          1
         ],
         "title": {
          "text": "Total Profit (₹)"
         }
        }
       }
      }
     },
     "metadata": {},
     "output_type": "display_data"
    }
   ],
   "source": [
    "regional_perf = df.groupby('Region').agg({'Sales':'sum','Profit':'sum'}).reset_index()\n",
    "\n",
    "fig = px.scatter(regional_perf,\n",
    "                 x='Sales', y='Profit',\n",
    "                 size='Sales', color='Region',\n",
    "                 title='Regional Profitability vs Sales',\n",
    "                 hover_name='Region',\n",
    "                 labels={'Sales':'Total Sales (₹)', 'Profit':'Total Profit (₹)'})\n",
    "fig.add_hline(y=regional_perf['Profit'].mean(), line_dash=\"dot\")\n",
    "fig.show()"
   ]
  },
  {
   "cell_type": "code",
   "execution_count": 29,
   "metadata": {
    "ExecuteTime": {
     "end_time": "2025-05-11T14:27:37.163735Z",
     "start_time": "2025-05-11T14:27:37.122319Z"
    },
    "colab": {
     "base_uri": "https://localhost:8080/",
     "height": 542
    },
    "id": "ZuBFgoL7dVoS",
    "outputId": "97abe82e-d16c-4d42-f716-9ef4a86cd1ae"
   },
   "outputs": [
    {
     "data": {
      "application/vnd.plotly.v1+json": {
       "config": {
        "plotlyServerURL": "https://plot.ly"
       },
       "data": [
        {
         "domain": {
          "x": [
           0,
           1
          ],
          "y": [
           0,
           1
          ]
         },
         "hovertemplate": "Category=%{label}<br>Sales=%{value}<extra></extra>",
         "labels": [
          "Bakery",
          "Beverages",
          "Eggs, Meat & Fish",
          "Food Grains",
          "Fruits & Veggies",
          "Oil & Masala",
          "Snacks"
         ],
         "legendgroup": "",
         "name": "",
         "showlegend": true,
         "textinfo": "percent+label",
         "textposition": "inside",
         "type": "pie",
         "values": {
          "bdata": "GTsgAMHRHwAJmSIAyEYgAPcNIACqGh8AaiQiAA==",
          "dtype": "i4"
         }
        }
       ],
       "layout": {
        "legend": {
         "tracegroupgap": 0
        },
        "template": {
         "data": {
          "bar": [
           {
            "error_x": {
             "color": "#f2f5fa"
            },
            "error_y": {
             "color": "#f2f5fa"
            },
            "marker": {
             "line": {
              "color": "rgb(17,17,17)",
              "width": 0.5
             },
             "pattern": {
              "fillmode": "overlay",
              "size": 10,
              "solidity": 0.2
             }
            },
            "type": "bar"
           }
          ],
          "barpolar": [
           {
            "marker": {
             "line": {
              "color": "rgb(17,17,17)",
              "width": 0.5
             },
             "pattern": {
              "fillmode": "overlay",
              "size": 10,
              "solidity": 0.2
             }
            },
            "type": "barpolar"
           }
          ],
          "carpet": [
           {
            "aaxis": {
             "endlinecolor": "#A2B1C6",
             "gridcolor": "#506784",
             "linecolor": "#506784",
             "minorgridcolor": "#506784",
             "startlinecolor": "#A2B1C6"
            },
            "baxis": {
             "endlinecolor": "#A2B1C6",
             "gridcolor": "#506784",
             "linecolor": "#506784",
             "minorgridcolor": "#506784",
             "startlinecolor": "#A2B1C6"
            },
            "type": "carpet"
           }
          ],
          "choropleth": [
           {
            "colorbar": {
             "outlinewidth": 0,
             "ticks": ""
            },
            "type": "choropleth"
           }
          ],
          "contour": [
           {
            "colorbar": {
             "outlinewidth": 0,
             "ticks": ""
            },
            "colorscale": [
             [
              0,
              "#0d0887"
             ],
             [
              0.1111111111111111,
              "#46039f"
             ],
             [
              0.2222222222222222,
              "#7201a8"
             ],
             [
              0.3333333333333333,
              "#9c179e"
             ],
             [
              0.4444444444444444,
              "#bd3786"
             ],
             [
              0.5555555555555556,
              "#d8576b"
             ],
             [
              0.6666666666666666,
              "#ed7953"
             ],
             [
              0.7777777777777778,
              "#fb9f3a"
             ],
             [
              0.8888888888888888,
              "#fdca26"
             ],
             [
              1,
              "#f0f921"
             ]
            ],
            "type": "contour"
           }
          ],
          "contourcarpet": [
           {
            "colorbar": {
             "outlinewidth": 0,
             "ticks": ""
            },
            "type": "contourcarpet"
           }
          ],
          "heatmap": [
           {
            "colorbar": {
             "outlinewidth": 0,
             "ticks": ""
            },
            "colorscale": [
             [
              0,
              "#0d0887"
             ],
             [
              0.1111111111111111,
              "#46039f"
             ],
             [
              0.2222222222222222,
              "#7201a8"
             ],
             [
              0.3333333333333333,
              "#9c179e"
             ],
             [
              0.4444444444444444,
              "#bd3786"
             ],
             [
              0.5555555555555556,
              "#d8576b"
             ],
             [
              0.6666666666666666,
              "#ed7953"
             ],
             [
              0.7777777777777778,
              "#fb9f3a"
             ],
             [
              0.8888888888888888,
              "#fdca26"
             ],
             [
              1,
              "#f0f921"
             ]
            ],
            "type": "heatmap"
           }
          ],
          "histogram": [
           {
            "marker": {
             "pattern": {
              "fillmode": "overlay",
              "size": 10,
              "solidity": 0.2
             }
            },
            "type": "histogram"
           }
          ],
          "histogram2d": [
           {
            "colorbar": {
             "outlinewidth": 0,
             "ticks": ""
            },
            "colorscale": [
             [
              0,
              "#0d0887"
             ],
             [
              0.1111111111111111,
              "#46039f"
             ],
             [
              0.2222222222222222,
              "#7201a8"
             ],
             [
              0.3333333333333333,
              "#9c179e"
             ],
             [
              0.4444444444444444,
              "#bd3786"
             ],
             [
              0.5555555555555556,
              "#d8576b"
             ],
             [
              0.6666666666666666,
              "#ed7953"
             ],
             [
              0.7777777777777778,
              "#fb9f3a"
             ],
             [
              0.8888888888888888,
              "#fdca26"
             ],
             [
              1,
              "#f0f921"
             ]
            ],
            "type": "histogram2d"
           }
          ],
          "histogram2dcontour": [
           {
            "colorbar": {
             "outlinewidth": 0,
             "ticks": ""
            },
            "colorscale": [
             [
              0,
              "#0d0887"
             ],
             [
              0.1111111111111111,
              "#46039f"
             ],
             [
              0.2222222222222222,
              "#7201a8"
             ],
             [
              0.3333333333333333,
              "#9c179e"
             ],
             [
              0.4444444444444444,
              "#bd3786"
             ],
             [
              0.5555555555555556,
              "#d8576b"
             ],
             [
              0.6666666666666666,
              "#ed7953"
             ],
             [
              0.7777777777777778,
              "#fb9f3a"
             ],
             [
              0.8888888888888888,
              "#fdca26"
             ],
             [
              1,
              "#f0f921"
             ]
            ],
            "type": "histogram2dcontour"
           }
          ],
          "mesh3d": [
           {
            "colorbar": {
             "outlinewidth": 0,
             "ticks": ""
            },
            "type": "mesh3d"
           }
          ],
          "parcoords": [
           {
            "line": {
             "colorbar": {
              "outlinewidth": 0,
              "ticks": ""
             }
            },
            "type": "parcoords"
           }
          ],
          "pie": [
           {
            "automargin": true,
            "type": "pie"
           }
          ],
          "scatter": [
           {
            "marker": {
             "line": {
              "color": "#283442"
             }
            },
            "type": "scatter"
           }
          ],
          "scatter3d": [
           {
            "line": {
             "colorbar": {
              "outlinewidth": 0,
              "ticks": ""
             }
            },
            "marker": {
             "colorbar": {
              "outlinewidth": 0,
              "ticks": ""
             }
            },
            "type": "scatter3d"
           }
          ],
          "scattercarpet": [
           {
            "marker": {
             "colorbar": {
              "outlinewidth": 0,
              "ticks": ""
             }
            },
            "type": "scattercarpet"
           }
          ],
          "scattergeo": [
           {
            "marker": {
             "colorbar": {
              "outlinewidth": 0,
              "ticks": ""
             }
            },
            "type": "scattergeo"
           }
          ],
          "scattergl": [
           {
            "marker": {
             "line": {
              "color": "#283442"
             }
            },
            "type": "scattergl"
           }
          ],
          "scattermap": [
           {
            "marker": {
             "colorbar": {
              "outlinewidth": 0,
              "ticks": ""
             }
            },
            "type": "scattermap"
           }
          ],
          "scattermapbox": [
           {
            "marker": {
             "colorbar": {
              "outlinewidth": 0,
              "ticks": ""
             }
            },
            "type": "scattermapbox"
           }
          ],
          "scatterpolar": [
           {
            "marker": {
             "colorbar": {
              "outlinewidth": 0,
              "ticks": ""
             }
            },
            "type": "scatterpolar"
           }
          ],
          "scatterpolargl": [
           {
            "marker": {
             "colorbar": {
              "outlinewidth": 0,
              "ticks": ""
             }
            },
            "type": "scatterpolargl"
           }
          ],
          "scatterternary": [
           {
            "marker": {
             "colorbar": {
              "outlinewidth": 0,
              "ticks": ""
             }
            },
            "type": "scatterternary"
           }
          ],
          "surface": [
           {
            "colorbar": {
             "outlinewidth": 0,
             "ticks": ""
            },
            "colorscale": [
             [
              0,
              "#0d0887"
             ],
             [
              0.1111111111111111,
              "#46039f"
             ],
             [
              0.2222222222222222,
              "#7201a8"
             ],
             [
              0.3333333333333333,
              "#9c179e"
             ],
             [
              0.4444444444444444,
              "#bd3786"
             ],
             [
              0.5555555555555556,
              "#d8576b"
             ],
             [
              0.6666666666666666,
              "#ed7953"
             ],
             [
              0.7777777777777778,
              "#fb9f3a"
             ],
             [
              0.8888888888888888,
              "#fdca26"
             ],
             [
              1,
              "#f0f921"
             ]
            ],
            "type": "surface"
           }
          ],
          "table": [
           {
            "cells": {
             "fill": {
              "color": "#506784"
             },
             "line": {
              "color": "rgb(17,17,17)"
             }
            },
            "header": {
             "fill": {
              "color": "#2a3f5f"
             },
             "line": {
              "color": "rgb(17,17,17)"
             }
            },
            "type": "table"
           }
          ]
         },
         "layout": {
          "annotationdefaults": {
           "arrowcolor": "#f2f5fa",
           "arrowhead": 0,
           "arrowwidth": 1
          },
          "autotypenumbers": "strict",
          "coloraxis": {
           "colorbar": {
            "outlinewidth": 0,
            "ticks": ""
           }
          },
          "colorscale": {
           "diverging": [
            [
             0,
             "#8e0152"
            ],
            [
             0.1,
             "#c51b7d"
            ],
            [
             0.2,
             "#de77ae"
            ],
            [
             0.3,
             "#f1b6da"
            ],
            [
             0.4,
             "#fde0ef"
            ],
            [
             0.5,
             "#f7f7f7"
            ],
            [
             0.6,
             "#e6f5d0"
            ],
            [
             0.7,
             "#b8e186"
            ],
            [
             0.8,
             "#7fbc41"
            ],
            [
             0.9,
             "#4d9221"
            ],
            [
             1,
             "#276419"
            ]
           ],
           "sequential": [
            [
             0,
             "#0d0887"
            ],
            [
             0.1111111111111111,
             "#46039f"
            ],
            [
             0.2222222222222222,
             "#7201a8"
            ],
            [
             0.3333333333333333,
             "#9c179e"
            ],
            [
             0.4444444444444444,
             "#bd3786"
            ],
            [
             0.5555555555555556,
             "#d8576b"
            ],
            [
             0.6666666666666666,
             "#ed7953"
            ],
            [
             0.7777777777777778,
             "#fb9f3a"
            ],
            [
             0.8888888888888888,
             "#fdca26"
            ],
            [
             1,
             "#f0f921"
            ]
           ],
           "sequentialminus": [
            [
             0,
             "#0d0887"
            ],
            [
             0.1111111111111111,
             "#46039f"
            ],
            [
             0.2222222222222222,
             "#7201a8"
            ],
            [
             0.3333333333333333,
             "#9c179e"
            ],
            [
             0.4444444444444444,
             "#bd3786"
            ],
            [
             0.5555555555555556,
             "#d8576b"
            ],
            [
             0.6666666666666666,
             "#ed7953"
            ],
            [
             0.7777777777777778,
             "#fb9f3a"
            ],
            [
             0.8888888888888888,
             "#fdca26"
            ],
            [
             1,
             "#f0f921"
            ]
           ]
          },
          "colorway": [
           "#636efa",
           "#EF553B",
           "#00cc96",
           "#ab63fa",
           "#FFA15A",
           "#19d3f3",
           "#FF6692",
           "#B6E880",
           "#FF97FF",
           "#FECB52"
          ],
          "font": {
           "color": "#f2f5fa"
          },
          "geo": {
           "bgcolor": "rgb(17,17,17)",
           "lakecolor": "rgb(17,17,17)",
           "landcolor": "rgb(17,17,17)",
           "showlakes": true,
           "showland": true,
           "subunitcolor": "#506784"
          },
          "hoverlabel": {
           "align": "left"
          },
          "hovermode": "closest",
          "mapbox": {
           "style": "dark"
          },
          "paper_bgcolor": "rgb(17,17,17)",
          "plot_bgcolor": "rgb(17,17,17)",
          "polar": {
           "angularaxis": {
            "gridcolor": "#506784",
            "linecolor": "#506784",
            "ticks": ""
           },
           "bgcolor": "rgb(17,17,17)",
           "radialaxis": {
            "gridcolor": "#506784",
            "linecolor": "#506784",
            "ticks": ""
           }
          },
          "scene": {
           "xaxis": {
            "backgroundcolor": "rgb(17,17,17)",
            "gridcolor": "#506784",
            "gridwidth": 2,
            "linecolor": "#506784",
            "showbackground": true,
            "ticks": "",
            "zerolinecolor": "#C8D4E3"
           },
           "yaxis": {
            "backgroundcolor": "rgb(17,17,17)",
            "gridcolor": "#506784",
            "gridwidth": 2,
            "linecolor": "#506784",
            "showbackground": true,
            "ticks": "",
            "zerolinecolor": "#C8D4E3"
           },
           "zaxis": {
            "backgroundcolor": "rgb(17,17,17)",
            "gridcolor": "#506784",
            "gridwidth": 2,
            "linecolor": "#506784",
            "showbackground": true,
            "ticks": "",
            "zerolinecolor": "#C8D4E3"
           }
          },
          "shapedefaults": {
           "line": {
            "color": "#f2f5fa"
           }
          },
          "sliderdefaults": {
           "bgcolor": "#C8D4E3",
           "bordercolor": "rgb(17,17,17)",
           "borderwidth": 1,
           "tickwidth": 0
          },
          "ternary": {
           "aaxis": {
            "gridcolor": "#506784",
            "linecolor": "#506784",
            "ticks": ""
           },
           "baxis": {
            "gridcolor": "#506784",
            "linecolor": "#506784",
            "ticks": ""
           },
           "bgcolor": "rgb(17,17,17)",
           "caxis": {
            "gridcolor": "#506784",
            "linecolor": "#506784",
            "ticks": ""
           }
          },
          "title": {
           "x": 0.05
          },
          "updatemenudefaults": {
           "bgcolor": "#506784",
           "borderwidth": 0
          },
          "xaxis": {
           "automargin": true,
           "gridcolor": "#283442",
           "linecolor": "#506784",
           "ticks": "",
           "title": {
            "standoff": 15
           },
           "zerolinecolor": "#283442",
           "zerolinewidth": 2
          },
          "yaxis": {
           "automargin": true,
           "gridcolor": "#283442",
           "linecolor": "#506784",
           "ticks": "",
           "title": {
            "standoff": 15
           },
           "zerolinecolor": "#283442",
           "zerolinewidth": 2
          }
         }
        },
        "title": {
         "text": "Sales Distribution by Category"
        }
       }
      }
     },
     "metadata": {},
     "output_type": "display_data"
    }
   ],
   "source": [
    "sales_by_category = df.groupby('Category')['Sales'].sum().reset_index()\n",
    "\n",
    "fig = px.pie(sales_by_category, names='Category', values='Sales',\n",
    "              title=\"Sales Distribution by Category\")\n",
    "fig.update_traces(textposition='inside', textinfo='percent+label')\n",
    "\n",
    "fig.show()"
   ]
  },
  {
   "cell_type": "code",
   "execution_count": 30,
   "metadata": {
    "ExecuteTime": {
     "end_time": "2025-05-11T14:27:39.291855Z",
     "start_time": "2025-05-11T14:27:39.006649Z"
    },
    "colab": {
     "base_uri": "https://localhost:8080/",
     "height": 542
    },
    "id": "jrpnQoZLQHJX",
    "outputId": "b4cf51b0-a756-4875-d1b1-0ed49ced58b3"
   },
   "outputs": [
    {
     "data": {
      "application/vnd.plotly.v1+json": {
       "config": {
        "plotlyServerURL": "https://plot.ly"
       },
       "data": [
        {
         "hovertemplate": "Category=Oil & Masala<br>Discount Rate=%{x}<br>Sales (₹)=%{y}<extra></extra>",
         "legendgroup": "Oil & Masala",
         "marker": {
          "color": "#636efa",
          "symbol": "circle"
         },
         "mode": "markers",
         "name": "Oil & Masala",
         "showlegend": true,
         "type": "scattergl",
         "x": {
          "bdata": "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",
          "dtype": "f8"
         },
         "xaxis": "x",
         "y": {
          "bdata": "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",
          "dtype": "i2"
         },
         "yaxis": "y"
        },
        {
         "hovertemplate": "<b>OLS trendline</b><br>Sales = 154.167 * Discount + 1463.14<br>R<sup>2</sup>=0.000395<br><br>Category=Oil & Masala<br>Discount Rate=%{x}<br>Sales (₹)=%{y} <b>(trend)</b><extra></extra>",
         "legendgroup": "Oil & Masala",
         "marker": {
          "color": "#636efa",
          "symbol": "circle"
         },
         "mode": "lines",
         "name": "Oil & Masala",
         "showlegend": false,
         "type": "scattergl",
         "x": {
          "bdata": "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",
          "dtype": "f8"
         },
         "xaxis": "x",
         "y": {
          "bdata": "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",
          "dtype": "f8"
         },
         "yaxis": "y"
        },
        {
         "hovertemplate": "Category=Beverages<br>Discount Rate=%{x}<br>Sales (₹)=%{y}<extra></extra>",
         "legendgroup": "Beverages",
         "marker": {
          "color": "#EF553B",
          "symbol": "circle"
         },
         "mode": "markers",
         "name": "Beverages",
         "showlegend": true,
         "type": "scattergl",
         "x": {
          "bdata": "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",
          "dtype": "f8"
         },
         "xaxis": "x",
         "y": {
          "bdata": "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",
          "dtype": "i2"
         },
         "yaxis": "y"
        },
        {
         "hovertemplate": "<b>OLS trendline</b><br>Sales = -129.348 * Discount + 1519.3<br>R<sup>2</sup>=0.000278<br><br>Category=Beverages<br>Discount Rate=%{x}<br>Sales (₹)=%{y} <b>(trend)</b><extra></extra>",
         "legendgroup": "Beverages",
         "marker": {
          "color": "#EF553B",
          "symbol": "circle"
         },
         "mode": "lines",
         "name": "Beverages",
         "showlegend": false,
         "type": "scattergl",
         "x": {
          "bdata": "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",
          "dtype": "f8"
         },
         "xaxis": "x",
         "y": {
          "bdata": "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",
          "dtype": "f8"
         },
         "yaxis": "y"
        },
        {
         "hovertemplate": "Category=Food Grains<br>Discount Rate=%{x}<br>Sales (₹)=%{y}<extra></extra>",
         "legendgroup": "Food Grains",
         "marker": {
          "color": "#00cc96",
          "symbol": "circle"
         },
         "mode": "markers",
         "name": "Food Grains",
         "showlegend": true,
         "type": "scattergl",
         "x": {
          "bdata": "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",
          "dtype": "f8"
         },
         "xaxis": "x",
         "y": {
          "bdata": "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",
          "dtype": "i2"
         },
         "yaxis": "y"
        },
        {
         "hovertemplate": "<b>OLS trendline</b><br>Sales = 30.6877 * Discount + 1506.06<br>R<sup>2</sup>=0.000016<br><br>Category=Food Grains<br>Discount Rate=%{x}<br>Sales (₹)=%{y} <b>(trend)</b><extra></extra>",
         "legendgroup": "Food Grains",
         "marker": {
          "color": "#00cc96",
          "symbol": "circle"
         },
         "mode": "lines",
         "name": "Food Grains",
         "showlegend": false,
         "type": "scattergl",
         "x": {
          "bdata": "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",
          "dtype": "f8"
         },
         "xaxis": "x",
         "y": {
          "bdata": "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",
          "dtype": "f8"
         },
         "yaxis": "y"
        },
        {
         "hovertemplate": "Category=Fruits & Veggies<br>Discount Rate=%{x}<br>Sales (₹)=%{y}<extra></extra>",
         "legendgroup": "Fruits & Veggies",
         "marker": {
          "color": "#ab63fa",
          "symbol": "circle"
         },
         "mode": "markers",
         "name": "Fruits & Veggies",
         "showlegend": true,
         "type": "scattergl",
         "x": {
          "bdata": "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",
          "dtype": "f8"
         },
         "xaxis": "x",
         "y": {
          "bdata": "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",
          "dtype": "i2"
         },
         "yaxis": "y"
        },
        {
         "hovertemplate": "<b>OLS trendline</b><br>Sales = -112.444 * Discount + 1507.25<br>R<sup>2</sup>=0.000224<br><br>Category=Fruits & Veggies<br>Discount Rate=%{x}<br>Sales (₹)=%{y} <b>(trend)</b><extra></extra>",
         "legendgroup": "Fruits & Veggies",
         "marker": {
          "color": "#ab63fa",
          "symbol": "circle"
         },
         "mode": "lines",
         "name": "Fruits & Veggies",
         "showlegend": false,
         "type": "scattergl",
         "x": {
          "bdata": "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",
          "dtype": "f8"
         },
         "xaxis": "x",
         "y": {
          "bdata": "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",
          "dtype": "f8"
         },
         "yaxis": "y"
        },
        {
         "hovertemplate": "Category=Bakery<br>Discount Rate=%{x}<br>Sales (₹)=%{y}<extra></extra>",
         "legendgroup": "Bakery",
         "marker": {
          "color": "#FFA15A",
          "symbol": "circle"
         },
         "mode": "markers",
         "name": "Bakery",
         "showlegend": true,
         "type": "scattergl",
         "x": {
          "bdata": "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",
          "dtype": "f8"
         },
         "xaxis": "x",
         "y": {
          "bdata": "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",
          "dtype": "i2"
         },
         "yaxis": "y"
        },
        {
         "hovertemplate": "<b>OLS trendline</b><br>Sales = -70.4803 * Discount + 1510.78<br>R<sup>2</sup>=0.000078<br><br>Category=Bakery<br>Discount Rate=%{x}<br>Sales (₹)=%{y} <b>(trend)</b><extra></extra>",
         "legendgroup": "Bakery",
         "marker": {
          "color": "#FFA15A",
          "symbol": "circle"
         },
         "mode": "lines",
         "name": "Bakery",
         "showlegend": false,
         "type": "scattergl",
         "x": {
          "bdata": "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",
          "dtype": "f8"
         },
         "xaxis": "x",
         "y": {
          "bdata": "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",
          "dtype": "f8"
         },
         "yaxis": "y"
        },
        {
         "hovertemplate": "Category=Snacks<br>Discount Rate=%{x}<br>Sales (₹)=%{y}<extra></extra>",
         "legendgroup": "Snacks",
         "marker": {
          "color": "#19d3f3",
          "symbol": "circle"
         },
         "mode": "markers",
         "name": "Snacks",
         "showlegend": true,
         "type": "scattergl",
         "x": {
          "bdata": "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",
          "dtype": "f8"
         },
         "xaxis": "x",
         "y": {
          "bdata": "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",
          "dtype": "i2"
         },
         "yaxis": "y"
        },
        {
         "hovertemplate": "<b>OLS trendline</b><br>Sales = -106.548 * Discount + 1501.56<br>R<sup>2</sup>=0.000192<br><br>Category=Snacks<br>Discount Rate=%{x}<br>Sales (₹)=%{y} <b>(trend)</b><extra></extra>",
         "legendgroup": "Snacks",
         "marker": {
          "color": "#19d3f3",
          "symbol": "circle"
         },
         "mode": "lines",
         "name": "Snacks",
         "showlegend": false,
         "type": "scattergl",
         "x": {
          "bdata": "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",
          "dtype": "f8"
         },
         "xaxis": "x",
         "y": {
          "bdata": "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",
          "dtype": "f8"
         },
         "yaxis": "y"
        },
        {
         "hovertemplate": "Category=Eggs, Meat & Fish<br>Discount Rate=%{x}<br>Sales (₹)=%{y}<extra></extra>",
         "legendgroup": "Eggs, Meat & Fish",
         "marker": {
          "color": "#FF6692",
          "symbol": "circle"
         },
         "mode": "markers",
         "name": "Eggs, Meat & Fish",
         "showlegend": true,
         "type": "scattergl",
         "x": {
          "bdata": "mpmZmZmZuT8pXI/C9SjMP2ZmZmZmZtY/KVyPwvUovD8pXI/C9SjMP3E9CtejcM0/UrgehetRyD/D9Shcj8LVP2ZmZmZmZtY/AAAAAAAA0D8pXI/C9SjMPwAAAAAAANA/16NwPQrX0z+kcD0K16PQP8P1KFyPwtU/pHA9CtejwD/hehSuR+HKP7gehetRuL4/KVyPwvUovD/D9Shcj8LFP7gehetRuM4/7FG4HoXrwT/sUbgehevRP7gehetRuM4/mpmZmZmZyT+kcD0K16PQP5qZmZmZmck/AAAAAAAA0D+amZmZmZnJP7gehetRuL4/MzMzMzMz0z8AAAAAAADQP4/C9Shcj9I/MzMzMzMzwz8AAAAAAADQP5qZmZmZmck/pHA9Ctej0D+amZmZmZnJP1K4HoXrUcg/exSuR+F6xD+4HoXrUbjOP9ejcD0K19M/AAAAAAAA0D9SuB6F61HIP8P1KFyPwtU/w/UoXI/CxT97FK5H4XrEP+F6FK5H4co/j8L1KFyP0j+4HoXrUbjOP5qZmZmZmbk/pHA9CtejwD+kcD0K16PAPylcj8L1KMw/ZmZmZmZm1j/hehSuR+HKP2ZmZmZmZtY/w/UoXI/C1T/sUbgehevBP3E9CtejcM0/7FG4HoXrwT/Xo3A9CtfTP7gehetRuM4/mpmZmZmZuT8zMzMzMzPTP+xRuB6F69E/MzMzMzMz0z/sUbgehevRPx+F61G4HtU/UrgehetRyD+kcD0K16PQP+xRuB6F69E/MzMzMzMzwz+4HoXrUbjOP8P1KFyPwsU/4XoUrkfhyj/D9Shcj8LVPx+F61G4HtU/j8L1KFyP0j8pXI/C9SjMP9ejcD0K19M/mpmZmZmZyT/sUbgehevBP+xRuB6F69E/mpmZmZmZuT+kcD0K16PQP5qZmZmZmck/UrgehetRyD8AAAAAAADQP+xRuB6F69E/4XoUrkfhyj8zMzMzMzPTP7gehetRuL4/exSuR+F6xD/sUbgehevRP7gehetRuM4/exSuR+F6xD9I4XoUrkfRP1K4HoXrUcg/pHA9CtejwD+PwvUoXI/SP6RwPQrXo9A/16NwPQrX0z+amZmZmZm5P+F6FK5H4co/UrgehetRyD+4HoXrUbi+P4/C9Shcj9I/4XoUrkfhyj8pXI/C9SjMP6RwPQrXo9A/AAAAAAAA0D8K16NwPQrHP7gehetRuL4/ZmZmZmZm1j/hehSuR+HKPzMzMzMzM9M/cT0K16NwzT+PwvUoXI/SP8P1KFyPwsU/7FG4HoXr0T+4HoXrUbi+P8P1KFyPwsU/exSuR+F61D+kcD0K16PAPwrXo3A9Csc/cT0K16NwzT8pXI/C9SjMP5qZmZmZmck/7FG4HoXrwT8pXI/C9SjMP6RwPQrXo9A/uB6F61G4vj8pXI/C9SjMP3sUrkfhesQ/SOF6FK5H0T97FK5H4XrUP8P1KFyPwtU/UrgehetRyD9mZmZmZmbWP8P1KFyPwtU/j8L1KFyP0j8pXI/C9SjMP2ZmZmZmZtY/SOF6FK5H0T/Xo3A9CtfTPx+F61G4HtU/KVyPwvUozD97FK5H4XrUP5qZmZmZmck/exSuR+F6xD8zMzMzMzPDP2ZmZmZmZtY/MzMzMzMzwz8pXI/C9SjMP9ejcD0K19M/KVyPwvUovD8pXI/C9SjMP+xRuB6F68E/CtejcD0Kxz8fhetRuB7VP1K4HoXrUcg/pHA9Ctej0D8zMzMzMzPDPzMzMzMzM9M/ZmZmZmZm1j9xPQrXo3DNP3sUrkfhetQ/MzMzMzMz0z9xPQrXo3DNP7gehetRuL4/exSuR+F6xD97FK5H4XrEP3E9CtejcM0/ZmZmZmZm1j8fhetRuB7VP+F6FK5H4co/w/UoXI/C1T8zMzMzMzPTP+xRuB6F69E/cT0K16NwzT/D9Shcj8LFP8P1KFyPwsU/CtejcD0Kxz8fhetRuB7VP6RwPQrXo8A/uB6F61G4zj/D9Shcj8LVP4/C9Shcj9I/ZmZmZmZm1j+4HoXrUbi+P8P1KFyPwtU/UrgehetRyD+amZmZmZm5PzMzMzMzM8M/UrgehetRyD/D9Shcj8LFPylcj8L1KMw/AAAAAAAA0D9I4XoUrkfRP4/C9Shcj9I/j8L1KFyP0j9mZmZmZmbWP3sUrkfhetQ/4XoUrkfhyj/D9Shcj8LFP+xRuB6F69E/w/UoXI/CxT8zMzMzMzPTP5qZmZmZmck/KVyPwvUozD9I4XoUrkfRP2ZmZmZmZtY/7FG4HoXrwT+4HoXrUbjOPzMzMzMzM9M/cT0K16NwzT9mZmZmZmbWP5qZmZmZmck/j8L1KFyP0j8fhetRuB7VP7gehetRuL4/uB6F61G4vj+PwvUoXI/SP0jhehSuR9E/4XoUrkfhyj/sUbgehevBP+xRuB6F68E/UrgehetRyD9SuB6F61HIP0jhehSuR9E/mpmZmZmZuT9mZmZmZmbWPzMzMzMzM8M/AAAAAAAA0D9mZmZmZmbWP3sUrkfhesQ/j8L1KFyP0j8AAAAAAADQP+xRuB6F68E/4XoUrkfhyj8pXI/C9SjMP3E9CtejcM0/ZmZmZmZm1j+amZmZmZm5PzMzMzMzM8M/mpmZmZmZuT+4HoXrUbjOP3E9CtejcM0/j8L1KFyP0j8pXI/C9Si8P0jhehSuR9E/H4XrUbge1T8pXI/C9SjMP6RwPQrXo9A/AAAAAAAA0D9I4XoUrkfRP7gehetRuL4/j8L1KFyP0j8pXI/C9SjMP7gehetRuL4/ZmZmZmZm1j/D9Shcj8LFP7gehetRuL4/KVyPwvUozD/sUbgehevRP0jhehSuR9E/CtejcD0Kxz+amZmZmZnJP3E9CtejcM0/KVyPwvUovD8zMzMzMzPTPylcj8L1KMw/uB6F61G4zj/sUbgehevRP6RwPQrXo9A/UrgehetRyD+4HoXrUbjOPzMzMzMzM8M/CtejcD0Kxz+amZmZmZnJPylcj8L1KMw/UrgehetRyD8zMzMzMzPTP4/C9Shcj9I/KVyPwvUozD9xPQrXo3DNP0jhehSuR9E/SOF6FK5H0T9I4XoUrkfRP8P1KFyPwsU/KVyPwvUovD+amZmZmZm5PwrXo3A9Csc/w/UoXI/C1T+4HoXrUbi+P3sUrkfhesQ/7FG4HoXr0T/hehSuR+HKP8P1KFyPwtU/mpmZmZmZyT/sUbgehevRP4/C9Shcj9I/MzMzMzMz0z/sUbgehevBP5qZmZmZmbk/exSuR+F61D/D9Shcj8LVP3sUrkfhesQ/KVyPwvUovD8zMzMzMzPTPwAAAAAAANA/j8L1KFyP0j/hehSuR+HKP7gehetRuM4/mpmZmZmZuT8zMzMzMzPTPx+F61G4HtU/pHA9Ctej0D+kcD0K16PQPylcj8L1KLw/pHA9Ctej0D8fhetRuB7VP7gehetRuL4/MzMzMzMz0z9I4XoUrkfRP6RwPQrXo9A/AAAAAAAA0D/hehSuR+HKP3sUrkfhesQ/pHA9Ctej0D+kcD0K16PQP1K4HoXrUcg/16NwPQrX0z8pXI/C9SjMPylcj8L1KLw/exSuR+F6xD9I4XoUrkfRP4/C9Shcj9I/exSuR+F6xD8zMzMzMzPDP+F6FK5H4co/KVyPwvUovD8pXI/C9SjMP6RwPQrXo8A/uB6F61G4zj+kcD0K16PQP0jhehSuR9E/exSuR+F61D8K16NwPQrHP8P1KFyPwtU/KVyPwvUovD97FK5H4XrEPwrXo3A9Csc/mpmZmZmZyT+kcD0K16PAP6RwPQrXo8A/exSuR+F6xD97FK5H4XrUPzMzMzMzM9M/j8L1KFyP0j97FK5H4XrEP3E9CtejcM0/CtejcD0Kxz+4HoXrUbi+P+xRuB6F68E/H4XrUbge1T+4HoXrUbjOP9ejcD0K19M/KVyPwvUozD8pXI/C9SjMPwrXo3A9Csc/SOF6FK5H0T9I4XoUrkfRP6RwPQrXo8A/4XoUrkfhyj8zMzMzMzPTP5qZmZmZmck/pHA9CtejwD8AAAAAAADQPylcj8L1KMw/KVyPwvUovD8pXI/C9SjMP+F6FK5H4co/uB6F61G4zj8fhetRuB7VP6RwPQrXo9A/7FG4HoXrwT9I4XoUrkfRP1K4HoXrUcg/mpmZmZmZyT9SuB6F61HIP5qZmZmZmck/pHA9Ctej0D+amZmZmZnJP3sUrkfhetQ/7FG4HoXr0T/sUbgehevRP3sUrkfhesQ/KVyPwvUozD9xPQrXo3DNP0jhehSuR9E/SOF6FK5H0T8AAAAAAADQPwrXo3A9Csc/exSuR+F6xD+amZmZmZnJPylcj8L1KMw/uB6F61G4zj+amZmZmZnJP4/C9Shcj9I/cT0K16NwzT/hehSuR+HKP0jhehSuR9E/H4XrUbge1T+amZmZmZm5P1K4HoXrUcg/4XoUrkfhyj8AAAAAAADQP1K4HoXrUcg/uB6F61G4zj/sUbgehevRPylcj8L1KLw/pHA9Ctej0D/D9Shcj8LFP3E9CtejcM0/cT0K16NwzT9xPQrXo3DNPylcj8L1KLw/exSuR+F61D/sUbgehevBP5qZmZmZmck/j8L1KFyP0j9I4XoUrkfRP6RwPQrXo8A/UrgehetRyD8zMzMzMzPDP+F6FK5H4co/uB6F61G4zj8zMzMzMzPDPzMzMzMzM9M/w/UoXI/CxT/hehSuR+HKP5qZmZmZmck/UrgehetRyD/hehSuR+HKP+xRuB6F68E/MzMzMzMzwz+4HoXrUbi+P6RwPQrXo8A/ZmZmZmZm1j8zMzMzMzPDP2ZmZmZmZtY/w/UoXI/C1T/sUbgehevRP5qZmZmZmbk/UrgehetRyD8K16NwPQrHP+xRuB6F69E/w/UoXI/C1T+4HoXrUbi+P3E9CtejcM0/cT0K16NwzT8AAAAAAADQPzMzMzMzM9M/pHA9Ctej0D8AAAAAAADQPwrXo3A9Csc/MzMzMzMz0z9I4XoUrkfRPzMzMzMzM9M/exSuR+F6xD/sUbgehevBPwrXo3A9Csc/SOF6FK5H0T+kcD0K16PAP+F6FK5H4co/CtejcD0Kxz+PwvUoXI/SPwAAAAAAANA/cT0K16NwzT+kcD0K16PAP+xRuB6F69E/exSuR+F6xD9mZmZmZmbWPylcj8L1KLw/ZmZmZmZm1j8fhetRuB7VP+F6FK5H4co/uB6F61G4zj/hehSuR+HKPzMzMzMzM9M/mpmZmZmZyT9mZmZmZmbWP5qZmZmZmbk/pHA9Ctej0D8pXI/C9SjMP2ZmZmZmZtY/mpmZmZmZuT+4HoXrUbi+PzMzMzMzM8M/mpmZmZmZyT97FK5H4XrUP1K4HoXrUcg/mpmZmZmZyT8fhetRuB7VPzMzMzMzM9M/mpmZmZmZuT8K16NwPQrHP+xRuB6F68E/pHA9CtejwD/hehSuR+HKP8P1KFyPwsU/ZmZmZmZm1j/sUbgehevRPzMzMzMzM9M/KVyPwvUozD+PwvUoXI/SP1K4HoXrUcg/H4XrUbge1T8zMzMzMzPTPwAAAAAAANA/mpmZmZmZuT+amZmZmZm5PzMzMzMzM9M/uB6F61G4zj+amZmZmZm5P5qZmZmZmck/exSuR+F61D+amZmZmZm5P+F6FK5H4co/uB6F61G4vj9SuB6F61HIP1K4HoXrUcg/MzMzMzMz0z97FK5H4XrEPylcj8L1KLw/exSuR+F61D9xPQrXo3DNP+xRuB6F69E/MzMzMzMzwz8pXI/C9SjMPwAAAAAAANA/j8L1KFyP0j8zMzMzMzPTP4/C9Shcj9I/KVyPwvUovD8fhetRuB7VP8P1KFyPwtU/cT0K16NwzT8zMzMzMzPTPwrXo3A9Csc/SOF6FK5H0T8AAAAAAADQPx+F61G4HtU/4XoUrkfhyj/D9Shcj8LVP0jhehSuR9E/16NwPQrX0z8K16NwPQrHP8P1KFyPwtU/uB6F61G4zj9mZmZmZmbWP6RwPQrXo9A/pHA9CtejwD8pXI/C9Si8P7gehetRuM4/CtejcD0Kxz9SuB6F61HIP8P1KFyPwtU/H4XrUbge1T8AAAAAAADQP2ZmZmZmZtY/uB6F61G4vj9mZmZmZmbWP0jhehSuR9E/cT0K16NwzT/sUbgehevBP+xRuB6F69E/w/UoXI/CxT/Xo3A9CtfTPylcj8L1KLw/mpmZmZmZyT+4HoXrUbi+Px+F61G4HtU/KVyPwvUozD97FK5H4XrEP3E9CtejcM0/CtejcD0Kxz97FK5H4XrUP+F6FK5H4co/UrgehetRyD/D9Shcj8LVP1K4HoXrUcg/exSuR+F6xD/hehSuR+HKP6RwPQrXo8A/j8L1KFyP0j9SuB6F61HIP5qZmZmZmbk/KVyPwvUovD9xPQrXo3DNPylcj8L1KLw/uB6F61G4zj/Xo3A9CtfTPwrXo3A9Csc/AAAAAAAA0D+kcD0K16PQP3sUrkfhetQ/exSuR+F61D8fhetRuB7VP8P1KFyPwsU/uB6F61G4zj+kcD0K16PQP5qZmZmZmbk/UrgehetRyD/D9Shcj8LFP7gehetRuL4/w/UoXI/C1T/Xo3A9CtfTP2ZmZmZmZtY/KVyPwvUovD+kcD0K16PQP4/C9Shcj9I/4XoUrkfhyj8AAAAAAADQP0jhehSuR9E/exSuR+F6xD+4HoXrUbi+P+xRuB6F68E/16NwPQrX0z8pXI/C9Si8P3sUrkfhetQ/SOF6FK5H0T8zMzMzMzPDP7gehetRuM4/uB6F61G4zj9I4XoUrkfRP6RwPQrXo9A/SOF6FK5H0T9mZmZmZmbWP4/C9Shcj9I/mpmZmZmZyT9mZmZmZmbWP7gehetRuL4/CtejcD0Kxz/sUbgehevRPzMzMzMzM9M/CtejcD0Kxz/sUbgehevBP1K4HoXrUcg/exSuR+F61D/sUbgehevRP9ejcD0K19M/4XoUrkfhyj/sUbgehevBPzMzMzMzM8M/UrgehetRyD8zMzMzMzPDP8P1KFyPwtU/CtejcD0Kxz9xPQrXo3DNP5qZmZmZmbk/7FG4HoXrwT+amZmZmZnJP3E9CtejcM0/4XoUrkfhyj+kcD0K16PQP7gehetRuM4/KVyPwvUovD97FK5H4XrEPzMzMzMzM9M/MzMzMzMzwz+amZmZmZm5PzMzMzMzM8M/4XoUrkfhyj/D9Shcj8LFP4/C9Shcj9I/exSuR+F6xD8K16NwPQrHP7gehetRuM4/7FG4HoXrwT8K16NwPQrHP1K4HoXrUcg/mpmZmZmZuT8pXI/C9SjMP+F6FK5H4co/CtejcD0Kxz/D9Shcj8LFP6RwPQrXo9A/pHA9CtejwD+4HoXrUbjOP+xRuB6F68E/AAAAAAAA0D9mZmZmZmbWP2ZmZmZmZtY/UrgehetRyD/sUbgehevBP+xRuB6F68E/mpmZmZmZuT8fhetRuB7VP3sUrkfhesQ/w/UoXI/C1T/sUbgehevBPx+F61G4HtU/uB6F61G4zj9xPQrXo3DNPzMzMzMzM9M/w/UoXI/CxT8pXI/C9SjMP6RwPQrXo8A/16NwPQrX0z8pXI/C9SjMPx+F61G4HtU/j8L1KFyP0j/D9Shcj8LVP3sUrkfhetQ/j8L1KFyP0j+PwvUoXI/SP+xRuB6F69E/pHA9CtejwD+4HoXrUbjOP3sUrkfhetQ/w/UoXI/C1T9I4XoUrkfRPylcj8L1KLw/CtejcD0Kxz8fhetRuB7VP+xRuB6F68E/uB6F61G4zj+amZmZmZnJPylcj8L1KMw/CtejcD0Kxz/D9Shcj8LFP6RwPQrXo9A/cT0K16NwzT/hehSuR+HKP5qZmZmZmck/AAAAAAAA0D8AAAAAAADQP+xRuB6F69E/exSuR+F61D8AAAAAAADQP8P1KFyPwsU/ZmZmZmZm1j/D9Shcj8LFP8P1KFyPwsU/AAAAAAAA0D8fhetRuB7VP2ZmZmZmZtY/KVyPwvUozD8zMzMzMzPDPwrXo3A9Csc/ZmZmZmZm1j+kcD0K16PAP5qZmZmZmck/4XoUrkfhyj8pXI/C9SjMPylcj8L1KMw/MzMzMzMz0z9mZmZmZmbWPx+F61G4HtU/j8L1KFyP0j/sUbgehevBP6RwPQrXo8A/MzMzMzMz0z9I4XoUrkfRP8P1KFyPwtU/pHA9CtejwD9I4XoUrkfRP4/C9Shcj9I/H4XrUbge1T97FK5H4XrEP+xRuB6F69E/4XoUrkfhyj97FK5H4XrEP4/C9Shcj9I/16NwPQrX0z9I4XoUrkfRPwrXo3A9Csc/H4XrUbge1T/sUbgehevRPylcj8L1KMw/7FG4HoXrwT9SuB6F61HIP3sUrkfhetQ/MzMzMzMz0z/Xo3A9CtfTP8P1KFyPwtU/7FG4HoXr0T8zMzMzMzPDPzMzMzMzM8M/w/UoXI/C1T+kcD0K16PQP4/C9Shcj9I/j8L1KFyP0j8AAAAAAADQPx+F61G4HtU/KVyPwvUozD+PwvUoXI/SP2ZmZmZmZtY/UrgehetRyD/Xo3A9CtfTP3sUrkfhesQ/w/UoXI/CxT+kcD0K16PQPwrXo3A9Csc/KVyPwvUovD+PwvUoXI/SP7gehetRuM4/SOF6FK5H0T+PwvUoXI/SP+xRuB6F68E/UrgehetRyD/sUbgehevRPx+F61G4HtU/4XoUrkfhyj+4HoXrUbjOP5qZmZmZmbk/j8L1KFyP0j8pXI/C9SjMP4/C9Shcj9I/exSuR+F61D+4HoXrUbi+P5qZmZmZmbk/4XoUrkfhyj8K16NwPQrHPwrXo3A9Csc/j8L1KFyP0j+amZmZmZm5P8P1KFyPwsU/MzMzMzMzwz/sUbgehevBPwrXo3A9Csc/ZmZmZmZm1j+4HoXrUbi+P+xRuB6F68E/KVyPwvUozD8zMzMzMzPDP0jhehSuR9E/UrgehetRyD9xPQrXo3DNP2ZmZmZmZtY/pHA9Ctej0D97FK5H4XrUP7gehetRuM4/ZmZmZmZm1j+kcD0K16PAP3sUrkfhetQ/AAAAAAAA0D9SuB6F61HIPzMzMzMzM9M/cT0K16NwzT8zMzMzMzPTP2ZmZmZmZtY/uB6F61G4zj97FK5H4XrEP5qZmZmZmck/CtejcD0Kxz+kcD0K16PQPwAAAAAAANA/exSuR+F6xD+4HoXrUbi+P5qZmZmZmck/CtejcD0Kxz+4HoXrUbjOP6RwPQrXo8A/UrgehetRyD/Xo3A9CtfTPwAAAAAAANA/16NwPQrX0z9mZmZmZmbWP2ZmZmZmZtY/4XoUrkfhyj9xPQrXo3DNPylcj8L1KMw/H4XrUbge1T97FK5H4XrUP3E9CtejcM0/uB6F61G4zj/sUbgehevRP+F6FK5H4co/SOF6FK5H0T9xPQrXo3DNP4/C9Shcj9I/SOF6FK5H0T97FK5H4XrEP5qZmZmZmbk/pHA9Ctej0D8pXI/C9SjMP4/C9Shcj9I/uB6F61G4zj8pXI/C9Si8P9ejcD0K19M/KVyPwvUozD8zMzMzMzPDP1K4HoXrUcg/MzMzMzMz0z+4HoXrUbjOPzMzMzMzM8M/ZmZmZmZm1j97FK5H4XrUP+xRuB6F69E/7FG4HoXr0T+amZmZmZnJP+xRuB6F69E/mpmZmZmZuT9mZmZmZmbWPzMzMzMzM8M/mpmZmZmZyT/sUbgehevBP3sUrkfhesQ/MzMzMzMz0z8pXI/C9SjMP7gehetRuL4/w/UoXI/C1T/Xo3A9CtfTP+xRuB6F69E/w/UoXI/CxT8K16NwPQrHPzMzMzMzM8M/mpmZmZmZuT9SuB6F61HIPzMzMzMzM8M/mpmZmZmZyT+amZmZmZnJP2ZmZmZmZtY/w/UoXI/CxT/D9Shcj8LFP+F6FK5H4co/7FG4HoXr0T/D9Shcj8LVP3sUrkfhetQ/4XoUrkfhyj8zMzMzMzPDPzMzMzMzM9M/CtejcD0Kxz+amZmZmZm5P+xRuB6F69E/7FG4HoXr0T9SuB6F61HIP3sUrkfhetQ/AAAAAAAA0D97FK5H4XrUP8P1KFyPwtU/w/UoXI/C1T/sUbgehevRP3sUrkfhesQ/mpmZmZmZyT/D9Shcj8LVPzMzMzMzM9M/j8L1KFyP0j8AAAAAAADQPwAAAAAAANA/cT0K16NwzT+kcD0K16PAP7gehetRuM4/7FG4HoXr0T9mZmZmZmbWP0jhehSuR9E/exSuR+F6xD97FK5H4XrEP8P1KFyPwsU/exSuR+F61D9SuB6F61HIP8P1KFyPwtU/UrgehetRyD8zMzMzMzPDP+xRuB6F68E/mpmZmZmZuT9I4XoUrkfRP3sUrkfhesQ/CtejcD0Kxz+4HoXrUbjOP8P1KFyPwtU/SOF6FK5H0T/D9Shcj8LVP4/C9Shcj9I/AAAAAAAA0D+4HoXrUbi+PwAAAAAAANA/uB6F61G4vj9mZmZmZmbWP7gehetRuM4/pHA9Ctej0D/sUbgehevBP6RwPQrXo8A/cT0K16NwzT/D9Shcj8LFPylcj8L1KLw/j8L1KFyP0j8zMzMzMzPDPzMzMzMzM8M/exSuR+F6xD97FK5H4XrEP+xRuB6F69E/7FG4HoXr0T/D9Shcj8LVP3E9CtejcM0/AAAAAAAA0D/hehSuR+HKP4/C9Shcj9I/7FG4HoXrwT8pXI/C9Si8P2ZmZmZmZtY/4XoUrkfhyj8zMzMzMzPDP5qZmZmZmck/ZmZmZmZm1j+4HoXrUbi+Pylcj8L1KMw/pHA9CtejwD/D9Shcj8LFP1K4HoXrUcg/ZmZmZmZm1j8AAAAAAADQP+xRuB6F69E/pHA9CtejwD9xPQrXo3DNP7gehetRuM4/H4XrUbge1T8AAAAAAADQP8P1KFyPwtU/AAAAAAAA0D+amZmZmZnJP5qZmZmZmck/CtejcD0Kxz8pXI/C9Si8P3sUrkfhesQ/uB6F61G4vj/sUbgehevRP+xRuB6F69E/cT0K16NwzT9mZmZmZmbWPylcj8L1KLw/CtejcD0Kxz+PwvUoXI/SPzMzMzMzM9M/16NwPQrX0z+amZmZmZnJP3E9CtejcM0/j8L1KFyP0j9mZmZmZmbWP4/C9Shcj9I/exSuR+F61D8zMzMzMzPDPwrXo3A9Csc/w/UoXI/C1T+4HoXrUbi+P+xRuB6F69E/H4XrUbge1T8K16NwPQrHP2ZmZmZmZtY/w/UoXI/CxT/D9Shcj8LFP8P1KFyPwsU/exSuR+F6xD/D9Shcj8LFP8P1KFyPwtU/SOF6FK5H0T+kcD0K16PAPzMzMzMzM8M/cT0K16NwzT8AAAAAAADQPzMzMzMzM8M/CtejcD0Kxz+kcD0K16PQP+xRuB6F68E/4XoUrkfhyj+kcD0K16PQP3E9CtejcM0/H4XrUbge1T+4HoXrUbjOP8P1KFyPwtU/ZmZmZmZm1j8pXI/C9SjMP8P1KFyPwtU/7FG4HoXr0T/sUbgehevRP4/C9Shcj9I/UrgehetRyD+4HoXrUbjOPwAAAAAAANA/H4XrUbge1T+kcD0K16PAPzMzMzMzM8M/4XoUrkfhyj/sUbgehevBP5qZmZmZmck/ZmZmZmZm1j+amZmZmZnJP8P1KFyPwsU/uB6F61G4zj8zMzMzMzPTP3E9CtejcM0/16NwPQrX0z/Xo3A9CtfTP8P1KFyPwsU/AAAAAAAA0D+PwvUoXI/SPwAAAAAAANA/ZmZmZmZm1j/D9Shcj8LFPwAAAAAAANA/UrgehetRyD+4HoXrUbi+Pylcj8L1KLw/H4XrUbge1T/hehSuR+HKP3sUrkfhesQ/MzMzMzMzwz9SuB6F61HIP3sUrkfhesQ/pHA9Ctej0D9mZmZmZmbWPwAAAAAAANA/4XoUrkfhyj/Xo3A9CtfTPylcj8L1KMw/mpmZmZmZuT/sUbgehevRP6RwPQrXo8A/7FG4HoXrwT97FK5H4XrEPwrXo3A9Csc/exSuR+F61D97FK5H4XrEP6RwPQrXo9A/pHA9CtejwD8zMzMzMzPTP6RwPQrXo9A/exSuR+F61D/D9Shcj8LVP3E9CtejcM0/mpmZmZmZuT8zMzMzMzPDP5qZmZmZmck/CtejcD0Kxz8zMzMzMzPDP4/C9Shcj9I/AAAAAAAA0D/Xo3A9CtfTP5qZmZmZmck/AAAAAAAA0D+amZmZmZnJPylcj8L1KLw/UrgehetRyD/hehSuR+HKPx+F61G4HtU/exSuR+F6xD/sUbgehevRP+xRuB6F69E/cT0K16NwzT+PwvUoXI/SPzMzMzMzM8M/j8L1KFyP0j8fhetRuB7VP2ZmZmZmZtY/cT0K16NwzT/Xo3A9CtfTP1K4HoXrUcg/exSuR+F61D/sUbgehevRP+xRuB6F69E/pHA9CtejwD9xPQrXo3DNP5qZmZmZmck/pHA9Ctej0D+amZmZmZm5P3sUrkfhesQ/MzMzMzMz0z+amZmZmZm5Px+F61G4HtU/SOF6FK5H0T8AAAAAAADQP5qZmZmZmbk/SOF6FK5H0T97FK5H4XrEP+xRuB6F69E/w/UoXI/CxT9I4XoUrkfRP+F6FK5H4co/uB6F61G4vj8K16NwPQrHPzMzMzMzM8M/uB6F61G4zj8K16NwPQrHP6RwPQrXo9A/KVyPwvUovD/hehSuR+HKP7gehetRuM4/4XoUrkfhyj97FK5H4XrEP0jhehSuR9E/exSuR+F61D8AAAAAAADQPzMzMzMzM9M/AAAAAAAA0D/hehSuR+HKP2ZmZmZmZtY/SOF6FK5H0T9SuB6F61HIP1K4HoXrUcg/SOF6FK5H0T+kcD0K16PQP6RwPQrXo9A/4XoUrkfhyj8zMzMzMzPTP5qZmZmZmbk/pHA9CtejwD/D9Shcj8LFP6RwPQrXo9A/MzMzMzMzwz97FK5H4XrUP0jhehSuR9E/uB6F61G4zj/sUbgehevRP8P1KFyPwtU/j8L1KFyP0j/D9Shcj8LFP8P1KFyPwsU/4XoUrkfhyj9SuB6F61HIP+xRuB6F69E/j8L1KFyP0j+kcD0K16PAP+F6FK5H4co/w/UoXI/CxT8fhetRuB7VPylcj8L1KMw/AAAAAAAA0D+kcD0K16PQP8P1KFyPwsU/mpmZmZmZuT+amZmZmZnJPylcj8L1KMw/AAAAAAAA0D+PwvUoXI/SPzMzMzMzM8M/7FG4HoXrwT+amZmZmZm5Pylcj8L1KLw/CtejcD0Kxz8pXI/C9Si8P6RwPQrXo9A/mpmZmZmZuT+4HoXrUbjOP2ZmZmZmZtY/uB6F61G4vj+4HoXrUbjOP9ejcD0K19M/j8L1KFyP0j8AAAAAAADQP7gehetRuM4/exSuR+F6xD9SuB6F61HIP7gehetRuL4/AAAAAAAA0D8zMzMzMzPDP8P1KFyPwsU/UrgehetRyD97FK5H4XrEP2ZmZmZmZtY/pHA9Ctej0D97FK5H4XrUPzMzMzMzM8M/uB6F61G4zj8K16NwPQrHP9ejcD0K19M/H4XrUbge1T9xPQrXo3DNP7gehetRuM4/7FG4HoXrwT/hehSuR+HKPzMzMzMzM9M/7FG4HoXr0T+kcD0K16PAP7gehetRuM4/uB6F61G4vj9xPQrXo3DNP5qZmZmZmck/uB6F61G4zj9xPQrXo3DNP1K4HoXrUcg/UrgehetRyD9I4XoUrkfRPylcj8L1KLw/SOF6FK5H0T8zMzMzMzPDP0jhehSuR9E/cT0K16NwzT9I4XoUrkfRP7gehetRuL4/pHA9Ctej0D9SuB6F61HIPx+F61G4HtU/cT0K16NwzT+amZmZmZm5P8P1KFyPwtU/uB6F61G4zj97FK5H4XrEP2ZmZmZmZtY/7FG4HoXr0T9I4XoUrkfRP5qZmZmZmbk/mpmZmZmZyT97FK5H4XrEP1K4HoXrUcg/H4XrUbge1T8zMzMzMzPTP3sUrkfhesQ/uB6F61G4zj9mZmZmZmbWP0jhehSuR9E/w/UoXI/C1T/D9Shcj8LVP9ejcD0K19M/CtejcD0Kxz8fhetRuB7VPzMzMzMzM9M/w/UoXI/CxT/hehSuR+HKP5qZmZmZmbk/ZmZmZmZm1j+4HoXrUbjOPzMzMzMzM8M/MzMzMzMzwz97FK5H4XrUP+xRuB6F69E/KVyPwvUozD+PwvUoXI/SP7gehetRuM4/MzMzMzMzwz8AAAAAAADQP2ZmZmZmZtY/uB6F61G4vj+kcD0K16PAP5qZmZmZmbk/pHA9CtejwD/Xo3A9CtfTP0jhehSuR9E/UrgehetRyD9I4XoUrkfRP3sUrkfhesQ/MzMzMzMz0z/D9Shcj8LVP3sUrkfhesQ/7FG4HoXr0T8AAAAAAADQP1K4HoXrUcg/16NwPQrX0z+amZmZmZnJPx+F61G4HtU/exSuR+F6xD9mZmZmZmbWPzMzMzMzM8M/MzMzMzMzwz9mZmZmZmbWP+F6FK5H4co/exSuR+F6xD+amZmZmZm5PzMzMzMzM9M/4XoUrkfhyj8K16NwPQrHP7gehetRuL4/w/UoXI/CxT9I4XoUrkfRP3sUrkfhetQ/uB6F61G4vj/sUbgehevBP1K4HoXrUcg/pHA9CtejwD+amZmZmZm5P+F6FK5H4co/UrgehetRyD+kcD0K16PQPzMzMzMzM8M/w/UoXI/C1T/D9Shcj8LFPzMzMzMzM8M/j8L1KFyP0j9I4XoUrkfRP1K4HoXrUcg/CtejcD0Kxz97FK5H4XrEP7gehetRuM4/H4XrUbge1T/hehSuR+HKP+xRuB6F69E/exSuR+F6xD+4HoXrUbjOPx+F61G4HtU/MzMzMzMz0z+4HoXrUbjOPylcj8L1KLw/16NwPQrX0z+kcD0K16PQP6RwPQrXo9A/MzMzMzMz0z8zMzMzMzPDP0jhehSuR9E/MzMzMzMzwz/D9Shcj8LFP1K4HoXrUcg/cT0K16NwzT+amZmZmZm5P6RwPQrXo8A/cT0K16NwzT+4HoXrUbi+PwrXo3A9Csc/MzMzMzMz0z97FK5H4XrUP8P1KFyPwsU/w/UoXI/C1T8K16NwPQrHP1K4HoXrUcg/uB6F61G4zj+kcD0K16PQP+xRuB6F69E/7FG4HoXrwT+4HoXrUbi+PzMzMzMzM9M/mpmZmZmZyT8zMzMzMzPTP6RwPQrXo8A/ZmZmZmZm1j/sUbgehevRP6RwPQrXo8A/UrgehetRyD9I4XoUrkfRP4/C9Shcj9I/mpmZmZmZyT+amZmZmZnJP5qZmZmZmbk/cT0K16NwzT97FK5H4XrEP6RwPQrXo8A/cT0K16NwzT+kcD0K16PAP+xRuB6F68E/KVyPwvUozD9xPQrXo3DNP4/C9Shcj9I/pHA9Ctej0D/D9Shcj8LFP0jhehSuR9E/4XoUrkfhyj8zMzMzMzPTPx+F61G4HtU/uB6F61G4vj+amZmZmZnJP1K4HoXrUcg/pHA9Ctej0D8zMzMzMzPTP+xRuB6F68E/ZmZmZmZm1j9xPQrXo3DNPx+F61G4HtU/KVyPwvUozD9I4XoUrkfRP6RwPQrXo9A/7FG4HoXr0T/D9Shcj8LFP2ZmZmZmZtY/4XoUrkfhyj97FK5H4XrUP8P1KFyPwtU/uB6F61G4vj8fhetRuB7VPzMzMzMzM8M/16NwPQrX0z/sUbgehevRP8P1KFyPwsU/16NwPQrX0z+kcD0K16PAP9ejcD0K19M/CtejcD0Kxz+4HoXrUbjOP6RwPQrXo8A/ZmZmZmZm1j+kcD0K16PQP0jhehSuR9E/7FG4HoXrwT+kcD0K16PAP6RwPQrXo9A/SOF6FK5H0T8fhetRuB7VP7gehetRuM4/MzMzMzMz0z97FK5H4XrEPw==",
          "dtype": "f8"
         },
         "xaxis": "x",
         "y": {
          "bdata": "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",
          "dtype": "i2"
         },
         "yaxis": "y"
        },
        {
         "hovertemplate": "<b>OLS trendline</b><br>Sales = -68.7079 * Discount + 1537.4<br>R<sup>2</sup>=0.000075<br><br>Category=Eggs, Meat & Fish<br>Discount Rate=%{x}<br>Sales (₹)=%{y} <b>(trend)</b><extra></extra>",
         "legendgroup": "Eggs, Meat & Fish",
         "marker": {
          "color": "#FF6692",
          "symbol": "circle"
         },
         "mode": "lines",
         "name": "Eggs, Meat & Fish",
         "showlegend": false,
         "type": "scattergl",
         "x": {
          "bdata": "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",
          "dtype": "f8"
         },
         "xaxis": "x",
         "y": {
          "bdata": "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",
          "dtype": "f8"
         },
         "yaxis": "y"
        }
       ],
       "layout": {
        "legend": {
         "title": {
          "text": "Category"
         },
         "tracegroupgap": 0
        },
        "template": {
         "data": {
          "bar": [
           {
            "error_x": {
             "color": "#f2f5fa"
            },
            "error_y": {
             "color": "#f2f5fa"
            },
            "marker": {
             "line": {
              "color": "rgb(17,17,17)",
              "width": 0.5
             },
             "pattern": {
              "fillmode": "overlay",
              "size": 10,
              "solidity": 0.2
             }
            },
            "type": "bar"
           }
          ],
          "barpolar": [
           {
            "marker": {
             "line": {
              "color": "rgb(17,17,17)",
              "width": 0.5
             },
             "pattern": {
              "fillmode": "overlay",
              "size": 10,
              "solidity": 0.2
             }
            },
            "type": "barpolar"
           }
          ],
          "carpet": [
           {
            "aaxis": {
             "endlinecolor": "#A2B1C6",
             "gridcolor": "#506784",
             "linecolor": "#506784",
             "minorgridcolor": "#506784",
             "startlinecolor": "#A2B1C6"
            },
            "baxis": {
             "endlinecolor": "#A2B1C6",
             "gridcolor": "#506784",
             "linecolor": "#506784",
             "minorgridcolor": "#506784",
             "startlinecolor": "#A2B1C6"
            },
            "type": "carpet"
           }
          ],
          "choropleth": [
           {
            "colorbar": {
             "outlinewidth": 0,
             "ticks": ""
            },
            "type": "choropleth"
           }
          ],
          "contour": [
           {
            "colorbar": {
             "outlinewidth": 0,
             "ticks": ""
            },
            "colorscale": [
             [
              0,
              "#0d0887"
             ],
             [
              0.1111111111111111,
              "#46039f"
             ],
             [
              0.2222222222222222,
              "#7201a8"
             ],
             [
              0.3333333333333333,
              "#9c179e"
             ],
             [
              0.4444444444444444,
              "#bd3786"
             ],
             [
              0.5555555555555556,
              "#d8576b"
             ],
             [
              0.6666666666666666,
              "#ed7953"
             ],
             [
              0.7777777777777778,
              "#fb9f3a"
             ],
             [
              0.8888888888888888,
              "#fdca26"
             ],
             [
              1,
              "#f0f921"
             ]
            ],
            "type": "contour"
           }
          ],
          "contourcarpet": [
           {
            "colorbar": {
             "outlinewidth": 0,
             "ticks": ""
            },
            "type": "contourcarpet"
           }
          ],
          "heatmap": [
           {
            "colorbar": {
             "outlinewidth": 0,
             "ticks": ""
            },
            "colorscale": [
             [
              0,
              "#0d0887"
             ],
             [
              0.1111111111111111,
              "#46039f"
             ],
             [
              0.2222222222222222,
              "#7201a8"
             ],
             [
              0.3333333333333333,
              "#9c179e"
             ],
             [
              0.4444444444444444,
              "#bd3786"
             ],
             [
              0.5555555555555556,
              "#d8576b"
             ],
             [
              0.6666666666666666,
              "#ed7953"
             ],
             [
              0.7777777777777778,
              "#fb9f3a"
             ],
             [
              0.8888888888888888,
              "#fdca26"
             ],
             [
              1,
              "#f0f921"
             ]
            ],
            "type": "heatmap"
           }
          ],
          "histogram": [
           {
            "marker": {
             "pattern": {
              "fillmode": "overlay",
              "size": 10,
              "solidity": 0.2
             }
            },
            "type": "histogram"
           }
          ],
          "histogram2d": [
           {
            "colorbar": {
             "outlinewidth": 0,
             "ticks": ""
            },
            "colorscale": [
             [
              0,
              "#0d0887"
             ],
             [
              0.1111111111111111,
              "#46039f"
             ],
             [
              0.2222222222222222,
              "#7201a8"
             ],
             [
              0.3333333333333333,
              "#9c179e"
             ],
             [
              0.4444444444444444,
              "#bd3786"
             ],
             [
              0.5555555555555556,
              "#d8576b"
             ],
             [
              0.6666666666666666,
              "#ed7953"
             ],
             [
              0.7777777777777778,
              "#fb9f3a"
             ],
             [
              0.8888888888888888,
              "#fdca26"
             ],
             [
              1,
              "#f0f921"
             ]
            ],
            "type": "histogram2d"
           }
          ],
          "histogram2dcontour": [
           {
            "colorbar": {
             "outlinewidth": 0,
             "ticks": ""
            },
            "colorscale": [
             [
              0,
              "#0d0887"
             ],
             [
              0.1111111111111111,
              "#46039f"
             ],
             [
              0.2222222222222222,
              "#7201a8"
             ],
             [
              0.3333333333333333,
              "#9c179e"
             ],
             [
              0.4444444444444444,
              "#bd3786"
             ],
             [
              0.5555555555555556,
              "#d8576b"
             ],
             [
              0.6666666666666666,
              "#ed7953"
             ],
             [
              0.7777777777777778,
              "#fb9f3a"
             ],
             [
              0.8888888888888888,
              "#fdca26"
             ],
             [
              1,
              "#f0f921"
             ]
            ],
            "type": "histogram2dcontour"
           }
          ],
          "mesh3d": [
           {
            "colorbar": {
             "outlinewidth": 0,
             "ticks": ""
            },
            "type": "mesh3d"
           }
          ],
          "parcoords": [
           {
            "line": {
             "colorbar": {
              "outlinewidth": 0,
              "ticks": ""
             }
            },
            "type": "parcoords"
           }
          ],
          "pie": [
           {
            "automargin": true,
            "type": "pie"
           }
          ],
          "scatter": [
           {
            "marker": {
             "line": {
              "color": "#283442"
             }
            },
            "type": "scatter"
           }
          ],
          "scatter3d": [
           {
            "line": {
             "colorbar": {
              "outlinewidth": 0,
              "ticks": ""
             }
            },
            "marker": {
             "colorbar": {
              "outlinewidth": 0,
              "ticks": ""
             }
            },
            "type": "scatter3d"
           }
          ],
          "scattercarpet": [
           {
            "marker": {
             "colorbar": {
              "outlinewidth": 0,
              "ticks": ""
             }
            },
            "type": "scattercarpet"
           }
          ],
          "scattergeo": [
           {
            "marker": {
             "colorbar": {
              "outlinewidth": 0,
              "ticks": ""
             }
            },
            "type": "scattergeo"
           }
          ],
          "scattergl": [
           {
            "marker": {
             "line": {
              "color": "#283442"
             }
            },
            "type": "scattergl"
           }
          ],
          "scattermap": [
           {
            "marker": {
             "colorbar": {
              "outlinewidth": 0,
              "ticks": ""
             }
            },
            "type": "scattermap"
           }
          ],
          "scattermapbox": [
           {
            "marker": {
             "colorbar": {
              "outlinewidth": 0,
              "ticks": ""
             }
            },
            "type": "scattermapbox"
           }
          ],
          "scatterpolar": [
           {
            "marker": {
             "colorbar": {
              "outlinewidth": 0,
              "ticks": ""
             }
            },
            "type": "scatterpolar"
           }
          ],
          "scatterpolargl": [
           {
            "marker": {
             "colorbar": {
              "outlinewidth": 0,
              "ticks": ""
             }
            },
            "type": "scatterpolargl"
           }
          ],
          "scatterternary": [
           {
            "marker": {
             "colorbar": {
              "outlinewidth": 0,
              "ticks": ""
             }
            },
            "type": "scatterternary"
           }
          ],
          "surface": [
           {
            "colorbar": {
             "outlinewidth": 0,
             "ticks": ""
            },
            "colorscale": [
             [
              0,
              "#0d0887"
             ],
             [
              0.1111111111111111,
              "#46039f"
             ],
             [
              0.2222222222222222,
              "#7201a8"
             ],
             [
              0.3333333333333333,
              "#9c179e"
             ],
             [
              0.4444444444444444,
              "#bd3786"
             ],
             [
              0.5555555555555556,
              "#d8576b"
             ],
             [
              0.6666666666666666,
              "#ed7953"
             ],
             [
              0.7777777777777778,
              "#fb9f3a"
             ],
             [
              0.8888888888888888,
              "#fdca26"
             ],
             [
              1,
              "#f0f921"
             ]
            ],
            "type": "surface"
           }
          ],
          "table": [
           {
            "cells": {
             "fill": {
              "color": "#506784"
             },
             "line": {
              "color": "rgb(17,17,17)"
             }
            },
            "header": {
             "fill": {
              "color": "#2a3f5f"
             },
             "line": {
              "color": "rgb(17,17,17)"
             }
            },
            "type": "table"
           }
          ]
         },
         "layout": {
          "annotationdefaults": {
           "arrowcolor": "#f2f5fa",
           "arrowhead": 0,
           "arrowwidth": 1
          },
          "autotypenumbers": "strict",
          "coloraxis": {
           "colorbar": {
            "outlinewidth": 0,
            "ticks": ""
           }
          },
          "colorscale": {
           "diverging": [
            [
             0,
             "#8e0152"
            ],
            [
             0.1,
             "#c51b7d"
            ],
            [
             0.2,
             "#de77ae"
            ],
            [
             0.3,
             "#f1b6da"
            ],
            [
             0.4,
             "#fde0ef"
            ],
            [
             0.5,
             "#f7f7f7"
            ],
            [
             0.6,
             "#e6f5d0"
            ],
            [
             0.7,
             "#b8e186"
            ],
            [
             0.8,
             "#7fbc41"
            ],
            [
             0.9,
             "#4d9221"
            ],
            [
             1,
             "#276419"
            ]
           ],
           "sequential": [
            [
             0,
             "#0d0887"
            ],
            [
             0.1111111111111111,
             "#46039f"
            ],
            [
             0.2222222222222222,
             "#7201a8"
            ],
            [
             0.3333333333333333,
             "#9c179e"
            ],
            [
             0.4444444444444444,
             "#bd3786"
            ],
            [
             0.5555555555555556,
             "#d8576b"
            ],
            [
             0.6666666666666666,
             "#ed7953"
            ],
            [
             0.7777777777777778,
             "#fb9f3a"
            ],
            [
             0.8888888888888888,
             "#fdca26"
            ],
            [
             1,
             "#f0f921"
            ]
           ],
           "sequentialminus": [
            [
             0,
             "#0d0887"
            ],
            [
             0.1111111111111111,
             "#46039f"
            ],
            [
             0.2222222222222222,
             "#7201a8"
            ],
            [
             0.3333333333333333,
             "#9c179e"
            ],
            [
             0.4444444444444444,
             "#bd3786"
            ],
            [
             0.5555555555555556,
             "#d8576b"
            ],
            [
             0.6666666666666666,
             "#ed7953"
            ],
            [
             0.7777777777777778,
             "#fb9f3a"
            ],
            [
             0.8888888888888888,
             "#fdca26"
            ],
            [
             1,
             "#f0f921"
            ]
           ]
          },
          "colorway": [
           "#636efa",
           "#EF553B",
           "#00cc96",
           "#ab63fa",
           "#FFA15A",
           "#19d3f3",
           "#FF6692",
           "#B6E880",
           "#FF97FF",
           "#FECB52"
          ],
          "font": {
           "color": "#f2f5fa"
          },
          "geo": {
           "bgcolor": "rgb(17,17,17)",
           "lakecolor": "rgb(17,17,17)",
           "landcolor": "rgb(17,17,17)",
           "showlakes": true,
           "showland": true,
           "subunitcolor": "#506784"
          },
          "hoverlabel": {
           "align": "left"
          },
          "hovermode": "closest",
          "mapbox": {
           "style": "dark"
          },
          "paper_bgcolor": "rgb(17,17,17)",
          "plot_bgcolor": "rgb(17,17,17)",
          "polar": {
           "angularaxis": {
            "gridcolor": "#506784",
            "linecolor": "#506784",
            "ticks": ""
           },
           "bgcolor": "rgb(17,17,17)",
           "radialaxis": {
            "gridcolor": "#506784",
            "linecolor": "#506784",
            "ticks": ""
           }
          },
          "scene": {
           "xaxis": {
            "backgroundcolor": "rgb(17,17,17)",
            "gridcolor": "#506784",
            "gridwidth": 2,
            "linecolor": "#506784",
            "showbackground": true,
            "ticks": "",
            "zerolinecolor": "#C8D4E3"
           },
           "yaxis": {
            "backgroundcolor": "rgb(17,17,17)",
            "gridcolor": "#506784",
            "gridwidth": 2,
            "linecolor": "#506784",
            "showbackground": true,
            "ticks": "",
            "zerolinecolor": "#C8D4E3"
           },
           "zaxis": {
            "backgroundcolor": "rgb(17,17,17)",
            "gridcolor": "#506784",
            "gridwidth": 2,
            "linecolor": "#506784",
            "showbackground": true,
            "ticks": "",
            "zerolinecolor": "#C8D4E3"
           }
          },
          "shapedefaults": {
           "line": {
            "color": "#f2f5fa"
           }
          },
          "sliderdefaults": {
           "bgcolor": "#C8D4E3",
           "bordercolor": "rgb(17,17,17)",
           "borderwidth": 1,
           "tickwidth": 0
          },
          "ternary": {
           "aaxis": {
            "gridcolor": "#506784",
            "linecolor": "#506784",
            "ticks": ""
           },
           "baxis": {
            "gridcolor": "#506784",
            "linecolor": "#506784",
            "ticks": ""
           },
           "bgcolor": "rgb(17,17,17)",
           "caxis": {
            "gridcolor": "#506784",
            "linecolor": "#506784",
            "ticks": ""
           }
          },
          "title": {
           "x": 0.05
          },
          "updatemenudefaults": {
           "bgcolor": "#506784",
           "borderwidth": 0
          },
          "xaxis": {
           "automargin": true,
           "gridcolor": "#283442",
           "linecolor": "#506784",
           "ticks": "",
           "title": {
            "standoff": 15
           },
           "zerolinecolor": "#283442",
           "zerolinewidth": 2
          },
          "yaxis": {
           "automargin": true,
           "gridcolor": "#283442",
           "linecolor": "#506784",
           "ticks": "",
           "title": {
            "standoff": 15
           },
           "zerolinecolor": "#283442",
           "zerolinewidth": 2
          }
         }
        },
        "title": {
         "text": "Discount vs. Sales by Category"
        },
        "xaxis": {
         "anchor": "y",
         "domain": [
          0,
          1
         ],
         "title": {
          "text": "Discount Rate"
         }
        },
        "yaxis": {
         "anchor": "x",
         "domain": [
          0,
          1
         ],
         "title": {
          "text": "Sales (₹)"
         }
        }
       }
      }
     },
     "metadata": {},
     "output_type": "display_data"
    }
   ],
   "source": [
    "fig = px.scatter(df, x='Discount', y='Sales', color='Category',\n",
    "                 trendline='ols',\n",
    "                 title='Discount vs. Sales by Category',\n",
    "                 labels={'Discount': 'Discount Rate', 'Sales': 'Sales (₹)'})\n",
    "fig.show()"
   ]
  },
  {
   "cell_type": "code",
   "execution_count": 31,
   "metadata": {
    "ExecuteTime": {
     "end_time": "2025-05-11T14:27:41.101710Z",
     "start_time": "2025-05-11T14:27:41.048186Z"
    },
    "colab": {
     "base_uri": "https://localhost:8080/",
     "height": 542
    },
    "id": "yS1MTQm1ezCy",
    "outputId": "1bb8d942-6020-4b0b-a816-3f9b03c2116a"
   },
   "outputs": [
    {
     "data": {
      "application/vnd.plotly.v1+json": {
       "config": {
        "plotlyServerURL": "https://plot.ly"
       },
       "data": [
        {
         "alignmentgroup": "True",
         "hovertemplate": "Category=Oil & Masala<br>Discount Rate=%{x}<br>Profit (₹)=%{y}<extra></extra>",
         "legendgroup": "Oil & Masala",
         "marker": {
          "color": "#636efa"
         },
         "name": "Oil & Masala",
         "notched": false,
         "offsetgroup": "Oil & Masala",
         "orientation": "v",
         "showlegend": true,
         "type": "box",
         "x": {
          "bdata": "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",
          "dtype": "f8"
         },
         "x0": " ",
         "xaxis": "x",
         "y": {
          "bdata": "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",
          "dtype": "f8"
         },
         "y0": " ",
         "yaxis": "y"
        },
        {
         "alignmentgroup": "True",
         "hovertemplate": "Category=Beverages<br>Discount Rate=%{x}<br>Profit (₹)=%{y}<extra></extra>",
         "legendgroup": "Beverages",
         "marker": {
          "color": "#EF553B"
         },
         "name": "Beverages",
         "notched": false,
         "offsetgroup": "Beverages",
         "orientation": "v",
         "showlegend": true,
         "type": "box",
         "x": {
          "bdata": "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",
          "dtype": "f8"
         },
         "x0": " ",
         "xaxis": "x",
         "y": {
          "bdata": "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",
          "dtype": "f8"
         },
         "y0": " ",
         "yaxis": "y"
        },
        {
         "alignmentgroup": "True",
         "hovertemplate": "Category=Food Grains<br>Discount Rate=%{x}<br>Profit (₹)=%{y}<extra></extra>",
         "legendgroup": "Food Grains",
         "marker": {
          "color": "#00cc96"
         },
         "name": "Food Grains",
         "notched": false,
         "offsetgroup": "Food Grains",
         "orientation": "v",
         "showlegend": true,
         "type": "box",
         "x": {
          "bdata": "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",
          "dtype": "f8"
         },
         "x0": " ",
         "xaxis": "x",
         "y": {
          "bdata": "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",
          "dtype": "f8"
         },
         "y0": " ",
         "yaxis": "y"
        },
        {
         "alignmentgroup": "True",
         "hovertemplate": "Category=Fruits & Veggies<br>Discount Rate=%{x}<br>Profit (₹)=%{y}<extra></extra>",
         "legendgroup": "Fruits & Veggies",
         "marker": {
          "color": "#ab63fa"
         },
         "name": "Fruits & Veggies",
         "notched": false,
         "offsetgroup": "Fruits & Veggies",
         "orientation": "v",
         "showlegend": true,
         "type": "box",
         "x": {
          "bdata": "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",
          "dtype": "f8"
         },
         "x0": " ",
         "xaxis": "x",
         "y": {
          "bdata": "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",
          "dtype": "f8"
         },
         "y0": " ",
         "yaxis": "y"
        },
        {
         "alignmentgroup": "True",
         "hovertemplate": "Category=Bakery<br>Discount Rate=%{x}<br>Profit (₹)=%{y}<extra></extra>",
         "legendgroup": "Bakery",
         "marker": {
          "color": "#FFA15A"
         },
         "name": "Bakery",
         "notched": false,
         "offsetgroup": "Bakery",
         "orientation": "v",
         "showlegend": true,
         "type": "box",
         "x": {
          "bdata": "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",
          "dtype": "f8"
         },
         "x0": " ",
         "xaxis": "x",
         "y": {
          "bdata": "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",
          "dtype": "f8"
         },
         "y0": " ",
         "yaxis": "y"
        },
        {
         "alignmentgroup": "True",
         "hovertemplate": "Category=Snacks<br>Discount Rate=%{x}<br>Profit (₹)=%{y}<extra></extra>",
         "legendgroup": "Snacks",
         "marker": {
          "color": "#19d3f3"
         },
         "name": "Snacks",
         "notched": false,
         "offsetgroup": "Snacks",
         "orientation": "v",
         "showlegend": true,
         "type": "box",
         "x": {
          "bdata": "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",
          "dtype": "f8"
         },
         "x0": " ",
         "xaxis": "x",
         "y": {
          "bdata": "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",
          "dtype": "f8"
         },
         "y0": " ",
         "yaxis": "y"
        },
        {
         "alignmentgroup": "True",
         "hovertemplate": "Category=Eggs, Meat & Fish<br>Discount Rate=%{x}<br>Profit (₹)=%{y}<extra></extra>",
         "legendgroup": "Eggs, Meat & Fish",
         "marker": {
          "color": "#FF6692"
         },
         "name": "Eggs, Meat & Fish",
         "notched": false,
         "offsetgroup": "Eggs, Meat & Fish",
         "orientation": "v",
         "showlegend": true,
         "type": "box",
         "x": {
          "bdata": "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",
          "dtype": "f8"
         },
         "x0": " ",
         "xaxis": "x",
         "y": {
          "bdata": "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",
          "dtype": "f8"
         },
         "y0": " ",
         "yaxis": "y"
        }
       ],
       "layout": {
        "boxmode": "group",
        "legend": {
         "title": {
          "text": "Category"
         },
         "tracegroupgap": 0
        },
        "showlegend": false,
        "template": {
         "data": {
          "bar": [
           {
            "error_x": {
             "color": "#f2f5fa"
            },
            "error_y": {
             "color": "#f2f5fa"
            },
            "marker": {
             "line": {
              "color": "rgb(17,17,17)",
              "width": 0.5
             },
             "pattern": {
              "fillmode": "overlay",
              "size": 10,
              "solidity": 0.2
             }
            },
            "type": "bar"
           }
          ],
          "barpolar": [
           {
            "marker": {
             "line": {
              "color": "rgb(17,17,17)",
              "width": 0.5
             },
             "pattern": {
              "fillmode": "overlay",
              "size": 10,
              "solidity": 0.2
             }
            },
            "type": "barpolar"
           }
          ],
          "carpet": [
           {
            "aaxis": {
             "endlinecolor": "#A2B1C6",
             "gridcolor": "#506784",
             "linecolor": "#506784",
             "minorgridcolor": "#506784",
             "startlinecolor": "#A2B1C6"
            },
            "baxis": {
             "endlinecolor": "#A2B1C6",
             "gridcolor": "#506784",
             "linecolor": "#506784",
             "minorgridcolor": "#506784",
             "startlinecolor": "#A2B1C6"
            },
            "type": "carpet"
           }
          ],
          "choropleth": [
           {
            "colorbar": {
             "outlinewidth": 0,
             "ticks": ""
            },
            "type": "choropleth"
           }
          ],
          "contour": [
           {
            "colorbar": {
             "outlinewidth": 0,
             "ticks": ""
            },
            "colorscale": [
             [
              0,
              "#0d0887"
             ],
             [
              0.1111111111111111,
              "#46039f"
             ],
             [
              0.2222222222222222,
              "#7201a8"
             ],
             [
              0.3333333333333333,
              "#9c179e"
             ],
             [
              0.4444444444444444,
              "#bd3786"
             ],
             [
              0.5555555555555556,
              "#d8576b"
             ],
             [
              0.6666666666666666,
              "#ed7953"
             ],
             [
              0.7777777777777778,
              "#fb9f3a"
             ],
             [
              0.8888888888888888,
              "#fdca26"
             ],
             [
              1,
              "#f0f921"
             ]
            ],
            "type": "contour"
           }
          ],
          "contourcarpet": [
           {
            "colorbar": {
             "outlinewidth": 0,
             "ticks": ""
            },
            "type": "contourcarpet"
           }
          ],
          "heatmap": [
           {
            "colorbar": {
             "outlinewidth": 0,
             "ticks": ""
            },
            "colorscale": [
             [
              0,
              "#0d0887"
             ],
             [
              0.1111111111111111,
              "#46039f"
             ],
             [
              0.2222222222222222,
              "#7201a8"
             ],
             [
              0.3333333333333333,
              "#9c179e"
             ],
             [
              0.4444444444444444,
              "#bd3786"
             ],
             [
              0.5555555555555556,
              "#d8576b"
             ],
             [
              0.6666666666666666,
              "#ed7953"
             ],
             [
              0.7777777777777778,
              "#fb9f3a"
             ],
             [
              0.8888888888888888,
              "#fdca26"
             ],
             [
              1,
              "#f0f921"
             ]
            ],
            "type": "heatmap"
           }
          ],
          "histogram": [
           {
            "marker": {
             "pattern": {
              "fillmode": "overlay",
              "size": 10,
              "solidity": 0.2
             }
            },
            "type": "histogram"
           }
          ],
          "histogram2d": [
           {
            "colorbar": {
             "outlinewidth": 0,
             "ticks": ""
            },
            "colorscale": [
             [
              0,
              "#0d0887"
             ],
             [
              0.1111111111111111,
              "#46039f"
             ],
             [
              0.2222222222222222,
              "#7201a8"
             ],
             [
              0.3333333333333333,
              "#9c179e"
             ],
             [
              0.4444444444444444,
              "#bd3786"
             ],
             [
              0.5555555555555556,
              "#d8576b"
             ],
             [
              0.6666666666666666,
              "#ed7953"
             ],
             [
              0.7777777777777778,
              "#fb9f3a"
             ],
             [
              0.8888888888888888,
              "#fdca26"
             ],
             [
              1,
              "#f0f921"
             ]
            ],
            "type": "histogram2d"
           }
          ],
          "histogram2dcontour": [
           {
            "colorbar": {
             "outlinewidth": 0,
             "ticks": ""
            },
            "colorscale": [
             [
              0,
              "#0d0887"
             ],
             [
              0.1111111111111111,
              "#46039f"
             ],
             [
              0.2222222222222222,
              "#7201a8"
             ],
             [
              0.3333333333333333,
              "#9c179e"
             ],
             [
              0.4444444444444444,
              "#bd3786"
             ],
             [
              0.5555555555555556,
              "#d8576b"
             ],
             [
              0.6666666666666666,
              "#ed7953"
             ],
             [
              0.7777777777777778,
              "#fb9f3a"
             ],
             [
              0.8888888888888888,
              "#fdca26"
             ],
             [
              1,
              "#f0f921"
             ]
            ],
            "type": "histogram2dcontour"
           }
          ],
          "mesh3d": [
           {
            "colorbar": {
             "outlinewidth": 0,
             "ticks": ""
            },
            "type": "mesh3d"
           }
          ],
          "parcoords": [
           {
            "line": {
             "colorbar": {
              "outlinewidth": 0,
              "ticks": ""
             }
            },
            "type": "parcoords"
           }
          ],
          "pie": [
           {
            "automargin": true,
            "type": "pie"
           }
          ],
          "scatter": [
           {
            "marker": {
             "line": {
              "color": "#283442"
             }
            },
            "type": "scatter"
           }
          ],
          "scatter3d": [
           {
            "line": {
             "colorbar": {
              "outlinewidth": 0,
              "ticks": ""
             }
            },
            "marker": {
             "colorbar": {
              "outlinewidth": 0,
              "ticks": ""
             }
            },
            "type": "scatter3d"
           }
          ],
          "scattercarpet": [
           {
            "marker": {
             "colorbar": {
              "outlinewidth": 0,
              "ticks": ""
             }
            },
            "type": "scattercarpet"
           }
          ],
          "scattergeo": [
           {
            "marker": {
             "colorbar": {
              "outlinewidth": 0,
              "ticks": ""
             }
            },
            "type": "scattergeo"
           }
          ],
          "scattergl": [
           {
            "marker": {
             "line": {
              "color": "#283442"
             }
            },
            "type": "scattergl"
           }
          ],
          "scattermap": [
           {
            "marker": {
             "colorbar": {
              "outlinewidth": 0,
              "ticks": ""
             }
            },
            "type": "scattermap"
           }
          ],
          "scattermapbox": [
           {
            "marker": {
             "colorbar": {
              "outlinewidth": 0,
              "ticks": ""
             }
            },
            "type": "scattermapbox"
           }
          ],
          "scatterpolar": [
           {
            "marker": {
             "colorbar": {
              "outlinewidth": 0,
              "ticks": ""
             }
            },
            "type": "scatterpolar"
           }
          ],
          "scatterpolargl": [
           {
            "marker": {
             "colorbar": {
              "outlinewidth": 0,
              "ticks": ""
             }
            },
            "type": "scatterpolargl"
           }
          ],
          "scatterternary": [
           {
            "marker": {
             "colorbar": {
              "outlinewidth": 0,
              "ticks": ""
             }
            },
            "type": "scatterternary"
           }
          ],
          "surface": [
           {
            "colorbar": {
             "outlinewidth": 0,
             "ticks": ""
            },
            "colorscale": [
             [
              0,
              "#0d0887"
             ],
             [
              0.1111111111111111,
              "#46039f"
             ],
             [
              0.2222222222222222,
              "#7201a8"
             ],
             [
              0.3333333333333333,
              "#9c179e"
             ],
             [
              0.4444444444444444,
              "#bd3786"
             ],
             [
              0.5555555555555556,
              "#d8576b"
             ],
             [
              0.6666666666666666,
              "#ed7953"
             ],
             [
              0.7777777777777778,
              "#fb9f3a"
             ],
             [
              0.8888888888888888,
              "#fdca26"
             ],
             [
              1,
              "#f0f921"
             ]
            ],
            "type": "surface"
           }
          ],
          "table": [
           {
            "cells": {
             "fill": {
              "color": "#506784"
             },
             "line": {
              "color": "rgb(17,17,17)"
             }
            },
            "header": {
             "fill": {
              "color": "#2a3f5f"
             },
             "line": {
              "color": "rgb(17,17,17)"
             }
            },
            "type": "table"
           }
          ]
         },
         "layout": {
          "annotationdefaults": {
           "arrowcolor": "#f2f5fa",
           "arrowhead": 0,
           "arrowwidth": 1
          },
          "autotypenumbers": "strict",
          "coloraxis": {
           "colorbar": {
            "outlinewidth": 0,
            "ticks": ""
           }
          },
          "colorscale": {
           "diverging": [
            [
             0,
             "#8e0152"
            ],
            [
             0.1,
             "#c51b7d"
            ],
            [
             0.2,
             "#de77ae"
            ],
            [
             0.3,
             "#f1b6da"
            ],
            [
             0.4,
             "#fde0ef"
            ],
            [
             0.5,
             "#f7f7f7"
            ],
            [
             0.6,
             "#e6f5d0"
            ],
            [
             0.7,
             "#b8e186"
            ],
            [
             0.8,
             "#7fbc41"
            ],
            [
             0.9,
             "#4d9221"
            ],
            [
             1,
             "#276419"
            ]
           ],
           "sequential": [
            [
             0,
             "#0d0887"
            ],
            [
             0.1111111111111111,
             "#46039f"
            ],
            [
             0.2222222222222222,
             "#7201a8"
            ],
            [
             0.3333333333333333,
             "#9c179e"
            ],
            [
             0.4444444444444444,
             "#bd3786"
            ],
            [
             0.5555555555555556,
             "#d8576b"
            ],
            [
             0.6666666666666666,
             "#ed7953"
            ],
            [
             0.7777777777777778,
             "#fb9f3a"
            ],
            [
             0.8888888888888888,
             "#fdca26"
            ],
            [
             1,
             "#f0f921"
            ]
           ],
           "sequentialminus": [
            [
             0,
             "#0d0887"
            ],
            [
             0.1111111111111111,
             "#46039f"
            ],
            [
             0.2222222222222222,
             "#7201a8"
            ],
            [
             0.3333333333333333,
             "#9c179e"
            ],
            [
             0.4444444444444444,
             "#bd3786"
            ],
            [
             0.5555555555555556,
             "#d8576b"
            ],
            [
             0.6666666666666666,
             "#ed7953"
            ],
            [
             0.7777777777777778,
             "#fb9f3a"
            ],
            [
             0.8888888888888888,
             "#fdca26"
            ],
            [
             1,
             "#f0f921"
            ]
           ]
          },
          "colorway": [
           "#636efa",
           "#EF553B",
           "#00cc96",
           "#ab63fa",
           "#FFA15A",
           "#19d3f3",
           "#FF6692",
           "#B6E880",
           "#FF97FF",
           "#FECB52"
          ],
          "font": {
           "color": "#f2f5fa"
          },
          "geo": {
           "bgcolor": "rgb(17,17,17)",
           "lakecolor": "rgb(17,17,17)",
           "landcolor": "rgb(17,17,17)",
           "showlakes": true,
           "showland": true,
           "subunitcolor": "#506784"
          },
          "hoverlabel": {
           "align": "left"
          },
          "hovermode": "closest",
          "mapbox": {
           "style": "dark"
          },
          "paper_bgcolor": "rgb(17,17,17)",
          "plot_bgcolor": "rgb(17,17,17)",
          "polar": {
           "angularaxis": {
            "gridcolor": "#506784",
            "linecolor": "#506784",
            "ticks": ""
           },
           "bgcolor": "rgb(17,17,17)",
           "radialaxis": {
            "gridcolor": "#506784",
            "linecolor": "#506784",
            "ticks": ""
           }
          },
          "scene": {
           "xaxis": {
            "backgroundcolor": "rgb(17,17,17)",
            "gridcolor": "#506784",
            "gridwidth": 2,
            "linecolor": "#506784",
            "showbackground": true,
            "ticks": "",
            "zerolinecolor": "#C8D4E3"
           },
           "yaxis": {
            "backgroundcolor": "rgb(17,17,17)",
            "gridcolor": "#506784",
            "gridwidth": 2,
            "linecolor": "#506784",
            "showbackground": true,
            "ticks": "",
            "zerolinecolor": "#C8D4E3"
           },
           "zaxis": {
            "backgroundcolor": "rgb(17,17,17)",
            "gridcolor": "#506784",
            "gridwidth": 2,
            "linecolor": "#506784",
            "showbackground": true,
            "ticks": "",
            "zerolinecolor": "#C8D4E3"
           }
          },
          "shapedefaults": {
           "line": {
            "color": "#f2f5fa"
           }
          },
          "sliderdefaults": {
           "bgcolor": "#C8D4E3",
           "bordercolor": "rgb(17,17,17)",
           "borderwidth": 1,
           "tickwidth": 0
          },
          "ternary": {
           "aaxis": {
            "gridcolor": "#506784",
            "linecolor": "#506784",
            "ticks": ""
           },
           "baxis": {
            "gridcolor": "#506784",
            "linecolor": "#506784",
            "ticks": ""
           },
           "bgcolor": "rgb(17,17,17)",
           "caxis": {
            "gridcolor": "#506784",
            "linecolor": "#506784",
            "ticks": ""
           }
          },
          "title": {
           "x": 0.05
          },
          "updatemenudefaults": {
           "bgcolor": "#506784",
           "borderwidth": 0
          },
          "xaxis": {
           "automargin": true,
           "gridcolor": "#283442",
           "linecolor": "#506784",
           "ticks": "",
           "title": {
            "standoff": 15
           },
           "zerolinecolor": "#283442",
           "zerolinewidth": 2
          },
          "yaxis": {
           "automargin": true,
           "gridcolor": "#283442",
           "linecolor": "#506784",
           "ticks": "",
           "title": {
            "standoff": 15
           },
           "zerolinecolor": "#283442",
           "zerolinewidth": 2
          }
         }
        },
        "title": {
         "text": "Discount Impact on Profit Margins"
        },
        "xaxis": {
         "anchor": "y",
         "domain": [
          0,
          1
         ],
         "title": {
          "text": "Discount Rate"
         }
        },
        "yaxis": {
         "anchor": "x",
         "domain": [
          0,
          1
         ],
         "title": {
          "text": "Profit (₹)"
         }
        }
       }
      }
     },
     "metadata": {},
     "output_type": "display_data"
    }
   ],
   "source": [
    "fig = px.box(df,\n",
    "            x='Discount', y='Profit',\n",
    "            color='Category',\n",
    "            title='Discount Impact on Profit Margins',\n",
    "            labels={'Discount':'Discount Rate', 'Profit':'Profit (₹)'})\n",
    "fig.update_layout(showlegend=False)\n",
    "fig.show()"
   ]
  },
  {
   "cell_type": "code",
   "execution_count": 32,
   "metadata": {
    "ExecuteTime": {
     "end_time": "2025-05-11T14:27:42.888394Z",
     "start_time": "2025-05-11T14:27:42.846389Z"
    },
    "colab": {
     "base_uri": "https://localhost:8080/",
     "height": 542
    },
    "id": "98qgKB_Led7q",
    "outputId": "7cdf37d3-15a3-4a0a-a0a2-290fb5099ab4"
   },
   "outputs": [
    {
     "data": {
      "application/vnd.plotly.v1+json": {
       "config": {
        "plotlyServerURL": "https://plot.ly"
       },
       "data": [
        {
         "hovertemplate": "Order Date=%{x}<br>Sales=%{y}<extra></extra>",
         "legendgroup": "",
         "line": {
          "color": "#636efa",
          "dash": "solid"
         },
         "marker": {
          "symbol": "circle"
         },
         "mode": "lines",
         "name": "",
         "showlegend": false,
         "type": "scattergl",
         "x": [
          "2015-01-03T00:00:00",
          "2015-01-04T00:00:00",
          "2015-01-05T00:00:00",
          "2015-01-06T00:00:00",
          "2015-01-07T00:00:00",
          "2015-01-09T00:00:00",
          "2015-01-10T00:00:00",
          "2015-01-11T00:00:00",
          "2015-01-13T00:00:00",
          "2015-01-14T00:00:00",
          "2015-01-15T00:00:00",
          "2015-01-16T00:00:00",
          "2015-01-18T00:00:00",
          "2015-01-19T00:00:00",
          "2015-01-20T00:00:00",
          "2015-01-21T00:00:00",
          "2015-01-23T00:00:00",
          "2015-01-26T00:00:00",
          "2015-01-27T00:00:00",
          "2015-01-28T00:00:00",
          "2015-01-30T00:00:00",
          "2015-01-31T00:00:00",
          "2015-02-01T00:00:00",
          "2015-02-02T00:00:00",
          "2015-02-03T00:00:00",
          "2015-02-04T00:00:00",
          "2015-02-06T00:00:00",
          "2015-02-07T00:00:00",
          "2015-02-08T00:00:00",
          "2015-02-11T00:00:00",
          "2015-02-12T00:00:00",
          "2015-02-14T00:00:00",
          "2015-02-15T00:00:00",
          "2015-02-16T00:00:00",
          "2015-02-17T00:00:00",
          "2015-02-18T00:00:00",
          "2015-02-20T00:00:00",
          "2015-02-21T00:00:00",
          "2015-02-22T00:00:00",
          "2015-02-23T00:00:00",
          "2015-02-24T00:00:00",
          "2015-02-27T00:00:00",
          "2015-03-01T00:00:00",
          "2015-03-02T00:00:00",
          "2015-03-03T00:00:00",
          "2015-03-04T00:00:00",
          "2015-03-05T00:00:00",
          "2015-03-07T00:00:00",
          "2015-03-10T00:00:00",
          "2015-03-11T00:00:00",
          "2015-03-14T00:00:00",
          "2015-03-15T00:00:00",
          "2015-03-16T00:00:00",
          "2015-03-17T00:00:00",
          "2015-03-18T00:00:00",
          "2015-03-19T00:00:00",
          "2015-03-21T00:00:00",
          "2015-03-22T00:00:00",
          "2015-03-23T00:00:00",
          "2015-03-24T00:00:00",
          "2015-03-25T00:00:00",
          "2015-03-26T00:00:00",
          "2015-03-28T00:00:00",
          "2015-03-29T00:00:00",
          "2015-03-30T00:00:00",
          "2015-03-31T00:00:00",
          "2015-04-01T00:00:00",
          "2015-04-02T00:00:00",
          "2015-04-03T00:00:00",
          "2015-04-04T00:00:00",
          "2015-04-05T00:00:00",
          "2015-04-06T00:00:00",
          "2015-04-07T00:00:00",
          "2015-04-08T00:00:00",
          "2015-04-11T00:00:00",
          "2015-04-12T00:00:00",
          "2015-04-13T00:00:00",
          "2015-04-15T00:00:00",
          "2015-04-16T00:00:00",
          "2015-04-18T00:00:00",
          "2015-04-19T00:00:00",
          "2015-04-20T00:00:00",
          "2015-04-21T00:00:00",
          "2015-04-22T00:00:00",
          "2015-04-23T00:00:00",
          "2015-04-25T00:00:00",
          "2015-04-26T00:00:00",
          "2015-04-28T00:00:00",
          "2015-04-29T00:00:00",
          "2015-04-30T00:00:00",
          "2015-05-02T00:00:00",
          "2015-05-03T00:00:00",
          "2015-05-04T00:00:00",
          "2015-05-05T00:00:00",
          "2015-05-06T00:00:00",
          "2015-05-07T00:00:00",
          "2015-05-08T00:00:00",
          "2015-05-09T00:00:00",
          "2015-05-10T00:00:00",
          "2015-05-11T00:00:00",
          "2015-05-12T00:00:00",
          "2015-05-13T00:00:00",
          "2015-05-14T00:00:00",
          "2015-05-16T00:00:00",
          "2015-05-17T00:00:00",
          "2015-05-18T00:00:00",
          "2015-05-19T00:00:00",
          "2015-05-20T00:00:00",
          "2015-05-21T00:00:00",
          "2015-05-22T00:00:00",
          "2015-05-23T00:00:00",
          "2015-05-24T00:00:00",
          "2015-05-25T00:00:00",
          "2015-05-26T00:00:00",
          "2015-05-27T00:00:00",
          "2015-05-28T00:00:00",
          "2015-05-30T00:00:00",
          "2015-05-31T00:00:00",
          "2015-06-01T00:00:00",
          "2015-06-02T00:00:00",
          "2015-06-03T00:00:00",
          "2015-06-04T00:00:00",
          "2015-06-06T00:00:00",
          "2015-06-07T00:00:00",
          "2015-06-08T00:00:00",
          "2015-06-09T00:00:00",
          "2015-06-10T00:00:00",
          "2015-06-13T00:00:00",
          "2015-06-14T00:00:00",
          "2015-06-15T00:00:00",
          "2015-06-16T00:00:00",
          "2015-06-17T00:00:00",
          "2015-06-18T00:00:00",
          "2015-06-20T00:00:00",
          "2015-06-21T00:00:00",
          "2015-06-22T00:00:00",
          "2015-06-23T00:00:00",
          "2015-06-24T00:00:00",
          "2015-06-25T00:00:00",
          "2015-06-27T00:00:00",
          "2015-06-28T00:00:00",
          "2015-06-29T00:00:00",
          "2015-06-30T00:00:00",
          "2015-07-01T00:00:00",
          "2015-07-02T00:00:00",
          "2015-07-04T00:00:00",
          "2015-07-05T00:00:00",
          "2015-07-06T00:00:00",
          "2015-07-07T00:00:00",
          "2015-07-08T00:00:00",
          "2015-07-09T00:00:00",
          "2015-07-11T00:00:00",
          "2015-07-12T00:00:00",
          "2015-07-13T00:00:00",
          "2015-07-14T00:00:00",
          "2015-07-15T00:00:00",
          "2015-07-18T00:00:00",
          "2015-07-19T00:00:00",
          "2015-07-20T00:00:00",
          "2015-07-21T00:00:00",
          "2015-07-22T00:00:00",
          "2015-07-23T00:00:00",
          "2015-07-25T00:00:00",
          "2015-07-26T00:00:00",
          "2015-07-27T00:00:00",
          "2015-07-28T00:00:00",
          "2015-07-30T00:00:00",
          "2015-08-01T00:00:00",
          "2015-08-02T00:00:00",
          "2015-08-03T00:00:00",
          "2015-08-04T00:00:00",
          "2015-08-05T00:00:00",
          "2015-08-06T00:00:00",
          "2015-08-08T00:00:00",
          "2015-08-09T00:00:00",
          "2015-08-11T00:00:00",
          "2015-08-12T00:00:00",
          "2015-08-15T00:00:00",
          "2015-08-16T00:00:00",
          "2015-08-17T00:00:00",
          "2015-08-19T00:00:00",
          "2015-08-20T00:00:00",
          "2015-08-22T00:00:00",
          "2015-08-23T00:00:00",
          "2015-08-24T00:00:00",
          "2015-08-25T00:00:00",
          "2015-08-26T00:00:00",
          "2015-08-27T00:00:00",
          "2015-08-29T00:00:00",
          "2015-08-30T00:00:00",
          "2015-08-31T00:00:00",
          "2015-09-01T00:00:00",
          "2015-09-02T00:00:00",
          "2015-09-03T00:00:00",
          "2015-09-05T00:00:00",
          "2015-09-06T00:00:00",
          "2015-09-07T00:00:00",
          "2015-09-08T00:00:00",
          "2015-09-09T00:00:00",
          "2015-09-10T00:00:00",
          "2015-09-11T00:00:00",
          "2015-09-12T00:00:00",
          "2015-09-13T00:00:00",
          "2015-09-14T00:00:00",
          "2015-09-15T00:00:00",
          "2015-09-16T00:00:00",
          "2015-09-17T00:00:00",
          "2015-09-19T00:00:00",
          "2015-09-20T00:00:00",
          "2015-09-21T00:00:00",
          "2015-09-22T00:00:00",
          "2015-09-23T00:00:00",
          "2015-09-24T00:00:00",
          "2015-09-25T00:00:00",
          "2015-09-26T00:00:00",
          "2015-09-27T00:00:00",
          "2015-09-28T00:00:00",
          "2015-09-29T00:00:00",
          "2015-09-30T00:00:00",
          "2015-10-01T00:00:00",
          "2015-10-02T00:00:00",
          "2015-10-03T00:00:00",
          "2015-10-04T00:00:00",
          "2015-10-05T00:00:00",
          "2015-10-06T00:00:00",
          "2015-10-07T00:00:00",
          "2015-10-08T00:00:00",
          "2015-10-09T00:00:00",
          "2015-10-10T00:00:00",
          "2015-10-11T00:00:00",
          "2015-10-12T00:00:00",
          "2015-10-13T00:00:00",
          "2015-10-14T00:00:00",
          "2015-10-15T00:00:00",
          "2015-10-16T00:00:00",
          "2015-10-17T00:00:00",
          "2015-10-18T00:00:00",
          "2015-10-19T00:00:00",
          "2015-10-20T00:00:00",
          "2015-10-21T00:00:00",
          "2015-10-22T00:00:00",
          "2015-10-24T00:00:00",
          "2015-10-25T00:00:00",
          "2015-10-26T00:00:00",
          "2015-10-27T00:00:00",
          "2015-10-28T00:00:00",
          "2015-10-29T00:00:00",
          "2015-10-31T00:00:00",
          "2015-11-01T00:00:00",
          "2015-11-02T00:00:00",
          "2015-11-03T00:00:00",
          "2015-11-04T00:00:00",
          "2015-11-05T00:00:00",
          "2015-11-06T00:00:00",
          "2015-11-07T00:00:00",
          "2015-11-08T00:00:00",
          "2015-11-09T00:00:00",
          "2015-11-10T00:00:00",
          "2015-11-11T00:00:00",
          "2015-11-12T00:00:00",
          "2015-11-14T00:00:00",
          "2015-11-15T00:00:00",
          "2015-11-16T00:00:00",
          "2015-11-17T00:00:00",
          "2015-11-18T00:00:00",
          "2015-11-19T00:00:00",
          "2015-11-20T00:00:00",
          "2015-11-21T00:00:00",
          "2015-11-22T00:00:00",
          "2015-11-23T00:00:00",
          "2015-11-24T00:00:00",
          "2015-11-25T00:00:00",
          "2015-11-26T00:00:00",
          "2015-11-27T00:00:00",
          "2015-11-28T00:00:00",
          "2015-11-29T00:00:00",
          "2015-11-30T00:00:00",
          "2015-12-01T00:00:00",
          "2015-12-02T00:00:00",
          "2015-12-03T00:00:00",
          "2015-12-04T00:00:00",
          "2015-12-05T00:00:00",
          "2015-12-06T00:00:00",
          "2015-12-07T00:00:00",
          "2015-12-08T00:00:00",
          "2015-12-09T00:00:00",
          "2015-12-10T00:00:00",
          "2015-12-12T00:00:00",
          "2015-12-13T00:00:00",
          "2015-12-14T00:00:00",
          "2015-12-15T00:00:00",
          "2015-12-16T00:00:00",
          "2015-12-17T00:00:00",
          "2015-12-19T00:00:00",
          "2015-12-20T00:00:00",
          "2015-12-21T00:00:00",
          "2015-12-22T00:00:00",
          "2015-12-23T00:00:00",
          "2015-12-24T00:00:00",
          "2015-12-26T00:00:00",
          "2015-12-27T00:00:00",
          "2015-12-28T00:00:00",
          "2015-12-29T00:00:00",
          "2015-12-30T00:00:00",
          "2015-12-31T00:00:00",
          "2016-01-02T00:00:00",
          "2016-01-03T00:00:00",
          "2016-01-04T00:00:00",
          "2016-01-05T00:00:00",
          "2016-01-06T00:00:00",
          "2016-01-09T00:00:00",
          "2016-01-10T00:00:00",
          "2016-01-12T00:00:00",
          "2016-01-13T00:00:00",
          "2016-01-17T00:00:00",
          "2016-01-19T00:00:00",
          "2016-01-23T00:00:00",
          "2016-01-24T00:00:00",
          "2016-01-26T00:00:00",
          "2016-01-27T00:00:00",
          "2016-01-28T00:00:00",
          "2016-01-30T00:00:00",
          "2016-01-31T00:00:00",
          "2016-02-03T00:00:00",
          "2016-02-06T00:00:00",
          "2016-02-07T00:00:00",
          "2016-02-08T00:00:00",
          "2016-02-09T00:00:00",
          "2016-02-10T00:00:00",
          "2016-02-14T00:00:00",
          "2016-02-15T00:00:00",
          "2016-02-16T00:00:00",
          "2016-02-18T00:00:00",
          "2016-02-20T00:00:00",
          "2016-02-21T00:00:00",
          "2016-02-22T00:00:00",
          "2016-02-23T00:00:00",
          "2016-02-25T00:00:00",
          "2016-02-27T00:00:00",
          "2016-02-28T00:00:00",
          "2016-03-01T00:00:00",
          "2016-03-02T00:00:00",
          "2016-03-05T00:00:00",
          "2016-03-06T00:00:00",
          "2016-03-07T00:00:00",
          "2016-03-08T00:00:00",
          "2016-03-09T00:00:00",
          "2016-03-10T00:00:00",
          "2016-03-12T00:00:00",
          "2016-03-13T00:00:00",
          "2016-03-14T00:00:00",
          "2016-03-15T00:00:00",
          "2016-03-16T00:00:00",
          "2016-03-17T00:00:00",
          "2016-03-19T00:00:00",
          "2016-03-20T00:00:00",
          "2016-03-21T00:00:00",
          "2016-03-22T00:00:00",
          "2016-03-23T00:00:00",
          "2016-03-24T00:00:00",
          "2016-03-26T00:00:00",
          "2016-03-27T00:00:00",
          "2016-03-28T00:00:00",
          "2016-03-29T00:00:00",
          "2016-03-30T00:00:00",
          "2016-03-31T00:00:00",
          "2016-04-02T00:00:00",
          "2016-04-04T00:00:00",
          "2016-04-05T00:00:00",
          "2016-04-06T00:00:00",
          "2016-04-07T00:00:00",
          "2016-04-09T00:00:00",
          "2016-04-10T00:00:00",
          "2016-04-11T00:00:00",
          "2016-04-12T00:00:00",
          "2016-04-13T00:00:00",
          "2016-04-14T00:00:00",
          "2016-04-16T00:00:00",
          "2016-04-17T00:00:00",
          "2016-04-18T00:00:00",
          "2016-04-19T00:00:00",
          "2016-04-20T00:00:00",
          "2016-04-21T00:00:00",
          "2016-04-22T00:00:00",
          "2016-04-24T00:00:00",
          "2016-04-25T00:00:00",
          "2016-04-26T00:00:00",
          "2016-04-27T00:00:00",
          "2016-04-28T00:00:00",
          "2016-04-29T00:00:00",
          "2016-04-30T00:00:00",
          "2016-05-01T00:00:00",
          "2016-05-02T00:00:00",
          "2016-05-03T00:00:00",
          "2016-05-04T00:00:00",
          "2016-05-07T00:00:00",
          "2016-05-08T00:00:00",
          "2016-05-09T00:00:00",
          "2016-05-10T00:00:00",
          "2016-05-11T00:00:00",
          "2016-05-12T00:00:00",
          "2016-05-13T00:00:00",
          "2016-05-14T00:00:00",
          "2016-05-15T00:00:00",
          "2016-05-16T00:00:00",
          "2016-05-17T00:00:00",
          "2016-05-18T00:00:00",
          "2016-05-20T00:00:00",
          "2016-05-21T00:00:00",
          "2016-05-22T00:00:00",
          "2016-05-23T00:00:00",
          "2016-05-24T00:00:00",
          "2016-05-25T00:00:00",
          "2016-05-26T00:00:00",
          "2016-05-28T00:00:00",
          "2016-05-29T00:00:00",
          "2016-05-30T00:00:00",
          "2016-05-31T00:00:00",
          "2016-06-01T00:00:00",
          "2016-06-04T00:00:00",
          "2016-06-05T00:00:00",
          "2016-06-07T00:00:00",
          "2016-06-08T00:00:00",
          "2016-06-09T00:00:00",
          "2016-06-11T00:00:00",
          "2016-06-12T00:00:00",
          "2016-06-13T00:00:00",
          "2016-06-14T00:00:00",
          "2016-06-15T00:00:00",
          "2016-06-16T00:00:00",
          "2016-06-18T00:00:00",
          "2016-06-19T00:00:00",
          "2016-06-20T00:00:00",
          "2016-06-21T00:00:00",
          "2016-06-22T00:00:00",
          "2016-06-23T00:00:00",
          "2016-06-25T00:00:00",
          "2016-06-26T00:00:00",
          "2016-06-28T00:00:00",
          "2016-06-29T00:00:00",
          "2016-07-02T00:00:00",
          "2016-07-03T00:00:00",
          "2016-07-04T00:00:00",
          "2016-07-05T00:00:00",
          "2016-07-06T00:00:00",
          "2016-07-08T00:00:00",
          "2016-07-09T00:00:00",
          "2016-07-10T00:00:00",
          "2016-07-11T00:00:00",
          "2016-07-12T00:00:00",
          "2016-07-13T00:00:00",
          "2016-07-14T00:00:00",
          "2016-07-16T00:00:00",
          "2016-07-17T00:00:00",
          "2016-07-18T00:00:00",
          "2016-07-19T00:00:00",
          "2016-07-20T00:00:00",
          "2016-07-23T00:00:00",
          "2016-07-24T00:00:00",
          "2016-07-25T00:00:00",
          "2016-07-26T00:00:00",
          "2016-07-27T00:00:00",
          "2016-07-30T00:00:00",
          "2016-07-31T00:00:00",
          "2016-08-01T00:00:00",
          "2016-08-02T00:00:00",
          "2016-08-05T00:00:00",
          "2016-08-06T00:00:00",
          "2016-08-07T00:00:00",
          "2016-08-08T00:00:00",
          "2016-08-09T00:00:00",
          "2016-08-10T00:00:00",
          "2016-08-11T00:00:00",
          "2016-08-13T00:00:00",
          "2016-08-15T00:00:00",
          "2016-08-16T00:00:00",
          "2016-08-17T00:00:00",
          "2016-08-21T00:00:00",
          "2016-08-22T00:00:00",
          "2016-08-23T00:00:00",
          "2016-08-24T00:00:00",
          "2016-08-25T00:00:00",
          "2016-08-27T00:00:00",
          "2016-08-28T00:00:00",
          "2016-08-29T00:00:00",
          "2016-08-31T00:00:00",
          "2016-09-01T00:00:00",
          "2016-09-03T00:00:00",
          "2016-09-04T00:00:00",
          "2016-09-05T00:00:00",
          "2016-09-06T00:00:00",
          "2016-09-07T00:00:00",
          "2016-09-08T00:00:00",
          "2016-09-10T00:00:00",
          "2016-09-11T00:00:00",
          "2016-09-12T00:00:00",
          "2016-09-13T00:00:00",
          "2016-09-14T00:00:00",
          "2016-09-15T00:00:00",
          "2016-09-16T00:00:00",
          "2016-09-17T00:00:00",
          "2016-09-18T00:00:00",
          "2016-09-19T00:00:00",
          "2016-09-20T00:00:00",
          "2016-09-21T00:00:00",
          "2016-09-22T00:00:00",
          "2016-09-24T00:00:00",
          "2016-09-25T00:00:00",
          "2016-09-26T00:00:00",
          "2016-09-27T00:00:00",
          "2016-09-28T00:00:00",
          "2016-10-01T00:00:00",
          "2016-10-02T00:00:00",
          "2016-10-03T00:00:00",
          "2016-10-04T00:00:00",
          "2016-10-05T00:00:00",
          "2016-10-08T00:00:00",
          "2016-10-09T00:00:00",
          "2016-10-10T00:00:00",
          "2016-10-11T00:00:00",
          "2016-10-12T00:00:00",
          "2016-10-13T00:00:00",
          "2016-10-15T00:00:00",
          "2016-10-16T00:00:00",
          "2016-10-17T00:00:00",
          "2016-10-18T00:00:00",
          "2016-10-19T00:00:00",
          "2016-10-20T00:00:00",
          "2016-10-22T00:00:00",
          "2016-10-23T00:00:00",
          "2016-10-24T00:00:00",
          "2016-10-25T00:00:00",
          "2016-10-26T00:00:00",
          "2016-10-28T00:00:00",
          "2016-10-29T00:00:00",
          "2016-10-30T00:00:00",
          "2016-10-31T00:00:00",
          "2016-11-01T00:00:00",
          "2016-11-02T00:00:00",
          "2016-11-03T00:00:00",
          "2016-11-05T00:00:00",
          "2016-11-06T00:00:00",
          "2016-11-07T00:00:00",
          "2016-11-08T00:00:00",
          "2016-11-09T00:00:00",
          "2016-11-10T00:00:00",
          "2016-11-11T00:00:00",
          "2016-11-12T00:00:00",
          "2016-11-13T00:00:00",
          "2016-11-14T00:00:00",
          "2016-11-15T00:00:00",
          "2016-11-16T00:00:00",
          "2016-11-17T00:00:00",
          "2016-11-19T00:00:00",
          "2016-11-20T00:00:00",
          "2016-11-21T00:00:00",
          "2016-11-22T00:00:00",
          "2016-11-23T00:00:00",
          "2016-11-24T00:00:00",
          "2016-11-25T00:00:00",
          "2016-11-26T00:00:00",
          "2016-11-27T00:00:00",
          "2016-11-28T00:00:00",
          "2016-11-29T00:00:00",
          "2016-11-30T00:00:00",
          "2016-12-01T00:00:00",
          "2016-12-03T00:00:00",
          "2016-12-04T00:00:00",
          "2016-12-05T00:00:00",
          "2016-12-06T00:00:00",
          "2016-12-07T00:00:00",
          "2016-12-08T00:00:00",
          "2016-12-09T00:00:00",
          "2016-12-10T00:00:00",
          "2016-12-11T00:00:00",
          "2016-12-12T00:00:00",
          "2016-12-13T00:00:00",
          "2016-12-14T00:00:00",
          "2016-12-15T00:00:00",
          "2016-12-16T00:00:00",
          "2016-12-17T00:00:00",
          "2016-12-18T00:00:00",
          "2016-12-19T00:00:00",
          "2016-12-20T00:00:00",
          "2016-12-21T00:00:00",
          "2016-12-22T00:00:00",
          "2016-12-23T00:00:00",
          "2016-12-24T00:00:00",
          "2016-12-25T00:00:00",
          "2016-12-26T00:00:00",
          "2016-12-27T00:00:00",
          "2016-12-28T00:00:00",
          "2016-12-29T00:00:00",
          "2016-12-30T00:00:00",
          "2016-12-31T00:00:00",
          "2017-01-02T00:00:00",
          "2017-01-03T00:00:00",
          "2017-01-04T00:00:00",
          "2017-01-05T00:00:00",
          "2017-01-07T00:00:00",
          "2017-01-08T00:00:00",
          "2017-01-09T00:00:00",
          "2017-01-10T00:00:00",
          "2017-01-11T00:00:00",
          "2017-01-14T00:00:00",
          "2017-01-15T00:00:00",
          "2017-01-16T00:00:00",
          "2017-01-17T00:00:00",
          "2017-01-21T00:00:00",
          "2017-01-22T00:00:00",
          "2017-01-23T00:00:00",
          "2017-01-24T00:00:00",
          "2017-01-25T00:00:00",
          "2017-01-28T00:00:00",
          "2017-01-30T00:00:00",
          "2017-01-31T00:00:00",
          "2017-02-01T00:00:00",
          "2017-02-02T00:00:00",
          "2017-02-03T00:00:00",
          "2017-02-04T00:00:00",
          "2017-02-05T00:00:00",
          "2017-02-06T00:00:00",
          "2017-02-07T00:00:00",
          "2017-02-08T00:00:00",
          "2017-02-09T00:00:00",
          "2017-02-11T00:00:00",
          "2017-02-12T00:00:00",
          "2017-02-13T00:00:00",
          "2017-02-14T00:00:00",
          "2017-02-15T00:00:00",
          "2017-02-16T00:00:00",
          "2017-02-19T00:00:00",
          "2017-02-20T00:00:00",
          "2017-02-21T00:00:00",
          "2017-02-22T00:00:00",
          "2017-02-23T00:00:00",
          "2017-02-25T00:00:00",
          "2017-02-27T00:00:00",
          "2017-02-28T00:00:00",
          "2017-03-01T00:00:00",
          "2017-03-03T00:00:00",
          "2017-03-04T00:00:00",
          "2017-03-05T00:00:00",
          "2017-03-06T00:00:00",
          "2017-03-07T00:00:00",
          "2017-03-08T00:00:00",
          "2017-03-09T00:00:00",
          "2017-03-10T00:00:00",
          "2017-03-11T00:00:00",
          "2017-03-12T00:00:00",
          "2017-03-13T00:00:00",
          "2017-03-14T00:00:00",
          "2017-03-15T00:00:00",
          "2017-03-17T00:00:00",
          "2017-03-18T00:00:00",
          "2017-03-19T00:00:00",
          "2017-03-20T00:00:00",
          "2017-03-21T00:00:00",
          "2017-03-22T00:00:00",
          "2017-03-24T00:00:00",
          "2017-03-25T00:00:00",
          "2017-03-26T00:00:00",
          "2017-03-27T00:00:00",
          "2017-03-28T00:00:00",
          "2017-03-29T00:00:00",
          "2017-03-30T00:00:00",
          "2017-03-31T00:00:00",
          "2017-04-01T00:00:00",
          "2017-04-02T00:00:00",
          "2017-04-03T00:00:00",
          "2017-04-04T00:00:00",
          "2017-04-05T00:00:00",
          "2017-04-06T00:00:00",
          "2017-04-07T00:00:00",
          "2017-04-08T00:00:00",
          "2017-04-09T00:00:00",
          "2017-04-10T00:00:00",
          "2017-04-12T00:00:00",
          "2017-04-13T00:00:00",
          "2017-04-14T00:00:00",
          "2017-04-15T00:00:00",
          "2017-04-16T00:00:00",
          "2017-04-17T00:00:00",
          "2017-04-18T00:00:00",
          "2017-04-19T00:00:00",
          "2017-04-21T00:00:00",
          "2017-04-22T00:00:00",
          "2017-04-23T00:00:00",
          "2017-04-24T00:00:00",
          "2017-04-25T00:00:00",
          "2017-04-26T00:00:00",
          "2017-04-28T00:00:00",
          "2017-04-30T00:00:00",
          "2017-05-01T00:00:00",
          "2017-05-02T00:00:00",
          "2017-05-03T00:00:00",
          "2017-05-05T00:00:00",
          "2017-05-06T00:00:00",
          "2017-05-07T00:00:00",
          "2017-05-08T00:00:00",
          "2017-05-09T00:00:00",
          "2017-05-10T00:00:00",
          "2017-05-11T00:00:00",
          "2017-05-12T00:00:00",
          "2017-05-14T00:00:00",
          "2017-05-15T00:00:00",
          "2017-05-16T00:00:00",
          "2017-05-17T00:00:00",
          "2017-05-18T00:00:00",
          "2017-05-19T00:00:00",
          "2017-05-20T00:00:00",
          "2017-05-21T00:00:00",
          "2017-05-22T00:00:00",
          "2017-05-23T00:00:00",
          "2017-05-24T00:00:00",
          "2017-05-25T00:00:00",
          "2017-05-26T00:00:00",
          "2017-05-27T00:00:00",
          "2017-05-28T00:00:00",
          "2017-05-29T00:00:00",
          "2017-05-30T00:00:00",
          "2017-05-31T00:00:00",
          "2017-06-02T00:00:00",
          "2017-06-03T00:00:00",
          "2017-06-04T00:00:00",
          "2017-06-05T00:00:00",
          "2017-06-06T00:00:00",
          "2017-06-07T00:00:00",
          "2017-06-09T00:00:00",
          "2017-06-10T00:00:00",
          "2017-06-11T00:00:00",
          "2017-06-12T00:00:00",
          "2017-06-13T00:00:00",
          "2017-06-14T00:00:00",
          "2017-06-15T00:00:00",
          "2017-06-16T00:00:00",
          "2017-06-17T00:00:00",
          "2017-06-18T00:00:00",
          "2017-06-19T00:00:00",
          "2017-06-20T00:00:00",
          "2017-06-21T00:00:00",
          "2017-06-23T00:00:00",
          "2017-06-24T00:00:00",
          "2017-06-25T00:00:00",
          "2017-06-26T00:00:00",
          "2017-06-27T00:00:00",
          "2017-06-28T00:00:00",
          "2017-06-29T00:00:00",
          "2017-06-30T00:00:00",
          "2017-07-01T00:00:00",
          "2017-07-02T00:00:00",
          "2017-07-03T00:00:00",
          "2017-07-04T00:00:00",
          "2017-07-07T00:00:00",
          "2017-07-08T00:00:00",
          "2017-07-09T00:00:00",
          "2017-07-10T00:00:00",
          "2017-07-12T00:00:00",
          "2017-07-14T00:00:00",
          "2017-07-15T00:00:00",
          "2017-07-16T00:00:00",
          "2017-07-17T00:00:00",
          "2017-07-18T00:00:00",
          "2017-07-19T00:00:00",
          "2017-07-20T00:00:00",
          "2017-07-21T00:00:00",
          "2017-07-22T00:00:00",
          "2017-07-23T00:00:00",
          "2017-07-24T00:00:00",
          "2017-07-25T00:00:00",
          "2017-07-28T00:00:00",
          "2017-07-29T00:00:00",
          "2017-07-30T00:00:00",
          "2017-07-31T00:00:00",
          "2017-08-01T00:00:00",
          "2017-08-02T00:00:00",
          "2017-08-03T00:00:00",
          "2017-08-04T00:00:00",
          "2017-08-05T00:00:00",
          "2017-08-06T00:00:00",
          "2017-08-07T00:00:00",
          "2017-08-08T00:00:00",
          "2017-08-09T00:00:00",
          "2017-08-11T00:00:00",
          "2017-08-12T00:00:00",
          "2017-08-13T00:00:00",
          "2017-08-14T00:00:00",
          "2017-08-15T00:00:00",
          "2017-08-16T00:00:00",
          "2017-08-17T00:00:00",
          "2017-08-18T00:00:00",
          "2017-08-19T00:00:00",
          "2017-08-20T00:00:00",
          "2017-08-21T00:00:00",
          "2017-08-22T00:00:00",
          "2017-08-23T00:00:00",
          "2017-08-26T00:00:00",
          "2017-08-27T00:00:00",
          "2017-08-28T00:00:00",
          "2017-08-29T00:00:00",
          "2017-08-30T00:00:00",
          "2017-08-31T00:00:00",
          "2017-09-01T00:00:00",
          "2017-09-02T00:00:00",
          "2017-09-03T00:00:00",
          "2017-09-04T00:00:00",
          "2017-09-05T00:00:00",
          "2017-09-06T00:00:00",
          "2017-09-08T00:00:00",
          "2017-09-09T00:00:00",
          "2017-09-10T00:00:00",
          "2017-09-11T00:00:00",
          "2017-09-12T00:00:00",
          "2017-09-13T00:00:00",
          "2017-09-14T00:00:00",
          "2017-09-15T00:00:00",
          "2017-09-16T00:00:00",
          "2017-09-17T00:00:00",
          "2017-09-18T00:00:00",
          "2017-09-19T00:00:00",
          "2017-09-20T00:00:00",
          "2017-09-22T00:00:00",
          "2017-09-23T00:00:00",
          "2017-09-24T00:00:00",
          "2017-09-25T00:00:00",
          "2017-09-26T00:00:00",
          "2017-09-27T00:00:00",
          "2017-09-28T00:00:00",
          "2017-09-29T00:00:00",
          "2017-09-30T00:00:00",
          "2017-10-01T00:00:00",
          "2017-10-02T00:00:00",
          "2017-10-03T00:00:00",
          "2017-10-04T00:00:00",
          "2017-10-06T00:00:00",
          "2017-10-07T00:00:00",
          "2017-10-08T00:00:00",
          "2017-10-09T00:00:00",
          "2017-10-10T00:00:00",
          "2017-10-11T00:00:00",
          "2017-10-13T00:00:00",
          "2017-10-14T00:00:00",
          "2017-10-15T00:00:00",
          "2017-10-16T00:00:00",
          "2017-10-17T00:00:00",
          "2017-10-18T00:00:00",
          "2017-10-20T00:00:00",
          "2017-10-21T00:00:00",
          "2017-10-22T00:00:00",
          "2017-10-23T00:00:00",
          "2017-10-24T00:00:00",
          "2017-10-25T00:00:00",
          "2017-10-27T00:00:00",
          "2017-10-28T00:00:00",
          "2017-10-29T00:00:00",
          "2017-10-30T00:00:00",
          "2017-10-31T00:00:00",
          "2017-11-01T00:00:00",
          "2017-11-03T00:00:00",
          "2017-11-04T00:00:00",
          "2017-11-05T00:00:00",
          "2017-11-06T00:00:00",
          "2017-11-07T00:00:00",
          "2017-11-08T00:00:00",
          "2017-11-09T00:00:00",
          "2017-11-10T00:00:00",
          "2017-11-11T00:00:00",
          "2017-11-12T00:00:00",
          "2017-11-13T00:00:00",
          "2017-11-14T00:00:00",
          "2017-11-15T00:00:00",
          "2017-11-16T00:00:00",
          "2017-11-17T00:00:00",
          "2017-11-18T00:00:00",
          "2017-11-19T00:00:00",
          "2017-11-20T00:00:00",
          "2017-11-21T00:00:00",
          "2017-11-22T00:00:00",
          "2017-11-23T00:00:00",
          "2017-11-24T00:00:00",
          "2017-11-25T00:00:00",
          "2017-11-26T00:00:00",
          "2017-11-27T00:00:00",
          "2017-11-28T00:00:00",
          "2017-11-29T00:00:00",
          "2017-11-30T00:00:00",
          "2017-12-01T00:00:00",
          "2017-12-02T00:00:00",
          "2017-12-03T00:00:00",
          "2017-12-04T00:00:00",
          "2017-12-05T00:00:00",
          "2017-12-06T00:00:00",
          "2017-12-08T00:00:00",
          "2017-12-09T00:00:00",
          "2017-12-10T00:00:00",
          "2017-12-11T00:00:00",
          "2017-12-12T00:00:00",
          "2017-12-13T00:00:00",
          "2017-12-14T00:00:00",
          "2017-12-15T00:00:00",
          "2017-12-16T00:00:00",
          "2017-12-17T00:00:00",
          "2017-12-18T00:00:00",
          "2017-12-19T00:00:00",
          "2017-12-20T00:00:00",
          "2017-12-22T00:00:00",
          "2017-12-23T00:00:00",
          "2017-12-24T00:00:00",
          "2017-12-25T00:00:00",
          "2017-12-26T00:00:00",
          "2017-12-27T00:00:00",
          "2017-12-29T00:00:00",
          "2017-12-30T00:00:00",
          "2017-12-31T00:00:00",
          "2018-01-01T00:00:00",
          "2018-01-02T00:00:00",
          "2018-01-03T00:00:00",
          "2018-01-06T00:00:00",
          "2018-01-07T00:00:00",
          "2018-01-08T00:00:00",
          "2018-01-09T00:00:00",
          "2018-01-12T00:00:00",
          "2018-01-13T00:00:00",
          "2018-01-14T00:00:00",
          "2018-01-15T00:00:00",
          "2018-01-16T00:00:00",
          "2018-01-19T00:00:00",
          "2018-01-20T00:00:00",
          "2018-01-21T00:00:00",
          "2018-01-22T00:00:00",
          "2018-01-23T00:00:00",
          "2018-01-24T00:00:00",
          "2018-01-26T00:00:00",
          "2018-01-27T00:00:00",
          "2018-01-28T00:00:00",
          "2018-01-29T00:00:00",
          "2018-01-30T00:00:00",
          "2018-02-02T00:00:00",
          "2018-02-03T00:00:00",
          "2018-02-04T00:00:00",
          "2018-02-05T00:00:00",
          "2018-02-06T00:00:00",
          "2018-02-09T00:00:00",
          "2018-02-10T00:00:00",
          "2018-02-11T00:00:00",
          "2018-02-13T00:00:00",
          "2018-02-16T00:00:00",
          "2018-02-17T00:00:00",
          "2018-02-18T00:00:00",
          "2018-02-19T00:00:00",
          "2018-02-20T00:00:00",
          "2018-02-21T00:00:00",
          "2018-02-23T00:00:00",
          "2018-02-24T00:00:00",
          "2018-02-25T00:00:00",
          "2018-02-26T00:00:00",
          "2018-02-28T00:00:00",
          "2018-03-02T00:00:00",
          "2018-03-03T00:00:00",
          "2018-03-04T00:00:00",
          "2018-03-05T00:00:00",
          "2018-03-06T00:00:00",
          "2018-03-07T00:00:00",
          "2018-03-08T00:00:00",
          "2018-03-09T00:00:00",
          "2018-03-10T00:00:00",
          "2018-03-11T00:00:00",
          "2018-03-12T00:00:00",
          "2018-03-13T00:00:00",
          "2018-03-14T00:00:00",
          "2018-03-16T00:00:00",
          "2018-03-17T00:00:00",
          "2018-03-18T00:00:00",
          "2018-03-19T00:00:00",
          "2018-03-20T00:00:00",
          "2018-03-21T00:00:00",
          "2018-03-23T00:00:00",
          "2018-03-24T00:00:00",
          "2018-03-25T00:00:00",
          "2018-03-26T00:00:00",
          "2018-03-27T00:00:00",
          "2018-03-28T00:00:00",
          "2018-03-29T00:00:00",
          "2018-03-30T00:00:00",
          "2018-03-31T00:00:00",
          "2018-04-01T00:00:00",
          "2018-04-02T00:00:00",
          "2018-04-03T00:00:00",
          "2018-04-04T00:00:00",
          "2018-04-06T00:00:00",
          "2018-04-07T00:00:00",
          "2018-04-08T00:00:00",
          "2018-04-09T00:00:00",
          "2018-04-10T00:00:00",
          "2018-04-11T00:00:00",
          "2018-04-12T00:00:00",
          "2018-04-13T00:00:00",
          "2018-04-14T00:00:00",
          "2018-04-15T00:00:00",
          "2018-04-16T00:00:00",
          "2018-04-17T00:00:00",
          "2018-04-20T00:00:00",
          "2018-04-21T00:00:00",
          "2018-04-22T00:00:00",
          "2018-04-23T00:00:00",
          "2018-04-24T00:00:00",
          "2018-04-25T00:00:00",
          "2018-04-26T00:00:00",
          "2018-04-27T00:00:00",
          "2018-04-28T00:00:00",
          "2018-04-29T00:00:00",
          "2018-04-30T00:00:00",
          "2018-05-01T00:00:00",
          "2018-05-02T00:00:00",
          "2018-05-03T00:00:00",
          "2018-05-04T00:00:00",
          "2018-05-05T00:00:00",
          "2018-05-06T00:00:00",
          "2018-05-07T00:00:00",
          "2018-05-08T00:00:00",
          "2018-05-09T00:00:00",
          "2018-05-11T00:00:00",
          "2018-05-12T00:00:00",
          "2018-05-13T00:00:00",
          "2018-05-14T00:00:00",
          "2018-05-15T00:00:00",
          "2018-05-16T00:00:00",
          "2018-05-18T00:00:00",
          "2018-05-19T00:00:00",
          "2018-05-20T00:00:00",
          "2018-05-21T00:00:00",
          "2018-05-22T00:00:00",
          "2018-05-23T00:00:00",
          "2018-05-25T00:00:00",
          "2018-05-26T00:00:00",
          "2018-05-27T00:00:00",
          "2018-05-28T00:00:00",
          "2018-05-29T00:00:00",
          "2018-05-30T00:00:00",
          "2018-06-01T00:00:00",
          "2018-06-02T00:00:00",
          "2018-06-03T00:00:00",
          "2018-06-04T00:00:00",
          "2018-06-05T00:00:00",
          "2018-06-06T00:00:00",
          "2018-06-08T00:00:00",
          "2018-06-09T00:00:00",
          "2018-06-10T00:00:00",
          "2018-06-11T00:00:00",
          "2018-06-12T00:00:00",
          "2018-06-13T00:00:00",
          "2018-06-15T00:00:00",
          "2018-06-16T00:00:00",
          "2018-06-17T00:00:00",
          "2018-06-18T00:00:00",
          "2018-06-19T00:00:00",
          "2018-06-20T00:00:00",
          "2018-06-21T00:00:00",
          "2018-06-22T00:00:00",
          "2018-06-24T00:00:00",
          "2018-06-25T00:00:00",
          "2018-06-26T00:00:00",
          "2018-06-27T00:00:00",
          "2018-06-29T00:00:00",
          "2018-06-30T00:00:00",
          "2018-07-01T00:00:00",
          "2018-07-02T00:00:00",
          "2018-07-03T00:00:00",
          "2018-07-05T00:00:00",
          "2018-07-06T00:00:00",
          "2018-07-07T00:00:00",
          "2018-07-08T00:00:00",
          "2018-07-09T00:00:00",
          "2018-07-10T00:00:00",
          "2018-07-11T00:00:00",
          "2018-07-12T00:00:00",
          "2018-07-13T00:00:00",
          "2018-07-14T00:00:00",
          "2018-07-15T00:00:00",
          "2018-07-16T00:00:00",
          "2018-07-17T00:00:00",
          "2018-07-18T00:00:00",
          "2018-07-20T00:00:00",
          "2018-07-21T00:00:00",
          "2018-07-22T00:00:00",
          "2018-07-23T00:00:00",
          "2018-07-24T00:00:00",
          "2018-07-25T00:00:00",
          "2018-07-26T00:00:00",
          "2018-07-27T00:00:00",
          "2018-07-28T00:00:00",
          "2018-07-29T00:00:00",
          "2018-07-30T00:00:00",
          "2018-07-31T00:00:00",
          "2018-08-01T00:00:00",
          "2018-08-03T00:00:00",
          "2018-08-04T00:00:00",
          "2018-08-05T00:00:00",
          "2018-08-06T00:00:00",
          "2018-08-07T00:00:00",
          "2018-08-10T00:00:00",
          "2018-08-11T00:00:00",
          "2018-08-12T00:00:00",
          "2018-08-13T00:00:00",
          "2018-08-14T00:00:00",
          "2018-08-15T00:00:00",
          "2018-08-16T00:00:00",
          "2018-08-17T00:00:00",
          "2018-08-18T00:00:00",
          "2018-08-19T00:00:00",
          "2018-08-20T00:00:00",
          "2018-08-21T00:00:00",
          "2018-08-22T00:00:00",
          "2018-08-23T00:00:00",
          "2018-08-24T00:00:00",
          "2018-08-25T00:00:00",
          "2018-08-26T00:00:00",
          "2018-08-27T00:00:00",
          "2018-08-28T00:00:00",
          "2018-08-29T00:00:00",
          "2018-08-31T00:00:00",
          "2018-09-01T00:00:00",
          "2018-09-02T00:00:00",
          "2018-09-03T00:00:00",
          "2018-09-04T00:00:00",
          "2018-09-05T00:00:00",
          "2018-09-07T00:00:00",
          "2018-09-08T00:00:00",
          "2018-09-09T00:00:00",
          "2018-09-10T00:00:00",
          "2018-09-11T00:00:00",
          "2018-09-12T00:00:00",
          "2018-09-13T00:00:00",
          "2018-09-14T00:00:00",
          "2018-09-15T00:00:00",
          "2018-09-16T00:00:00",
          "2018-09-17T00:00:00",
          "2018-09-18T00:00:00",
          "2018-09-19T00:00:00",
          "2018-09-20T00:00:00",
          "2018-09-21T00:00:00",
          "2018-09-22T00:00:00",
          "2018-09-23T00:00:00",
          "2018-09-24T00:00:00",
          "2018-09-25T00:00:00",
          "2018-09-26T00:00:00",
          "2018-09-28T00:00:00",
          "2018-09-29T00:00:00",
          "2018-09-30T00:00:00",
          "2018-10-01T00:00:00",
          "2018-10-02T00:00:00",
          "2018-10-03T00:00:00",
          "2018-10-04T00:00:00",
          "2018-10-05T00:00:00",
          "2018-10-06T00:00:00",
          "2018-10-07T00:00:00",
          "2018-10-08T00:00:00",
          "2018-10-09T00:00:00",
          "2018-10-10T00:00:00",
          "2018-10-12T00:00:00",
          "2018-10-13T00:00:00",
          "2018-10-14T00:00:00",
          "2018-10-15T00:00:00",
          "2018-10-16T00:00:00",
          "2018-10-17T00:00:00",
          "2018-10-19T00:00:00",
          "2018-10-20T00:00:00",
          "2018-10-21T00:00:00",
          "2018-10-22T00:00:00",
          "2018-10-23T00:00:00",
          "2018-10-24T00:00:00",
          "2018-10-26T00:00:00",
          "2018-10-27T00:00:00",
          "2018-10-28T00:00:00",
          "2018-10-29T00:00:00",
          "2018-10-30T00:00:00",
          "2018-10-31T00:00:00",
          "2018-11-01T00:00:00",
          "2018-11-02T00:00:00",
          "2018-11-03T00:00:00",
          "2018-11-04T00:00:00",
          "2018-11-05T00:00:00",
          "2018-11-06T00:00:00",
          "2018-11-07T00:00:00",
          "2018-11-08T00:00:00",
          "2018-11-09T00:00:00",
          "2018-11-10T00:00:00",
          "2018-11-11T00:00:00",
          "2018-11-12T00:00:00",
          "2018-11-13T00:00:00",
          "2018-11-14T00:00:00",
          "2018-11-15T00:00:00",
          "2018-11-16T00:00:00",
          "2018-11-17T00:00:00",
          "2018-11-18T00:00:00",
          "2018-11-19T00:00:00",
          "2018-11-20T00:00:00",
          "2018-11-21T00:00:00",
          "2018-11-22T00:00:00",
          "2018-11-23T00:00:00",
          "2018-11-24T00:00:00",
          "2018-11-25T00:00:00",
          "2018-11-26T00:00:00",
          "2018-11-27T00:00:00",
          "2018-11-28T00:00:00",
          "2018-11-29T00:00:00",
          "2018-11-30T00:00:00",
          "2018-12-01T00:00:00",
          "2018-12-02T00:00:00",
          "2018-12-03T00:00:00",
          "2018-12-04T00:00:00",
          "2018-12-05T00:00:00",
          "2018-12-06T00:00:00",
          "2018-12-07T00:00:00",
          "2018-12-08T00:00:00",
          "2018-12-09T00:00:00",
          "2018-12-10T00:00:00",
          "2018-12-11T00:00:00",
          "2018-12-13T00:00:00",
          "2018-12-14T00:00:00",
          "2018-12-15T00:00:00",
          "2018-12-16T00:00:00",
          "2018-12-17T00:00:00",
          "2018-12-18T00:00:00",
          "2018-12-19T00:00:00",
          "2018-12-20T00:00:00",
          "2018-12-21T00:00:00",
          "2018-12-22T00:00:00",
          "2018-12-23T00:00:00",
          "2018-12-24T00:00:00",
          "2018-12-25T00:00:00",
          "2018-12-26T00:00:00",
          "2018-12-27T00:00:00",
          "2018-12-28T00:00:00",
          "2018-12-29T00:00:00",
          "2018-12-30T00:00:00"
         ],
         "xaxis": "x",
         "y": {
          "bdata": "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",
          "dtype": "i4"
         },
         "yaxis": "y"
        }
       ],
       "layout": {
        "legend": {
         "tracegroupgap": 0
        },
        "template": {
         "data": {
          "bar": [
           {
            "error_x": {
             "color": "#f2f5fa"
            },
            "error_y": {
             "color": "#f2f5fa"
            },
            "marker": {
             "line": {
              "color": "rgb(17,17,17)",
              "width": 0.5
             },
             "pattern": {
              "fillmode": "overlay",
              "size": 10,
              "solidity": 0.2
             }
            },
            "type": "bar"
           }
          ],
          "barpolar": [
           {
            "marker": {
             "line": {
              "color": "rgb(17,17,17)",
              "width": 0.5
             },
             "pattern": {
              "fillmode": "overlay",
              "size": 10,
              "solidity": 0.2
             }
            },
            "type": "barpolar"
           }
          ],
          "carpet": [
           {
            "aaxis": {
             "endlinecolor": "#A2B1C6",
             "gridcolor": "#506784",
             "linecolor": "#506784",
             "minorgridcolor": "#506784",
             "startlinecolor": "#A2B1C6"
            },
            "baxis": {
             "endlinecolor": "#A2B1C6",
             "gridcolor": "#506784",
             "linecolor": "#506784",
             "minorgridcolor": "#506784",
             "startlinecolor": "#A2B1C6"
            },
            "type": "carpet"
           }
          ],
          "choropleth": [
           {
            "colorbar": {
             "outlinewidth": 0,
             "ticks": ""
            },
            "type": "choropleth"
           }
          ],
          "contour": [
           {
            "colorbar": {
             "outlinewidth": 0,
             "ticks": ""
            },
            "colorscale": [
             [
              0,
              "#0d0887"
             ],
             [
              0.1111111111111111,
              "#46039f"
             ],
             [
              0.2222222222222222,
              "#7201a8"
             ],
             [
              0.3333333333333333,
              "#9c179e"
             ],
             [
              0.4444444444444444,
              "#bd3786"
             ],
             [
              0.5555555555555556,
              "#d8576b"
             ],
             [
              0.6666666666666666,
              "#ed7953"
             ],
             [
              0.7777777777777778,
              "#fb9f3a"
             ],
             [
              0.8888888888888888,
              "#fdca26"
             ],
             [
              1,
              "#f0f921"
             ]
            ],
            "type": "contour"
           }
          ],
          "contourcarpet": [
           {
            "colorbar": {
             "outlinewidth": 0,
             "ticks": ""
            },
            "type": "contourcarpet"
           }
          ],
          "heatmap": [
           {
            "colorbar": {
             "outlinewidth": 0,
             "ticks": ""
            },
            "colorscale": [
             [
              0,
              "#0d0887"
             ],
             [
              0.1111111111111111,
              "#46039f"
             ],
             [
              0.2222222222222222,
              "#7201a8"
             ],
             [
              0.3333333333333333,
              "#9c179e"
             ],
             [
              0.4444444444444444,
              "#bd3786"
             ],
             [
              0.5555555555555556,
              "#d8576b"
             ],
             [
              0.6666666666666666,
              "#ed7953"
             ],
             [
              0.7777777777777778,
              "#fb9f3a"
             ],
             [
              0.8888888888888888,
              "#fdca26"
             ],
             [
              1,
              "#f0f921"
             ]
            ],
            "type": "heatmap"
           }
          ],
          "histogram": [
           {
            "marker": {
             "pattern": {
              "fillmode": "overlay",
              "size": 10,
              "solidity": 0.2
             }
            },
            "type": "histogram"
           }
          ],
          "histogram2d": [
           {
            "colorbar": {
             "outlinewidth": 0,
             "ticks": ""
            },
            "colorscale": [
             [
              0,
              "#0d0887"
             ],
             [
              0.1111111111111111,
              "#46039f"
             ],
             [
              0.2222222222222222,
              "#7201a8"
             ],
             [
              0.3333333333333333,
              "#9c179e"
             ],
             [
              0.4444444444444444,
              "#bd3786"
             ],
             [
              0.5555555555555556,
              "#d8576b"
             ],
             [
              0.6666666666666666,
              "#ed7953"
             ],
             [
              0.7777777777777778,
              "#fb9f3a"
             ],
             [
              0.8888888888888888,
              "#fdca26"
             ],
             [
              1,
              "#f0f921"
             ]
            ],
            "type": "histogram2d"
           }
          ],
          "histogram2dcontour": [
           {
            "colorbar": {
             "outlinewidth": 0,
             "ticks": ""
            },
            "colorscale": [
             [
              0,
              "#0d0887"
             ],
             [
              0.1111111111111111,
              "#46039f"
             ],
             [
              0.2222222222222222,
              "#7201a8"
             ],
             [
              0.3333333333333333,
              "#9c179e"
             ],
             [
              0.4444444444444444,
              "#bd3786"
             ],
             [
              0.5555555555555556,
              "#d8576b"
             ],
             [
              0.6666666666666666,
              "#ed7953"
             ],
             [
              0.7777777777777778,
              "#fb9f3a"
             ],
             [
              0.8888888888888888,
              "#fdca26"
             ],
             [
              1,
              "#f0f921"
             ]
            ],
            "type": "histogram2dcontour"
           }
          ],
          "mesh3d": [
           {
            "colorbar": {
             "outlinewidth": 0,
             "ticks": ""
            },
            "type": "mesh3d"
           }
          ],
          "parcoords": [
           {
            "line": {
             "colorbar": {
              "outlinewidth": 0,
              "ticks": ""
             }
            },
            "type": "parcoords"
           }
          ],
          "pie": [
           {
            "automargin": true,
            "type": "pie"
           }
          ],
          "scatter": [
           {
            "marker": {
             "line": {
              "color": "#283442"
             }
            },
            "type": "scatter"
           }
          ],
          "scatter3d": [
           {
            "line": {
             "colorbar": {
              "outlinewidth": 0,
              "ticks": ""
             }
            },
            "marker": {
             "colorbar": {
              "outlinewidth": 0,
              "ticks": ""
             }
            },
            "type": "scatter3d"
           }
          ],
          "scattercarpet": [
           {
            "marker": {
             "colorbar": {
              "outlinewidth": 0,
              "ticks": ""
             }
            },
            "type": "scattercarpet"
           }
          ],
          "scattergeo": [
           {
            "marker": {
             "colorbar": {
              "outlinewidth": 0,
              "ticks": ""
             }
            },
            "type": "scattergeo"
           }
          ],
          "scattergl": [
           {
            "marker": {
             "line": {
              "color": "#283442"
             }
            },
            "type": "scattergl"
           }
          ],
          "scattermap": [
           {
            "marker": {
             "colorbar": {
              "outlinewidth": 0,
              "ticks": ""
             }
            },
            "type": "scattermap"
           }
          ],
          "scattermapbox": [
           {
            "marker": {
             "colorbar": {
              "outlinewidth": 0,
              "ticks": ""
             }
            },
            "type": "scattermapbox"
           }
          ],
          "scatterpolar": [
           {
            "marker": {
             "colorbar": {
              "outlinewidth": 0,
              "ticks": ""
             }
            },
            "type": "scatterpolar"
           }
          ],
          "scatterpolargl": [
           {
            "marker": {
             "colorbar": {
              "outlinewidth": 0,
              "ticks": ""
             }
            },
            "type": "scatterpolargl"
           }
          ],
          "scatterternary": [
           {
            "marker": {
             "colorbar": {
              "outlinewidth": 0,
              "ticks": ""
             }
            },
            "type": "scatterternary"
           }
          ],
          "surface": [
           {
            "colorbar": {
             "outlinewidth": 0,
             "ticks": ""
            },
            "colorscale": [
             [
              0,
              "#0d0887"
             ],
             [
              0.1111111111111111,
              "#46039f"
             ],
             [
              0.2222222222222222,
              "#7201a8"
             ],
             [
              0.3333333333333333,
              "#9c179e"
             ],
             [
              0.4444444444444444,
              "#bd3786"
             ],
             [
              0.5555555555555556,
              "#d8576b"
             ],
             [
              0.6666666666666666,
              "#ed7953"
             ],
             [
              0.7777777777777778,
              "#fb9f3a"
             ],
             [
              0.8888888888888888,
              "#fdca26"
             ],
             [
              1,
              "#f0f921"
             ]
            ],
            "type": "surface"
           }
          ],
          "table": [
           {
            "cells": {
             "fill": {
              "color": "#506784"
             },
             "line": {
              "color": "rgb(17,17,17)"
             }
            },
            "header": {
             "fill": {
              "color": "#2a3f5f"
             },
             "line": {
              "color": "rgb(17,17,17)"
             }
            },
            "type": "table"
           }
          ]
         },
         "layout": {
          "annotationdefaults": {
           "arrowcolor": "#f2f5fa",
           "arrowhead": 0,
           "arrowwidth": 1
          },
          "autotypenumbers": "strict",
          "coloraxis": {
           "colorbar": {
            "outlinewidth": 0,
            "ticks": ""
           }
          },
          "colorscale": {
           "diverging": [
            [
             0,
             "#8e0152"
            ],
            [
             0.1,
             "#c51b7d"
            ],
            [
             0.2,
             "#de77ae"
            ],
            [
             0.3,
             "#f1b6da"
            ],
            [
             0.4,
             "#fde0ef"
            ],
            [
             0.5,
             "#f7f7f7"
            ],
            [
             0.6,
             "#e6f5d0"
            ],
            [
             0.7,
             "#b8e186"
            ],
            [
             0.8,
             "#7fbc41"
            ],
            [
             0.9,
             "#4d9221"
            ],
            [
             1,
             "#276419"
            ]
           ],
           "sequential": [
            [
             0,
             "#0d0887"
            ],
            [
             0.1111111111111111,
             "#46039f"
            ],
            [
             0.2222222222222222,
             "#7201a8"
            ],
            [
             0.3333333333333333,
             "#9c179e"
            ],
            [
             0.4444444444444444,
             "#bd3786"
            ],
            [
             0.5555555555555556,
             "#d8576b"
            ],
            [
             0.6666666666666666,
             "#ed7953"
            ],
            [
             0.7777777777777778,
             "#fb9f3a"
            ],
            [
             0.8888888888888888,
             "#fdca26"
            ],
            [
             1,
             "#f0f921"
            ]
           ],
           "sequentialminus": [
            [
             0,
             "#0d0887"
            ],
            [
             0.1111111111111111,
             "#46039f"
            ],
            [
             0.2222222222222222,
             "#7201a8"
            ],
            [
             0.3333333333333333,
             "#9c179e"
            ],
            [
             0.4444444444444444,
             "#bd3786"
            ],
            [
             0.5555555555555556,
             "#d8576b"
            ],
            [
             0.6666666666666666,
             "#ed7953"
            ],
            [
             0.7777777777777778,
             "#fb9f3a"
            ],
            [
             0.8888888888888888,
             "#fdca26"
            ],
            [
             1,
             "#f0f921"
            ]
           ]
          },
          "colorway": [
           "#636efa",
           "#EF553B",
           "#00cc96",
           "#ab63fa",
           "#FFA15A",
           "#19d3f3",
           "#FF6692",
           "#B6E880",
           "#FF97FF",
           "#FECB52"
          ],
          "font": {
           "color": "#f2f5fa"
          },
          "geo": {
           "bgcolor": "rgb(17,17,17)",
           "lakecolor": "rgb(17,17,17)",
           "landcolor": "rgb(17,17,17)",
           "showlakes": true,
           "showland": true,
           "subunitcolor": "#506784"
          },
          "hoverlabel": {
           "align": "left"
          },
          "hovermode": "closest",
          "mapbox": {
           "style": "dark"
          },
          "paper_bgcolor": "rgb(17,17,17)",
          "plot_bgcolor": "rgb(17,17,17)",
          "polar": {
           "angularaxis": {
            "gridcolor": "#506784",
            "linecolor": "#506784",
            "ticks": ""
           },
           "bgcolor": "rgb(17,17,17)",
           "radialaxis": {
            "gridcolor": "#506784",
            "linecolor": "#506784",
            "ticks": ""
           }
          },
          "scene": {
           "xaxis": {
            "backgroundcolor": "rgb(17,17,17)",
            "gridcolor": "#506784",
            "gridwidth": 2,
            "linecolor": "#506784",
            "showbackground": true,
            "ticks": "",
            "zerolinecolor": "#C8D4E3"
           },
           "yaxis": {
            "backgroundcolor": "rgb(17,17,17)",
            "gridcolor": "#506784",
            "gridwidth": 2,
            "linecolor": "#506784",
            "showbackground": true,
            "ticks": "",
            "zerolinecolor": "#C8D4E3"
           },
           "zaxis": {
            "backgroundcolor": "rgb(17,17,17)",
            "gridcolor": "#506784",
            "gridwidth": 2,
            "linecolor": "#506784",
            "showbackground": true,
            "ticks": "",
            "zerolinecolor": "#C8D4E3"
           }
          },
          "shapedefaults": {
           "line": {
            "color": "#f2f5fa"
           }
          },
          "sliderdefaults": {
           "bgcolor": "#C8D4E3",
           "bordercolor": "rgb(17,17,17)",
           "borderwidth": 1,
           "tickwidth": 0
          },
          "ternary": {
           "aaxis": {
            "gridcolor": "#506784",
            "linecolor": "#506784",
            "ticks": ""
           },
           "baxis": {
            "gridcolor": "#506784",
            "linecolor": "#506784",
            "ticks": ""
           },
           "bgcolor": "rgb(17,17,17)",
           "caxis": {
            "gridcolor": "#506784",
            "linecolor": "#506784",
            "ticks": ""
           }
          },
          "title": {
           "x": 0.05
          },
          "updatemenudefaults": {
           "bgcolor": "#506784",
           "borderwidth": 0
          },
          "xaxis": {
           "automargin": true,
           "gridcolor": "#283442",
           "linecolor": "#506784",
           "ticks": "",
           "title": {
            "standoff": 15
           },
           "zerolinecolor": "#283442",
           "zerolinewidth": 2
          },
          "yaxis": {
           "automargin": true,
           "gridcolor": "#283442",
           "linecolor": "#506784",
           "ticks": "",
           "title": {
            "standoff": 15
           },
           "zerolinecolor": "#283442",
           "zerolinewidth": 2
          }
         }
        },
        "title": {
         "text": "Sales Trend Over Time"
        },
        "xaxis": {
         "anchor": "y",
         "domain": [
          0,
          1
         ],
         "title": {
          "text": "Order Date"
         }
        },
        "yaxis": {
         "anchor": "x",
         "domain": [
          0,
          1
         ],
         "title": {
          "text": "Sales"
         }
        }
       }
      }
     },
     "metadata": {},
     "output_type": "display_data"
    }
   ],
   "source": [
    "sales_over_time = df.groupby('Order Date')['Sales'].sum().reset_index()\n",
    "\n",
    "fig = px.line(sales_over_time, x='Order Date', y='Sales',\n",
    "               title=\"Sales Trend Over Time\")\n",
    "fig.update_layout(xaxis_title=\"Order Date\", yaxis_title=\"Sales\")\n",
    "\n",
    "fig.show()"
   ]
  },
  {
   "cell_type": "code",
   "execution_count": 33,
   "metadata": {
    "ExecuteTime": {
     "end_time": "2025-05-11T14:27:44.474745Z",
     "start_time": "2025-05-11T14:27:44.442512Z"
    },
    "colab": {
     "base_uri": "https://localhost:8080/",
     "height": 542
    },
    "id": "NE7gTdsgQqO0",
    "outputId": "2a383292-0e2f-4e6c-d8fe-243307373869"
   },
   "outputs": [
    {
     "data": {
      "application/vnd.plotly.v1+json": {
       "config": {
        "plotlyServerURL": "https://plot.ly"
       },
       "data": [
        {
         "hovertemplate": "Category=%{x}<br>Total Sales (₹)=%{y}<br>Profit=%{marker.color}<extra></extra>",
         "legendgroup": "",
         "marker": {
          "color": {
           "bdata": "7FG4HhIhIEFSuB6FSwogQQrXo3B6UCFBexSuRxUmIEEpXI/CwC8gQY/C9SidYx5BMzMzs+VWIUE=",
           "dtype": "f8"
          },
          "coloraxis": "coloraxis",
          "pattern": {
           "shape": ""
          }
         },
         "name": "",
         "orientation": "v",
         "showlegend": false,
         "textposition": "auto",
         "type": "bar",
         "x": [
          "Bakery",
          "Beverages",
          "Eggs, Meat & Fish",
          "Food Grains",
          "Fruits & Veggies",
          "Oil & Masala",
          "Snacks"
         ],
         "xaxis": "x",
         "y": {
          "bdata": "GTsgAMHRHwAJmSIAyEYgAPcNIACqGh8AaiQiAA==",
          "dtype": "i4"
         },
         "yaxis": "y"
        }
       ],
       "layout": {
        "barmode": "relative",
        "coloraxis": {
         "colorbar": {
          "title": {
           "text": "Profit"
          }
         },
         "colorscale": [
          [
           0,
           "rgb(247,251,255)"
          ],
          [
           0.125,
           "rgb(222,235,247)"
          ],
          [
           0.25,
           "rgb(198,219,239)"
          ],
          [
           0.375,
           "rgb(158,202,225)"
          ],
          [
           0.5,
           "rgb(107,174,214)"
          ],
          [
           0.625,
           "rgb(66,146,198)"
          ],
          [
           0.75,
           "rgb(33,113,181)"
          ],
          [
           0.875,
           "rgb(8,81,156)"
          ],
          [
           1,
           "rgb(8,48,107)"
          ]
         ]
        },
        "legend": {
         "tracegroupgap": 0
        },
        "template": {
         "data": {
          "bar": [
           {
            "error_x": {
             "color": "#f2f5fa"
            },
            "error_y": {
             "color": "#f2f5fa"
            },
            "marker": {
             "line": {
              "color": "rgb(17,17,17)",
              "width": 0.5
             },
             "pattern": {
              "fillmode": "overlay",
              "size": 10,
              "solidity": 0.2
             }
            },
            "type": "bar"
           }
          ],
          "barpolar": [
           {
            "marker": {
             "line": {
              "color": "rgb(17,17,17)",
              "width": 0.5
             },
             "pattern": {
              "fillmode": "overlay",
              "size": 10,
              "solidity": 0.2
             }
            },
            "type": "barpolar"
           }
          ],
          "carpet": [
           {
            "aaxis": {
             "endlinecolor": "#A2B1C6",
             "gridcolor": "#506784",
             "linecolor": "#506784",
             "minorgridcolor": "#506784",
             "startlinecolor": "#A2B1C6"
            },
            "baxis": {
             "endlinecolor": "#A2B1C6",
             "gridcolor": "#506784",
             "linecolor": "#506784",
             "minorgridcolor": "#506784",
             "startlinecolor": "#A2B1C6"
            },
            "type": "carpet"
           }
          ],
          "choropleth": [
           {
            "colorbar": {
             "outlinewidth": 0,
             "ticks": ""
            },
            "type": "choropleth"
           }
          ],
          "contour": [
           {
            "colorbar": {
             "outlinewidth": 0,
             "ticks": ""
            },
            "colorscale": [
             [
              0,
              "#0d0887"
             ],
             [
              0.1111111111111111,
              "#46039f"
             ],
             [
              0.2222222222222222,
              "#7201a8"
             ],
             [
              0.3333333333333333,
              "#9c179e"
             ],
             [
              0.4444444444444444,
              "#bd3786"
             ],
             [
              0.5555555555555556,
              "#d8576b"
             ],
             [
              0.6666666666666666,
              "#ed7953"
             ],
             [
              0.7777777777777778,
              "#fb9f3a"
             ],
             [
              0.8888888888888888,
              "#fdca26"
             ],
             [
              1,
              "#f0f921"
             ]
            ],
            "type": "contour"
           }
          ],
          "contourcarpet": [
           {
            "colorbar": {
             "outlinewidth": 0,
             "ticks": ""
            },
            "type": "contourcarpet"
           }
          ],
          "heatmap": [
           {
            "colorbar": {
             "outlinewidth": 0,
             "ticks": ""
            },
            "colorscale": [
             [
              0,
              "#0d0887"
             ],
             [
              0.1111111111111111,
              "#46039f"
             ],
             [
              0.2222222222222222,
              "#7201a8"
             ],
             [
              0.3333333333333333,
              "#9c179e"
             ],
             [
              0.4444444444444444,
              "#bd3786"
             ],
             [
              0.5555555555555556,
              "#d8576b"
             ],
             [
              0.6666666666666666,
              "#ed7953"
             ],
             [
              0.7777777777777778,
              "#fb9f3a"
             ],
             [
              0.8888888888888888,
              "#fdca26"
             ],
             [
              1,
              "#f0f921"
             ]
            ],
            "type": "heatmap"
           }
          ],
          "histogram": [
           {
            "marker": {
             "pattern": {
              "fillmode": "overlay",
              "size": 10,
              "solidity": 0.2
             }
            },
            "type": "histogram"
           }
          ],
          "histogram2d": [
           {
            "colorbar": {
             "outlinewidth": 0,
             "ticks": ""
            },
            "colorscale": [
             [
              0,
              "#0d0887"
             ],
             [
              0.1111111111111111,
              "#46039f"
             ],
             [
              0.2222222222222222,
              "#7201a8"
             ],
             [
              0.3333333333333333,
              "#9c179e"
             ],
             [
              0.4444444444444444,
              "#bd3786"
             ],
             [
              0.5555555555555556,
              "#d8576b"
             ],
             [
              0.6666666666666666,
              "#ed7953"
             ],
             [
              0.7777777777777778,
              "#fb9f3a"
             ],
             [
              0.8888888888888888,
              "#fdca26"
             ],
             [
              1,
              "#f0f921"
             ]
            ],
            "type": "histogram2d"
           }
          ],
          "histogram2dcontour": [
           {
            "colorbar": {
             "outlinewidth": 0,
             "ticks": ""
            },
            "colorscale": [
             [
              0,
              "#0d0887"
             ],
             [
              0.1111111111111111,
              "#46039f"
             ],
             [
              0.2222222222222222,
              "#7201a8"
             ],
             [
              0.3333333333333333,
              "#9c179e"
             ],
             [
              0.4444444444444444,
              "#bd3786"
             ],
             [
              0.5555555555555556,
              "#d8576b"
             ],
             [
              0.6666666666666666,
              "#ed7953"
             ],
             [
              0.7777777777777778,
              "#fb9f3a"
             ],
             [
              0.8888888888888888,
              "#fdca26"
             ],
             [
              1,
              "#f0f921"
             ]
            ],
            "type": "histogram2dcontour"
           }
          ],
          "mesh3d": [
           {
            "colorbar": {
             "outlinewidth": 0,
             "ticks": ""
            },
            "type": "mesh3d"
           }
          ],
          "parcoords": [
           {
            "line": {
             "colorbar": {
              "outlinewidth": 0,
              "ticks": ""
             }
            },
            "type": "parcoords"
           }
          ],
          "pie": [
           {
            "automargin": true,
            "type": "pie"
           }
          ],
          "scatter": [
           {
            "marker": {
             "line": {
              "color": "#283442"
             }
            },
            "type": "scatter"
           }
          ],
          "scatter3d": [
           {
            "line": {
             "colorbar": {
              "outlinewidth": 0,
              "ticks": ""
             }
            },
            "marker": {
             "colorbar": {
              "outlinewidth": 0,
              "ticks": ""
             }
            },
            "type": "scatter3d"
           }
          ],
          "scattercarpet": [
           {
            "marker": {
             "colorbar": {
              "outlinewidth": 0,
              "ticks": ""
             }
            },
            "type": "scattercarpet"
           }
          ],
          "scattergeo": [
           {
            "marker": {
             "colorbar": {
              "outlinewidth": 0,
              "ticks": ""
             }
            },
            "type": "scattergeo"
           }
          ],
          "scattergl": [
           {
            "marker": {
             "line": {
              "color": "#283442"
             }
            },
            "type": "scattergl"
           }
          ],
          "scattermap": [
           {
            "marker": {
             "colorbar": {
              "outlinewidth": 0,
              "ticks": ""
             }
            },
            "type": "scattermap"
           }
          ],
          "scattermapbox": [
           {
            "marker": {
             "colorbar": {
              "outlinewidth": 0,
              "ticks": ""
             }
            },
            "type": "scattermapbox"
           }
          ],
          "scatterpolar": [
           {
            "marker": {
             "colorbar": {
              "outlinewidth": 0,
              "ticks": ""
             }
            },
            "type": "scatterpolar"
           }
          ],
          "scatterpolargl": [
           {
            "marker": {
             "colorbar": {
              "outlinewidth": 0,
              "ticks": ""
             }
            },
            "type": "scatterpolargl"
           }
          ],
          "scatterternary": [
           {
            "marker": {
             "colorbar": {
              "outlinewidth": 0,
              "ticks": ""
             }
            },
            "type": "scatterternary"
           }
          ],
          "surface": [
           {
            "colorbar": {
             "outlinewidth": 0,
             "ticks": ""
            },
            "colorscale": [
             [
              0,
              "#0d0887"
             ],
             [
              0.1111111111111111,
              "#46039f"
             ],
             [
              0.2222222222222222,
              "#7201a8"
             ],
             [
              0.3333333333333333,
              "#9c179e"
             ],
             [
              0.4444444444444444,
              "#bd3786"
             ],
             [
              0.5555555555555556,
              "#d8576b"
             ],
             [
              0.6666666666666666,
              "#ed7953"
             ],
             [
              0.7777777777777778,
              "#fb9f3a"
             ],
             [
              0.8888888888888888,
              "#fdca26"
             ],
             [
              1,
              "#f0f921"
             ]
            ],
            "type": "surface"
           }
          ],
          "table": [
           {
            "cells": {
             "fill": {
              "color": "#506784"
             },
             "line": {
              "color": "rgb(17,17,17)"
             }
            },
            "header": {
             "fill": {
              "color": "#2a3f5f"
             },
             "line": {
              "color": "rgb(17,17,17)"
             }
            },
            "type": "table"
           }
          ]
         },
         "layout": {
          "annotationdefaults": {
           "arrowcolor": "#f2f5fa",
           "arrowhead": 0,
           "arrowwidth": 1
          },
          "autotypenumbers": "strict",
          "coloraxis": {
           "colorbar": {
            "outlinewidth": 0,
            "ticks": ""
           }
          },
          "colorscale": {
           "diverging": [
            [
             0,
             "#8e0152"
            ],
            [
             0.1,
             "#c51b7d"
            ],
            [
             0.2,
             "#de77ae"
            ],
            [
             0.3,
             "#f1b6da"
            ],
            [
             0.4,
             "#fde0ef"
            ],
            [
             0.5,
             "#f7f7f7"
            ],
            [
             0.6,
             "#e6f5d0"
            ],
            [
             0.7,
             "#b8e186"
            ],
            [
             0.8,
             "#7fbc41"
            ],
            [
             0.9,
             "#4d9221"
            ],
            [
             1,
             "#276419"
            ]
           ],
           "sequential": [
            [
             0,
             "#0d0887"
            ],
            [
             0.1111111111111111,
             "#46039f"
            ],
            [
             0.2222222222222222,
             "#7201a8"
            ],
            [
             0.3333333333333333,
             "#9c179e"
            ],
            [
             0.4444444444444444,
             "#bd3786"
            ],
            [
             0.5555555555555556,
             "#d8576b"
            ],
            [
             0.6666666666666666,
             "#ed7953"
            ],
            [
             0.7777777777777778,
             "#fb9f3a"
            ],
            [
             0.8888888888888888,
             "#fdca26"
            ],
            [
             1,
             "#f0f921"
            ]
           ],
           "sequentialminus": [
            [
             0,
             "#0d0887"
            ],
            [
             0.1111111111111111,
             "#46039f"
            ],
            [
             0.2222222222222222,
             "#7201a8"
            ],
            [
             0.3333333333333333,
             "#9c179e"
            ],
            [
             0.4444444444444444,
             "#bd3786"
            ],
            [
             0.5555555555555556,
             "#d8576b"
            ],
            [
             0.6666666666666666,
             "#ed7953"
            ],
            [
             0.7777777777777778,
             "#fb9f3a"
            ],
            [
             0.8888888888888888,
             "#fdca26"
            ],
            [
             1,
             "#f0f921"
            ]
           ]
          },
          "colorway": [
           "#636efa",
           "#EF553B",
           "#00cc96",
           "#ab63fa",
           "#FFA15A",
           "#19d3f3",
           "#FF6692",
           "#B6E880",
           "#FF97FF",
           "#FECB52"
          ],
          "font": {
           "color": "#f2f5fa"
          },
          "geo": {
           "bgcolor": "rgb(17,17,17)",
           "lakecolor": "rgb(17,17,17)",
           "landcolor": "rgb(17,17,17)",
           "showlakes": true,
           "showland": true,
           "subunitcolor": "#506784"
          },
          "hoverlabel": {
           "align": "left"
          },
          "hovermode": "closest",
          "mapbox": {
           "style": "dark"
          },
          "paper_bgcolor": "rgb(17,17,17)",
          "plot_bgcolor": "rgb(17,17,17)",
          "polar": {
           "angularaxis": {
            "gridcolor": "#506784",
            "linecolor": "#506784",
            "ticks": ""
           },
           "bgcolor": "rgb(17,17,17)",
           "radialaxis": {
            "gridcolor": "#506784",
            "linecolor": "#506784",
            "ticks": ""
           }
          },
          "scene": {
           "xaxis": {
            "backgroundcolor": "rgb(17,17,17)",
            "gridcolor": "#506784",
            "gridwidth": 2,
            "linecolor": "#506784",
            "showbackground": true,
            "ticks": "",
            "zerolinecolor": "#C8D4E3"
           },
           "yaxis": {
            "backgroundcolor": "rgb(17,17,17)",
            "gridcolor": "#506784",
            "gridwidth": 2,
            "linecolor": "#506784",
            "showbackground": true,
            "ticks": "",
            "zerolinecolor": "#C8D4E3"
           },
           "zaxis": {
            "backgroundcolor": "rgb(17,17,17)",
            "gridcolor": "#506784",
            "gridwidth": 2,
            "linecolor": "#506784",
            "showbackground": true,
            "ticks": "",
            "zerolinecolor": "#C8D4E3"
           }
          },
          "shapedefaults": {
           "line": {
            "color": "#f2f5fa"
           }
          },
          "sliderdefaults": {
           "bgcolor": "#C8D4E3",
           "bordercolor": "rgb(17,17,17)",
           "borderwidth": 1,
           "tickwidth": 0
          },
          "ternary": {
           "aaxis": {
            "gridcolor": "#506784",
            "linecolor": "#506784",
            "ticks": ""
           },
           "baxis": {
            "gridcolor": "#506784",
            "linecolor": "#506784",
            "ticks": ""
           },
           "bgcolor": "rgb(17,17,17)",
           "caxis": {
            "gridcolor": "#506784",
            "linecolor": "#506784",
            "ticks": ""
           }
          },
          "title": {
           "x": 0.05
          },
          "updatemenudefaults": {
           "bgcolor": "#506784",
           "borderwidth": 0
          },
          "xaxis": {
           "automargin": true,
           "gridcolor": "#283442",
           "linecolor": "#506784",
           "ticks": "",
           "title": {
            "standoff": 15
           },
           "zerolinecolor": "#283442",
           "zerolinewidth": 2
          },
          "yaxis": {
           "automargin": true,
           "gridcolor": "#283442",
           "linecolor": "#506784",
           "ticks": "",
           "title": {
            "standoff": 15
           },
           "zerolinecolor": "#283442",
           "zerolinewidth": 2
          }
         }
        },
        "title": {
         "text": "Sales Distribution Across Product Categories"
        },
        "xaxis": {
         "anchor": "y",
         "categoryorder": "total descending",
         "domain": [
          0,
          1
         ],
         "title": {
          "text": "Category"
         }
        },
        "yaxis": {
         "anchor": "x",
         "domain": [
          0,
          1
         ],
         "title": {
          "text": "Total Sales (₹)"
         }
        }
       }
      }
     },
     "metadata": {},
     "output_type": "display_data"
    }
   ],
   "source": [
    "category_sales = df.groupby('Category').agg({'Sales':'sum','Profit':'sum'}).reset_index()\n",
    "\n",
    "fig = px.bar(category_sales,\n",
    "             x='Category', y='Sales',\n",
    "             title='Sales Distribution Across Product Categories',\n",
    "             color='Profit',\n",
    "             color_continuous_scale='Blues',\n",
    "             labels={'Sales':'Total Sales (₹)'})\n",
    "fig.update_layout(xaxis={'categoryorder':'total descending'})\n",
    "fig.show()"
   ]
  },
  {
   "cell_type": "code",
   "execution_count": 34,
   "metadata": {
    "ExecuteTime": {
     "end_time": "2025-05-11T14:27:46.403759Z",
     "start_time": "2025-05-11T14:27:46.366941Z"
    },
    "colab": {
     "base_uri": "https://localhost:8080/",
     "height": 542
    },
    "id": "Y4WcKKyHZLIn",
    "outputId": "313ef873-7453-4975-9f79-3f2e2f3a2a7b"
   },
   "outputs": [
    {
     "data": {
      "application/vnd.plotly.v1+json": {
       "config": {
        "plotlyServerURL": "https://plot.ly"
       },
       "data": [
        {
         "coloraxis": "coloraxis",
         "hovertemplate": "x: %{x}<br>y: %{y}<br>Correlation: %{z}<extra></extra>",
         "name": "0",
         "texttemplate": "%{z}",
         "type": "heatmap",
         "x": [
          "Sales",
          "Discount",
          "Profit"
         ],
         "xaxis": "x",
         "y": [
          "Sales",
          "Discount",
          "Profit"
         ],
         "yaxis": "y",
         "z": {
          "bdata": "AAAAAAAA8D8Hw3IhQ5R2v042ifADX+M/B8NyIUOUdr8AAAAAAADwPzn03ps9U/I+TjaJ8ANf4z859N6bPVPyPgAAAAAAAPA/",
          "dtype": "f8",
          "shape": "3, 3"
         }
        }
       ],
       "layout": {
        "coloraxis": {
         "colorbar": {
          "title": {
           "text": "Correlation"
          }
         },
         "colorscale": [
          [
           0,
           "#440154"
          ],
          [
           0.1111111111111111,
           "#482878"
          ],
          [
           0.2222222222222222,
           "#3e4989"
          ],
          [
           0.3333333333333333,
           "#31688e"
          ],
          [
           0.4444444444444444,
           "#26828e"
          ],
          [
           0.5555555555555556,
           "#1f9e89"
          ],
          [
           0.6666666666666666,
           "#35b779"
          ],
          [
           0.7777777777777778,
           "#6ece58"
          ],
          [
           0.8888888888888888,
           "#b5de2b"
          ],
          [
           1,
           "#fde725"
          ]
         ]
        },
        "template": {
         "data": {
          "bar": [
           {
            "error_x": {
             "color": "#f2f5fa"
            },
            "error_y": {
             "color": "#f2f5fa"
            },
            "marker": {
             "line": {
              "color": "rgb(17,17,17)",
              "width": 0.5
             },
             "pattern": {
              "fillmode": "overlay",
              "size": 10,
              "solidity": 0.2
             }
            },
            "type": "bar"
           }
          ],
          "barpolar": [
           {
            "marker": {
             "line": {
              "color": "rgb(17,17,17)",
              "width": 0.5
             },
             "pattern": {
              "fillmode": "overlay",
              "size": 10,
              "solidity": 0.2
             }
            },
            "type": "barpolar"
           }
          ],
          "carpet": [
           {
            "aaxis": {
             "endlinecolor": "#A2B1C6",
             "gridcolor": "#506784",
             "linecolor": "#506784",
             "minorgridcolor": "#506784",
             "startlinecolor": "#A2B1C6"
            },
            "baxis": {
             "endlinecolor": "#A2B1C6",
             "gridcolor": "#506784",
             "linecolor": "#506784",
             "minorgridcolor": "#506784",
             "startlinecolor": "#A2B1C6"
            },
            "type": "carpet"
           }
          ],
          "choropleth": [
           {
            "colorbar": {
             "outlinewidth": 0,
             "ticks": ""
            },
            "type": "choropleth"
           }
          ],
          "contour": [
           {
            "colorbar": {
             "outlinewidth": 0,
             "ticks": ""
            },
            "colorscale": [
             [
              0,
              "#0d0887"
             ],
             [
              0.1111111111111111,
              "#46039f"
             ],
             [
              0.2222222222222222,
              "#7201a8"
             ],
             [
              0.3333333333333333,
              "#9c179e"
             ],
             [
              0.4444444444444444,
              "#bd3786"
             ],
             [
              0.5555555555555556,
              "#d8576b"
             ],
             [
              0.6666666666666666,
              "#ed7953"
             ],
             [
              0.7777777777777778,
              "#fb9f3a"
             ],
             [
              0.8888888888888888,
              "#fdca26"
             ],
             [
              1,
              "#f0f921"
             ]
            ],
            "type": "contour"
           }
          ],
          "contourcarpet": [
           {
            "colorbar": {
             "outlinewidth": 0,
             "ticks": ""
            },
            "type": "contourcarpet"
           }
          ],
          "heatmap": [
           {
            "colorbar": {
             "outlinewidth": 0,
             "ticks": ""
            },
            "colorscale": [
             [
              0,
              "#0d0887"
             ],
             [
              0.1111111111111111,
              "#46039f"
             ],
             [
              0.2222222222222222,
              "#7201a8"
             ],
             [
              0.3333333333333333,
              "#9c179e"
             ],
             [
              0.4444444444444444,
              "#bd3786"
             ],
             [
              0.5555555555555556,
              "#d8576b"
             ],
             [
              0.6666666666666666,
              "#ed7953"
             ],
             [
              0.7777777777777778,
              "#fb9f3a"
             ],
             [
              0.8888888888888888,
              "#fdca26"
             ],
             [
              1,
              "#f0f921"
             ]
            ],
            "type": "heatmap"
           }
          ],
          "histogram": [
           {
            "marker": {
             "pattern": {
              "fillmode": "overlay",
              "size": 10,
              "solidity": 0.2
             }
            },
            "type": "histogram"
           }
          ],
          "histogram2d": [
           {
            "colorbar": {
             "outlinewidth": 0,
             "ticks": ""
            },
            "colorscale": [
             [
              0,
              "#0d0887"
             ],
             [
              0.1111111111111111,
              "#46039f"
             ],
             [
              0.2222222222222222,
              "#7201a8"
             ],
             [
              0.3333333333333333,
              "#9c179e"
             ],
             [
              0.4444444444444444,
              "#bd3786"
             ],
             [
              0.5555555555555556,
              "#d8576b"
             ],
             [
              0.6666666666666666,
              "#ed7953"
             ],
             [
              0.7777777777777778,
              "#fb9f3a"
             ],
             [
              0.8888888888888888,
              "#fdca26"
             ],
             [
              1,
              "#f0f921"
             ]
            ],
            "type": "histogram2d"
           }
          ],
          "histogram2dcontour": [
           {
            "colorbar": {
             "outlinewidth": 0,
             "ticks": ""
            },
            "colorscale": [
             [
              0,
              "#0d0887"
             ],
             [
              0.1111111111111111,
              "#46039f"
             ],
             [
              0.2222222222222222,
              "#7201a8"
             ],
             [
              0.3333333333333333,
              "#9c179e"
             ],
             [
              0.4444444444444444,
              "#bd3786"
             ],
             [
              0.5555555555555556,
              "#d8576b"
             ],
             [
              0.6666666666666666,
              "#ed7953"
             ],
             [
              0.7777777777777778,
              "#fb9f3a"
             ],
             [
              0.8888888888888888,
              "#fdca26"
             ],
             [
              1,
              "#f0f921"
             ]
            ],
            "type": "histogram2dcontour"
           }
          ],
          "mesh3d": [
           {
            "colorbar": {
             "outlinewidth": 0,
             "ticks": ""
            },
            "type": "mesh3d"
           }
          ],
          "parcoords": [
           {
            "line": {
             "colorbar": {
              "outlinewidth": 0,
              "ticks": ""
             }
            },
            "type": "parcoords"
           }
          ],
          "pie": [
           {
            "automargin": true,
            "type": "pie"
           }
          ],
          "scatter": [
           {
            "marker": {
             "line": {
              "color": "#283442"
             }
            },
            "type": "scatter"
           }
          ],
          "scatter3d": [
           {
            "line": {
             "colorbar": {
              "outlinewidth": 0,
              "ticks": ""
             }
            },
            "marker": {
             "colorbar": {
              "outlinewidth": 0,
              "ticks": ""
             }
            },
            "type": "scatter3d"
           }
          ],
          "scattercarpet": [
           {
            "marker": {
             "colorbar": {
              "outlinewidth": 0,
              "ticks": ""
             }
            },
            "type": "scattercarpet"
           }
          ],
          "scattergeo": [
           {
            "marker": {
             "colorbar": {
              "outlinewidth": 0,
              "ticks": ""
             }
            },
            "type": "scattergeo"
           }
          ],
          "scattergl": [
           {
            "marker": {
             "line": {
              "color": "#283442"
             }
            },
            "type": "scattergl"
           }
          ],
          "scattermap": [
           {
            "marker": {
             "colorbar": {
              "outlinewidth": 0,
              "ticks": ""
             }
            },
            "type": "scattermap"
           }
          ],
          "scattermapbox": [
           {
            "marker": {
             "colorbar": {
              "outlinewidth": 0,
              "ticks": ""
             }
            },
            "type": "scattermapbox"
           }
          ],
          "scatterpolar": [
           {
            "marker": {
             "colorbar": {
              "outlinewidth": 0,
              "ticks": ""
             }
            },
            "type": "scatterpolar"
           }
          ],
          "scatterpolargl": [
           {
            "marker": {
             "colorbar": {
              "outlinewidth": 0,
              "ticks": ""
             }
            },
            "type": "scatterpolargl"
           }
          ],
          "scatterternary": [
           {
            "marker": {
             "colorbar": {
              "outlinewidth": 0,
              "ticks": ""
             }
            },
            "type": "scatterternary"
           }
          ],
          "surface": [
           {
            "colorbar": {
             "outlinewidth": 0,
             "ticks": ""
            },
            "colorscale": [
             [
              0,
              "#0d0887"
             ],
             [
              0.1111111111111111,
              "#46039f"
             ],
             [
              0.2222222222222222,
              "#7201a8"
             ],
             [
              0.3333333333333333,
              "#9c179e"
             ],
             [
              0.4444444444444444,
              "#bd3786"
             ],
             [
              0.5555555555555556,
              "#d8576b"
             ],
             [
              0.6666666666666666,
              "#ed7953"
             ],
             [
              0.7777777777777778,
              "#fb9f3a"
             ],
             [
              0.8888888888888888,
              "#fdca26"
             ],
             [
              1,
              "#f0f921"
             ]
            ],
            "type": "surface"
           }
          ],
          "table": [
           {
            "cells": {
             "fill": {
              "color": "#506784"
             },
             "line": {
              "color": "rgb(17,17,17)"
             }
            },
            "header": {
             "fill": {
              "color": "#2a3f5f"
             },
             "line": {
              "color": "rgb(17,17,17)"
             }
            },
            "type": "table"
           }
          ]
         },
         "layout": {
          "annotationdefaults": {
           "arrowcolor": "#f2f5fa",
           "arrowhead": 0,
           "arrowwidth": 1
          },
          "autotypenumbers": "strict",
          "coloraxis": {
           "colorbar": {
            "outlinewidth": 0,
            "ticks": ""
           }
          },
          "colorscale": {
           "diverging": [
            [
             0,
             "#8e0152"
            ],
            [
             0.1,
             "#c51b7d"
            ],
            [
             0.2,
             "#de77ae"
            ],
            [
             0.3,
             "#f1b6da"
            ],
            [
             0.4,
             "#fde0ef"
            ],
            [
             0.5,
             "#f7f7f7"
            ],
            [
             0.6,
             "#e6f5d0"
            ],
            [
             0.7,
             "#b8e186"
            ],
            [
             0.8,
             "#7fbc41"
            ],
            [
             0.9,
             "#4d9221"
            ],
            [
             1,
             "#276419"
            ]
           ],
           "sequential": [
            [
             0,
             "#0d0887"
            ],
            [
             0.1111111111111111,
             "#46039f"
            ],
            [
             0.2222222222222222,
             "#7201a8"
            ],
            [
             0.3333333333333333,
             "#9c179e"
            ],
            [
             0.4444444444444444,
             "#bd3786"
            ],
            [
             0.5555555555555556,
             "#d8576b"
            ],
            [
             0.6666666666666666,
             "#ed7953"
            ],
            [
             0.7777777777777778,
             "#fb9f3a"
            ],
            [
             0.8888888888888888,
             "#fdca26"
            ],
            [
             1,
             "#f0f921"
            ]
           ],
           "sequentialminus": [
            [
             0,
             "#0d0887"
            ],
            [
             0.1111111111111111,
             "#46039f"
            ],
            [
             0.2222222222222222,
             "#7201a8"
            ],
            [
             0.3333333333333333,
             "#9c179e"
            ],
            [
             0.4444444444444444,
             "#bd3786"
            ],
            [
             0.5555555555555556,
             "#d8576b"
            ],
            [
             0.6666666666666666,
             "#ed7953"
            ],
            [
             0.7777777777777778,
             "#fb9f3a"
            ],
            [
             0.8888888888888888,
             "#fdca26"
            ],
            [
             1,
             "#f0f921"
            ]
           ]
          },
          "colorway": [
           "#636efa",
           "#EF553B",
           "#00cc96",
           "#ab63fa",
           "#FFA15A",
           "#19d3f3",
           "#FF6692",
           "#B6E880",
           "#FF97FF",
           "#FECB52"
          ],
          "font": {
           "color": "#f2f5fa"
          },
          "geo": {
           "bgcolor": "rgb(17,17,17)",
           "lakecolor": "rgb(17,17,17)",
           "landcolor": "rgb(17,17,17)",
           "showlakes": true,
           "showland": true,
           "subunitcolor": "#506784"
          },
          "hoverlabel": {
           "align": "left"
          },
          "hovermode": "closest",
          "mapbox": {
           "style": "dark"
          },
          "paper_bgcolor": "rgb(17,17,17)",
          "plot_bgcolor": "rgb(17,17,17)",
          "polar": {
           "angularaxis": {
            "gridcolor": "#506784",
            "linecolor": "#506784",
            "ticks": ""
           },
           "bgcolor": "rgb(17,17,17)",
           "radialaxis": {
            "gridcolor": "#506784",
            "linecolor": "#506784",
            "ticks": ""
           }
          },
          "scene": {
           "xaxis": {
            "backgroundcolor": "rgb(17,17,17)",
            "gridcolor": "#506784",
            "gridwidth": 2,
            "linecolor": "#506784",
            "showbackground": true,
            "ticks": "",
            "zerolinecolor": "#C8D4E3"
           },
           "yaxis": {
            "backgroundcolor": "rgb(17,17,17)",
            "gridcolor": "#506784",
            "gridwidth": 2,
            "linecolor": "#506784",
            "showbackground": true,
            "ticks": "",
            "zerolinecolor": "#C8D4E3"
           },
           "zaxis": {
            "backgroundcolor": "rgb(17,17,17)",
            "gridcolor": "#506784",
            "gridwidth": 2,
            "linecolor": "#506784",
            "showbackground": true,
            "ticks": "",
            "zerolinecolor": "#C8D4E3"
           }
          },
          "shapedefaults": {
           "line": {
            "color": "#f2f5fa"
           }
          },
          "sliderdefaults": {
           "bgcolor": "#C8D4E3",
           "bordercolor": "rgb(17,17,17)",
           "borderwidth": 1,
           "tickwidth": 0
          },
          "ternary": {
           "aaxis": {
            "gridcolor": "#506784",
            "linecolor": "#506784",
            "ticks": ""
           },
           "baxis": {
            "gridcolor": "#506784",
            "linecolor": "#506784",
            "ticks": ""
           },
           "bgcolor": "rgb(17,17,17)",
           "caxis": {
            "gridcolor": "#506784",
            "linecolor": "#506784",
            "ticks": ""
           }
          },
          "title": {
           "x": 0.05
          },
          "updatemenudefaults": {
           "bgcolor": "#506784",
           "borderwidth": 0
          },
          "xaxis": {
           "automargin": true,
           "gridcolor": "#283442",
           "linecolor": "#506784",
           "ticks": "",
           "title": {
            "standoff": 15
           },
           "zerolinecolor": "#283442",
           "zerolinewidth": 2
          },
          "yaxis": {
           "automargin": true,
           "gridcolor": "#283442",
           "linecolor": "#506784",
           "ticks": "",
           "title": {
            "standoff": 15
           },
           "zerolinecolor": "#283442",
           "zerolinewidth": 2
          }
         }
        },
        "title": {
         "text": "Feature Correlation Matrix"
        },
        "xaxis": {
         "anchor": "y",
         "constrain": "domain",
         "domain": [
          0,
          1
         ],
         "scaleanchor": "y"
        },
        "yaxis": {
         "anchor": "x",
         "autorange": "reversed",
         "constrain": "domain",
         "domain": [
          0,
          1
         ]
        }
       }
      }
     },
     "metadata": {},
     "output_type": "display_data"
    }
   ],
   "source": [
    "numeric_df = df[['Sales','Discount','Profit']]\n",
    "fig = px.imshow(numeric_df.corr(),\n",
    "                text_auto=True,\n",
    "                color_continuous_scale='Viridis',\n",
    "                title='Feature Correlation Matrix',\n",
    "                labels={'color':'Correlation'})\n",
    "fig.show()"
   ]
  },
  {
   "cell_type": "code",
   "execution_count": null,
   "metadata": {},
   "outputs": [],
   "source": []
  }
 ],
 "metadata": {
  "colab": {
   "provenance": []
  },
  "kernelspec": {
   "display_name": "Python 3",
   "language": "python",
   "name": "python3"
  },
  "language_info": {
   "codemirror_mode": {
    "name": "ipython",
    "version": 3
   },
   "file_extension": ".py",
   "mimetype": "text/x-python",
   "name": "python",
   "nbconvert_exporter": "python",
   "pygments_lexer": "ipython3",
   "version": "3.11.9"
  }
 },
 "nbformat": 4,
 "nbformat_minor": 0
}
